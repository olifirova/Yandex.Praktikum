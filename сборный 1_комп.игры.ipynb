{
 "cells": [
  {
   "cell_type": "markdown",
   "metadata": {},
   "source": [
    "<div class=\"alert alert-success\">\n",
    "<h2> Комментарий ревьюера 2</h2>\n",
    "\n",
    "Привет еще раз. Спасибо, что доделала работу. Оформление комментариев по работе сохраняется. Только обозначим, что это вторая итерация. \n",
    "\n",
    "</div>"
   ]
  },
  {
   "cell_type": "markdown",
   "metadata": {},
   "source": [
    "<div class=\"alert alert-success\">\n",
    "<h2> Комментарий ревьюера </h2>\n",
    "\n",
    "Привет! Спасибо, что прислала задание:) Поздравляю с приближением к концу первого модуля. Меня зовут Слепцов Артем и я буду проверять твой проект) Ты проделала большую работу над проектом, однако его еще можно улучшить. Будет здорово, если ты, надеюсь, не против, если я буду на ты,  будешь отвечать на комментарии и участвовать в диалоге. \n",
    "\n",
    "Мои комментарии обозначены пометкой **Комментарий ревьюера**. Далее в файле ты сможешь найти их в похожих ячейках (если фон комментария <font color=green>зелёный</font> - всё сделано правильно. Рекомендации укажу таким же цветом; <font color=orange>оранжевый</font> - некритичные замечания. Если таких замечаний меньше трех - проект может быть принят без их отработки; <font color=red>красный</font> - нужно переделать). Не удаляй эти комментарии и постарайся учесть их в ходе выполнения данного проекта. \n",
    "</div>\n",
    "<div class=\"alert alert-block alert-info\">\n",
    "Артём, привет! Спасибо за комментарии и полезные советы!\n",
    "</div>"
   ]
  },
  {
   "cell_type": "markdown",
   "metadata": {},
   "source": [
    "# Оглавление\n",
    "   [Определение закономерностей для определения успешности компьютерных игр. Введение](#шаг-0)\n",
    "   \n",
    "1. [Шаг 1. Загрузка файла с данными и изучение общей информации](#шаг-1)\n",
    "\n",
    "2. [Шаг 2. Подготовка данных](#шаг-2)\n",
    "\n",
    "3. [Шаг 3. Исследовательский анализ данных](#шаг-3)\n",
    "\n",
    "    3.1. [Количество игр за исследуемый период](#шаг-3-1)\n",
    "    \n",
    "    3.2. [Анализ игр для различных платформ](#шаг-3-2)\n",
    "    \n",
    "    3.3. [Анализ распределения игр по жанрам](#шаг-3-3)\n",
    "    \n",
    "    3.4. [Анализ продаж в зависимости от отзывов на базе популярной платформы](#шаг-3-4)\n",
    "    \n",
    "4. [Шаг 4. Составление портрета пользователя](#шаг-4)\n",
    "\n",
    "    4.1. [Самые популярные платформы (топ-5) для пользователя каждого региона](#шаг-4-1)\n",
    "    \n",
    "    4.2. [Самые популярные жанры (топ-5) для пользователя каждого региона](#шаг-4-2)\n",
    "    \n",
    "    4.3. [Влияние рейтинга ESRB на продажи в регионах](#шаг-4-3)\n",
    "\n",
    "5. [Шаг 5. Проверка гипотез](#шаг-5)\n",
    "\n",
    "    5.1. [Гипотеза: средние пользовательские рейтинги платформ Xbox One и PC одинаковые](#шаг-5-1)\n",
    "    \n",
    "    5.2. [Гипотеза: Средние пользовательские рейтинги жанров Action  и Sports  разные](#шаг-5-2) \n",
    "    \n",
    "6. [Шаг 6. Общие выводы](#шаг-6)\n",
    "\n",
    "7. [Рекомендации](#шаг-7)"
   ]
  },
  {
   "cell_type": "markdown",
   "metadata": {},
   "source": [
    "# Определение закономерностей для определения успешности компьютерных игр. Введение <a name=\"шаг-0\"></a>\n",
    "\n",
    "**Целью** данного исследования является определение закономерностей, определяющих успешность компьютерных игр для оценки потенциально популярных продуктов и планирования рекламных кампаний.\n",
    "\n",
    "\n",
    "**Заказчик исследования:** международный интернет-магазин по продаже компьютерных игр \"Стримчик\"\n",
    "\n",
    "**Задачи исследования:**  \n",
    "\n",
    "Для анализы предоставлен массив данных, включающий в себя:\n",
    "\n",
    "- Name — название игры\n",
    "- Platform — платформа\n",
    "- Year_of_Release — год выпуска\n",
    "- Genre — жанр игры\n",
    "- NA_sales — продажи в Северной Америке (миллионы проданных копий)\n",
    "- EU_sales — продажи в Европе (миллионы проданных копий)\n",
    "- JP_sales — продажи в Японии (миллионы проданных копий)\n",
    "- Other_sales — продажи в других странах (миллионы проданных копий)\n",
    "- Critic_Score — оценка критиков (максимум 100)\n",
    "- User_Score — оценка пользователей (максимум 10)\n",
    "- Rating — рейтинг от организации ESRB (англ. Entertainment Software Rating Board). Эта ассоциация определяет рейтинг компьютерных игр и присваивает им подходящую возрастную категорию.\n",
    "\n",
    "Данные за 2016 год могут быть неполными.\n",
    " \n"
   ]
  },
  {
   "cell_type": "markdown",
   "metadata": {},
   "source": [
    "<div class=\"alert alert-success\">\n",
    "<h2> Комментарий ревьюера</h2>\n",
    "\n",
    "Вступление в работу очень важно. Так ты поясняешь то, чему она посвящена. Здорово, что каждому пункту вводной информации ты уделила внимание. \n",
    "\n",
    "</div>"
   ]
  },
  {
   "cell_type": "markdown",
   "metadata": {},
   "source": [
    "# Шаг 1. Загрузка файла с данными и изучение общей информации <a name=\"шаг-1\"></a>"
   ]
  },
  {
   "cell_type": "markdown",
   "metadata": {},
   "source": [
    "<div class=\"alert alert-warning\">\n",
    "<h2> Комментарий ревьюера 2</h2>\n",
    "\n",
    "Я заметил, что ячейки в твоей тетрадке начинаются не с 1. Перед отправкой работы рекомендую перезапускать ноутбук, чтобы убедиться, что все ячейки выполняются корректно.\n",
    "\n",
    "</div>"
   ]
  },
  {
   "cell_type": "code",
   "execution_count": 1,
   "metadata": {},
   "outputs": [],
   "source": [
    "import pandas as pd #загружаем все необходимые библиотеки\n",
    "import numpy as np\n",
    "import random\n",
    "import math as mt\n",
    "from math import factorial\n",
    "from matplotlib import pyplot as plt\n",
    "from scipy import stats as st\n",
    "from scipy.stats import norm\n",
    "import warnings\n",
    "warnings.simplefilter(\"ignore\")\n",
    "import seaborn as sns\n",
    "\n",
    "\n",
    "df = pd.read_csv(r'/datasets/games.csv') #загружаем таблицу"
   ]
  },
  {
   "cell_type": "markdown",
   "metadata": {},
   "source": [
    "<div class=\"alert alert-success\">\n",
    "<h2> Комментарий ревьюера</h2>\n",
    "\n",
    "Правильно, что весь импорт ты проводишь в первой ячейке работы. Так твой коллега, запускающий работу, будет в курсе используемых в ней библиотек и сможет при необходимости быстро настроить окружение. \n",
    "\n",
    "</div>"
   ]
  },
  {
   "cell_type": "code",
   "execution_count": 2,
   "metadata": {},
   "outputs": [
    {
     "name": "stdout",
     "output_type": "stream",
     "text": [
      "<class 'pandas.core.frame.DataFrame'>\n",
      "RangeIndex: 16715 entries, 0 to 16714\n",
      "Data columns (total 11 columns):\n",
      "Name               16713 non-null object\n",
      "Platform           16715 non-null object\n",
      "Year_of_Release    16446 non-null float64\n",
      "Genre              16713 non-null object\n",
      "NA_sales           16715 non-null float64\n",
      "EU_sales           16715 non-null float64\n",
      "JP_sales           16715 non-null float64\n",
      "Other_sales        16715 non-null float64\n",
      "Critic_Score       8137 non-null float64\n",
      "User_Score         10014 non-null object\n",
      "Rating             9949 non-null object\n",
      "dtypes: float64(6), object(5)\n",
      "memory usage: 1.4+ MB\n"
     ]
    }
   ],
   "source": [
    "df.info()"
   ]
  },
  {
   "cell_type": "code",
   "execution_count": 3,
   "metadata": {},
   "outputs": [
    {
     "data": {
      "text/html": [
       "<div>\n",
       "<style scoped>\n",
       "    .dataframe tbody tr th:only-of-type {\n",
       "        vertical-align: middle;\n",
       "    }\n",
       "\n",
       "    .dataframe tbody tr th {\n",
       "        vertical-align: top;\n",
       "    }\n",
       "\n",
       "    .dataframe thead th {\n",
       "        text-align: right;\n",
       "    }\n",
       "</style>\n",
       "<table border=\"1\" class=\"dataframe\">\n",
       "  <thead>\n",
       "    <tr style=\"text-align: right;\">\n",
       "      <th></th>\n",
       "      <th>Name</th>\n",
       "      <th>Platform</th>\n",
       "      <th>Year_of_Release</th>\n",
       "      <th>Genre</th>\n",
       "      <th>NA_sales</th>\n",
       "      <th>EU_sales</th>\n",
       "      <th>JP_sales</th>\n",
       "      <th>Other_sales</th>\n",
       "      <th>Critic_Score</th>\n",
       "      <th>User_Score</th>\n",
       "      <th>Rating</th>\n",
       "    </tr>\n",
       "  </thead>\n",
       "  <tbody>\n",
       "    <tr>\n",
       "      <td>13865</td>\n",
       "      <td>Cyber Troopers Virtual-On Marz</td>\n",
       "      <td>PS2</td>\n",
       "      <td>2003.0</td>\n",
       "      <td>Fighting</td>\n",
       "      <td>0.02</td>\n",
       "      <td>0.01</td>\n",
       "      <td>0.00</td>\n",
       "      <td>0.00</td>\n",
       "      <td>NaN</td>\n",
       "      <td>NaN</td>\n",
       "      <td>NaN</td>\n",
       "    </tr>\n",
       "    <tr>\n",
       "      <td>16407</td>\n",
       "      <td>Happy Dance Collection</td>\n",
       "      <td>Wii</td>\n",
       "      <td>2008.0</td>\n",
       "      <td>Misc</td>\n",
       "      <td>0.00</td>\n",
       "      <td>0.00</td>\n",
       "      <td>0.01</td>\n",
       "      <td>0.00</td>\n",
       "      <td>NaN</td>\n",
       "      <td>NaN</td>\n",
       "      <td>NaN</td>\n",
       "    </tr>\n",
       "    <tr>\n",
       "      <td>13512</td>\n",
       "      <td>Guilty Gear XX Accent Core</td>\n",
       "      <td>PS2</td>\n",
       "      <td>2007.0</td>\n",
       "      <td>Fighting</td>\n",
       "      <td>0.00</td>\n",
       "      <td>0.00</td>\n",
       "      <td>0.04</td>\n",
       "      <td>0.00</td>\n",
       "      <td>77.0</td>\n",
       "      <td>8.3</td>\n",
       "      <td>T</td>\n",
       "    </tr>\n",
       "    <tr>\n",
       "      <td>14982</td>\n",
       "      <td>Duke Nukem 3D: 20th Anniversary World Tour</td>\n",
       "      <td>XOne</td>\n",
       "      <td>2016.0</td>\n",
       "      <td>Shooter</td>\n",
       "      <td>0.02</td>\n",
       "      <td>0.00</td>\n",
       "      <td>0.00</td>\n",
       "      <td>0.00</td>\n",
       "      <td>70.0</td>\n",
       "      <td>tbd</td>\n",
       "      <td>M</td>\n",
       "    </tr>\n",
       "    <tr>\n",
       "      <td>10532</td>\n",
       "      <td>America's Next Top Model</td>\n",
       "      <td>DS</td>\n",
       "      <td>2008.0</td>\n",
       "      <td>Action</td>\n",
       "      <td>0.10</td>\n",
       "      <td>0.00</td>\n",
       "      <td>0.00</td>\n",
       "      <td>0.01</td>\n",
       "      <td>NaN</td>\n",
       "      <td>tbd</td>\n",
       "      <td>E10+</td>\n",
       "    </tr>\n",
       "    <tr>\n",
       "      <td>14452</td>\n",
       "      <td>House M.D.</td>\n",
       "      <td>DS</td>\n",
       "      <td>2010.0</td>\n",
       "      <td>Adventure</td>\n",
       "      <td>0.02</td>\n",
       "      <td>0.00</td>\n",
       "      <td>0.00</td>\n",
       "      <td>0.00</td>\n",
       "      <td>NaN</td>\n",
       "      <td>NaN</td>\n",
       "      <td>T</td>\n",
       "    </tr>\n",
       "    <tr>\n",
       "      <td>15779</td>\n",
       "      <td>Tomb Raider: Legend</td>\n",
       "      <td>PC</td>\n",
       "      <td>2006.0</td>\n",
       "      <td>Action</td>\n",
       "      <td>0.00</td>\n",
       "      <td>0.01</td>\n",
       "      <td>0.00</td>\n",
       "      <td>0.00</td>\n",
       "      <td>82.0</td>\n",
       "      <td>7.9</td>\n",
       "      <td>T</td>\n",
       "    </tr>\n",
       "    <tr>\n",
       "      <td>14904</td>\n",
       "      <td>Bully: Scholarship Edition</td>\n",
       "      <td>PC</td>\n",
       "      <td>2008.0</td>\n",
       "      <td>Action</td>\n",
       "      <td>0.00</td>\n",
       "      <td>0.02</td>\n",
       "      <td>0.00</td>\n",
       "      <td>0.00</td>\n",
       "      <td>72.0</td>\n",
       "      <td>7.5</td>\n",
       "      <td>T</td>\n",
       "    </tr>\n",
       "    <tr>\n",
       "      <td>3220</td>\n",
       "      <td>XCOM: Enemy Unknown</td>\n",
       "      <td>X360</td>\n",
       "      <td>2012.0</td>\n",
       "      <td>Strategy</td>\n",
       "      <td>0.36</td>\n",
       "      <td>0.21</td>\n",
       "      <td>0.00</td>\n",
       "      <td>0.05</td>\n",
       "      <td>90.0</td>\n",
       "      <td>8.3</td>\n",
       "      <td>M</td>\n",
       "    </tr>\n",
       "    <tr>\n",
       "      <td>10542</td>\n",
       "      <td>Hunter: The Reckoning</td>\n",
       "      <td>GC</td>\n",
       "      <td>2002.0</td>\n",
       "      <td>Action</td>\n",
       "      <td>0.08</td>\n",
       "      <td>0.02</td>\n",
       "      <td>0.00</td>\n",
       "      <td>0.00</td>\n",
       "      <td>70.0</td>\n",
       "      <td>7.6</td>\n",
       "      <td>M</td>\n",
       "    </tr>\n",
       "  </tbody>\n",
       "</table>\n",
       "</div>"
      ],
      "text/plain": [
       "                                             Name Platform  Year_of_Release  \\\n",
       "13865              Cyber Troopers Virtual-On Marz      PS2           2003.0   \n",
       "16407                      Happy Dance Collection      Wii           2008.0   \n",
       "13512                  Guilty Gear XX Accent Core      PS2           2007.0   \n",
       "14982  Duke Nukem 3D: 20th Anniversary World Tour     XOne           2016.0   \n",
       "10532                    America's Next Top Model       DS           2008.0   \n",
       "14452                                  House M.D.       DS           2010.0   \n",
       "15779                         Tomb Raider: Legend       PC           2006.0   \n",
       "14904                  Bully: Scholarship Edition       PC           2008.0   \n",
       "3220                          XCOM: Enemy Unknown     X360           2012.0   \n",
       "10542                       Hunter: The Reckoning       GC           2002.0   \n",
       "\n",
       "           Genre  NA_sales  EU_sales  JP_sales  Other_sales  Critic_Score  \\\n",
       "13865   Fighting      0.02      0.01      0.00         0.00           NaN   \n",
       "16407       Misc      0.00      0.00      0.01         0.00           NaN   \n",
       "13512   Fighting      0.00      0.00      0.04         0.00          77.0   \n",
       "14982    Shooter      0.02      0.00      0.00         0.00          70.0   \n",
       "10532     Action      0.10      0.00      0.00         0.01           NaN   \n",
       "14452  Adventure      0.02      0.00      0.00         0.00           NaN   \n",
       "15779     Action      0.00      0.01      0.00         0.00          82.0   \n",
       "14904     Action      0.00      0.02      0.00         0.00          72.0   \n",
       "3220    Strategy      0.36      0.21      0.00         0.05          90.0   \n",
       "10542     Action      0.08      0.02      0.00         0.00          70.0   \n",
       "\n",
       "      User_Score Rating  \n",
       "13865        NaN    NaN  \n",
       "16407        NaN    NaN  \n",
       "13512        8.3      T  \n",
       "14982        tbd      M  \n",
       "10532        tbd   E10+  \n",
       "14452        NaN      T  \n",
       "15779        7.9      T  \n",
       "14904        7.5      T  \n",
       "3220         8.3      M  \n",
       "10542        7.6      M  "
      ]
     },
     "execution_count": 3,
     "metadata": {},
     "output_type": "execute_result"
    }
   ],
   "source": [
    "df.sample(10)"
   ]
  },
  {
   "cell_type": "code",
   "execution_count": 4,
   "metadata": {},
   "outputs": [
    {
     "data": {
      "text/plain": [
       "Name                  2\n",
       "Platform              0\n",
       "Year_of_Release     269\n",
       "Genre                 2\n",
       "NA_sales              0\n",
       "EU_sales              0\n",
       "JP_sales              0\n",
       "Other_sales           0\n",
       "Critic_Score       8578\n",
       "User_Score         6701\n",
       "Rating             6766\n",
       "dtype: int64"
      ]
     },
     "execution_count": 4,
     "metadata": {},
     "output_type": "execute_result"
    }
   ],
   "source": [
    "df.isna().sum() #оценим, сколько пропущенных значений в исследуемом датафрейме"
   ]
  },
  {
   "cell_type": "code",
   "execution_count": 5,
   "metadata": {},
   "outputs": [
    {
     "data": {
      "text/plain": [
       "0"
      ]
     },
     "execution_count": 5,
     "metadata": {},
     "output_type": "execute_result"
    }
   ],
   "source": [
    "df.duplicated().sum() #проверка на наличие дублей строк"
   ]
  },
  {
   "cell_type": "code",
   "execution_count": 6,
   "metadata": {},
   "outputs": [
    {
     "data": {
      "text/plain": [
       "Need for Speed: Most Wanted                 12\n",
       "Madden NFL 07                                9\n",
       "Ratatouille                                  9\n",
       "FIFA 14                                      9\n",
       "LEGO Marvel Super Heroes                     9\n",
       "                                            ..\n",
       "Kirby: Planet Robobot                        1\n",
       "Resistance: Fall of Man                      1\n",
       "Etrian Odyssey IV: Legends of the Titans     1\n",
       "Driver 2 Advance                             1\n",
       "Stella Glow                                  1\n",
       "Name: Name, Length: 11560, dtype: int64"
      ]
     },
     "execution_count": 6,
     "metadata": {},
     "output_type": "execute_result"
    }
   ],
   "source": [
    "df['Name'].value_counts(dropna=False) #оценим, сколько уникальных имён содержит столбец name"
   ]
  },
  {
   "cell_type": "markdown",
   "metadata": {},
   "source": [
    "11560 уникальных названий и 2 пропущенные строки."
   ]
  },
  {
   "cell_type": "code",
   "execution_count": 7,
   "metadata": {},
   "outputs": [
    {
     "data": {
      "text/plain": [
       "PS2     2161\n",
       "DS      2151\n",
       "PS3     1331\n",
       "Wii     1320\n",
       "X360    1262\n",
       "PSP     1209\n",
       "PS      1197\n",
       "PC       974\n",
       "XB       824\n",
       "GBA      822\n",
       "GC       556\n",
       "3DS      520\n",
       "PSV      430\n",
       "PS4      392\n",
       "N64      319\n",
       "XOne     247\n",
       "SNES     239\n",
       "SAT      173\n",
       "WiiU     147\n",
       "2600     133\n",
       "GB        98\n",
       "NES       98\n",
       "DC        52\n",
       "GEN       29\n",
       "NG        12\n",
       "SCD        6\n",
       "WS         6\n",
       "3DO        3\n",
       "TG16       2\n",
       "GG         1\n",
       "PCFX       1\n",
       "Name: Platform, dtype: int64"
      ]
     },
     "execution_count": 7,
     "metadata": {},
     "output_type": "execute_result"
    }
   ],
   "source": [
    "df['Platform'].value_counts(dropna=False) #оценим, количество уникальных платформ "
   ]
  },
  {
   "cell_type": "markdown",
   "metadata": {},
   "source": [
    "31 уникальная платформа. Строки без пропусков. "
   ]
  },
  {
   "cell_type": "code",
   "execution_count": 8,
   "metadata": {},
   "outputs": [
    {
     "data": {
      "text/plain": [
       "Action          3369\n",
       "Sports          2348\n",
       "Misc            1750\n",
       "Role-Playing    1498\n",
       "Shooter         1323\n",
       "Adventure       1303\n",
       "Racing          1249\n",
       "Platform         888\n",
       "Simulation       873\n",
       "Fighting         849\n",
       "Strategy         683\n",
       "Puzzle           580\n",
       "NaN                2\n",
       "Name: Genre, dtype: int64"
      ]
     },
     "execution_count": 8,
     "metadata": {},
     "output_type": "execute_result"
    }
   ],
   "source": [
    "df['Genre'].value_counts(dropna=False) #оценим, количество уникальных жанров"
   ]
  },
  {
   "cell_type": "markdown",
   "metadata": {},
   "source": [
    "12 уникальных жанров и 2 строки с пропущенными значениями.\n",
    "\n",
    "Далее оценим колонки с описанием рейтингов:"
   ]
  },
  {
   "cell_type": "code",
   "execution_count": 9,
   "metadata": {},
   "outputs": [
    {
     "data": {
      "text/plain": [
       "NaN     8578\n",
       "70.0     256\n",
       "71.0     254\n",
       "75.0     245\n",
       "78.0     240\n",
       "        ... \n",
       "20.0       3\n",
       "13.0       1\n",
       "17.0       1\n",
       "22.0       1\n",
       "21.0       1\n",
       "Name: Critic_Score, Length: 83, dtype: int64"
      ]
     },
     "execution_count": 9,
     "metadata": {},
     "output_type": "execute_result"
    }
   ],
   "source": [
    "df['Critic_Score'].value_counts(dropna=False)"
   ]
  },
  {
   "cell_type": "markdown",
   "metadata": {},
   "source": [
    "8578 пропущенных значений. Баллы проставлены по 100-балльной системе."
   ]
  },
  {
   "cell_type": "code",
   "execution_count": 10,
   "metadata": {},
   "outputs": [
    {
     "data": {
      "text/plain": [
       "NaN    6701\n",
       "tbd    2424\n",
       "7.8     324\n",
       "8       290\n",
       "8.2     282\n",
       "       ... \n",
       "1.1       2\n",
       "0.6       2\n",
       "1         2\n",
       "9.7       1\n",
       "0         1\n",
       "Name: User_Score, Length: 97, dtype: int64"
      ]
     },
     "execution_count": 10,
     "metadata": {},
     "output_type": "execute_result"
    }
   ],
   "source": [
    "df['User_Score'].value_counts(dropna=False)"
   ]
  },
  {
   "cell_type": "markdown",
   "metadata": {},
   "source": [
    "Большое число пропущенных -  6701,  а также строк, где баллы ещё не присвоены: tbd (To Be Determined) - 2424"
   ]
  },
  {
   "cell_type": "code",
   "execution_count": 11,
   "metadata": {},
   "outputs": [
    {
     "data": {
      "text/plain": [
       "NaN     6766\n",
       "E       3990\n",
       "T       2961\n",
       "M       1563\n",
       "E10+    1420\n",
       "EC         8\n",
       "K-A        3\n",
       "RP         3\n",
       "AO         1\n",
       "Name: Rating, dtype: int64"
      ]
     },
     "execution_count": 11,
     "metadata": {},
     "output_type": "execute_result"
    }
   ],
   "source": [
    "df['Rating'].value_counts(dropna=False)"
   ]
  },
  {
   "cell_type": "markdown",
   "metadata": {},
   "source": [
    "Рейтинги необходимо расшифровать для лучшего восприятия. 6766 значений пропущено."
   ]
  },
  {
   "cell_type": "code",
   "execution_count": 12,
   "metadata": {},
   "outputs": [
    {
     "name": "stdout",
     "output_type": "stream",
     "text": [
      "<class 'pandas.core.frame.DataFrame'>\n",
      "RangeIndex: 16715 entries, 0 to 16714\n",
      "Data columns (total 11 columns):\n",
      "Name               16713 non-null object\n",
      "Platform           16715 non-null object\n",
      "Year_of_Release    16446 non-null float64\n",
      "Genre              16713 non-null object\n",
      "NA_sales           16715 non-null float64\n",
      "EU_sales           16715 non-null float64\n",
      "JP_sales           16715 non-null float64\n",
      "Other_sales        16715 non-null float64\n",
      "Critic_Score       8137 non-null float64\n",
      "User_Score         10014 non-null object\n",
      "Rating             9949 non-null object\n",
      "dtypes: float64(6), object(5)\n",
      "memory usage: 1.4+ MB\n"
     ]
    }
   ],
   "source": [
    "df.info()"
   ]
  },
  {
   "cell_type": "markdown",
   "metadata": {},
   "source": [
    "## Выводы\n",
    "\n",
    "- В базе данных 16715 строк, 11 столбцов. Требуется приведение к единому (нижнему) регистру наименований столбцов.\n",
    "- Количество уникальных наименований  - 11559. Количество уникальных жанров - 12. \n",
    "- Даты в Year_of_Release, указанные в формате object, возможно, следует привести к типу datetime или к целочисленному типу, поскольку месяцы не указаны. Также необходимо приведение типа данных к float из object  в столбцах User_Score. \n",
    "- User_Score содержит некие значения tbd в количестве 2424.\n",
    "- Грубых дубликатов не обнаружено. \n",
    "- Данные о продажах в млн. проданных копий указаны максимально полно.\n",
    "- Оценки критиков и рейтинги содержат большое число пропусков. Также есть пропуски в столбце года выхода релиза - Year_of_Release. По два пропуска содержится в данных столбцов Name и Genre, эти строки можно удалить.\n",
    "- Необходимо исследовать описание по столбцу Rating, для этого используем информацию сайта https://www.esrb.org/ratings-guide"
   ]
  },
  {
   "cell_type": "markdown",
   "metadata": {},
   "source": [
    "<div class=\"alert alert-success\">\n",
    "<h2> Комментарий ревьюера </h2>\n",
    "\n",
    "Подумай также о возможных причинах появления пропусков, а также о том, являются ли они случайными или нет. Можно высказать предварительные варианты их обработки. \n",
    "\n",
    "Первый взгляд на таблицу выполнен.\n",
    "\n",
    "</div>"
   ]
  },
  {
   "cell_type": "markdown",
   "metadata": {},
   "source": [
    "# Шаг 2. Подготовка данных <a name=\"шаг-2\"></a>"
   ]
  },
  {
   "cell_type": "code",
   "execution_count": 13,
   "metadata": {},
   "outputs": [],
   "source": [
    "df.columns = [col.lower() for col in df.columns] #используем list comprehansion для изменения регистра в названиях столбцов"
   ]
  },
  {
   "cell_type": "markdown",
   "metadata": {},
   "source": [
    "<div class=\"alert alert-success\">\n",
    "<h2> Комментарий ревьюера </h2>\n",
    "\n",
    "Данный метод позволяет нам автоматизировать процесс приведения названий столбцов к нижнему регистру. Так исключается вероятность опечаток. \n",
    "\n",
    "</div>"
   ]
  },
  {
   "cell_type": "code",
   "execution_count": 14,
   "metadata": {},
   "outputs": [
    {
     "data": {
      "text/plain": [
       "name                  2\n",
       "platform              0\n",
       "year_of_release     269\n",
       "genre                 2\n",
       "na_sales              0\n",
       "eu_sales              0\n",
       "jp_sales              0\n",
       "other_sales           0\n",
       "critic_score       8578\n",
       "user_score         6701\n",
       "rating             6766\n",
       "dtype: int64"
      ]
     },
     "execution_count": 14,
     "metadata": {},
     "output_type": "execute_result"
    }
   ],
   "source": [
    "df.isna().sum() #оценим количество пропущеннных значений по столбцам"
   ]
  },
  {
   "cell_type": "code",
   "execution_count": 15,
   "metadata": {},
   "outputs": [],
   "source": [
    "df.dropna(subset=['name'], inplace=True) #удаляем строки без названия - они не имеют смысла"
   ]
  },
  {
   "cell_type": "markdown",
   "metadata": {},
   "source": [
    "В year_of_release пропущено 269 значений, и, как можно заметить, для некоторых релизов даты присутствуют в наименовании. \n",
    "Извлечём цифры из столбца name и заполним этими значениями пропуски:"
   ]
  },
  {
   "cell_type": "code",
   "execution_count": 16,
   "metadata": {},
   "outputs": [],
   "source": [
    "df['year'] =  df['name'].str.extract(\"(\\d\\d\\d\\d)\", expand=True)"
   ]
  },
  {
   "cell_type": "code",
   "execution_count": 17,
   "metadata": {},
   "outputs": [],
   "source": [
    "df['year_of_release'] = df['year_of_release'].fillna(df['year'])"
   ]
  },
  {
   "cell_type": "markdown",
   "metadata": {},
   "source": [
    "<div class=\"alert alert-success\">\n",
    "<h2> Комментарий ревьюера </h2>\n",
    "\n",
    "Действительно, часть пропусков мы можем заполнить, исходя из данных из названия игры.  \n",
    "</div>"
   ]
  },
  {
   "cell_type": "markdown",
   "metadata": {},
   "source": [
    "Приём сработал только для 17 значений. Заменим оставшиеся пропуски на 2021 год. Переведём столбец с годами релизов в формат целых чисел, смысла переводить в даты нет:"
   ]
  },
  {
   "cell_type": "code",
   "execution_count": 18,
   "metadata": {},
   "outputs": [],
   "source": [
    "df['year_of_release'] = df['year_of_release'].fillna(2021)\n",
    "df['year_of_release'] = df['year_of_release'].astype('int')"
   ]
  },
  {
   "cell_type": "markdown",
   "metadata": {},
   "source": [
    "Столбец rating содержит некий набор букв и цифр. Согласно Entertainment Software Rating Board эти обозначения дают представление о целевой аудитории пользователей. Следует сделать аббревиатуру более понятной. Для этого создаём функцию с условиями и заполняем новый столбец:"
   ]
  },
  {
   "cell_type": "code",
   "execution_count": 19,
   "metadata": {},
   "outputs": [],
   "source": [
    "def rating(row):\n",
    "    if row['rating'] == 'E':\n",
    "        return 'everyone'\n",
    "    elif row['rating'] == 'T':\n",
    "        return 'teen 13-19'\n",
    "    elif row['rating'] == 'M':\n",
    "        return 'mature 17+'\n",
    "    elif row['rating'] == 'E10+':\n",
    "        return 'everyone 10+'\n",
    "    elif row['rating'] == 'EC':\n",
    "        return 'early childhood'\n",
    "    elif row['rating'] == 'RP':\n",
    "        return 'rating pending'\n",
    "    elif row['rating'] == 'K-A':\n",
    "        return 'kids to adults'\n",
    "    elif row['rating'] == 'AO':\n",
    "        return 'adult only 18+'\n",
    "    else:\n",
    "        return 'unknown'\n",
    "\n",
    "df['rating_description'] = df.apply(rating, axis=1) #создаём столбец"
   ]
  },
  {
   "cell_type": "markdown",
   "metadata": {},
   "source": [
    "В столбце critic_score содержатся 8578 NaN."
   ]
  },
  {
   "cell_type": "code",
   "execution_count": 20,
   "metadata": {},
   "outputs": [
    {
     "data": {
      "text/plain": [
       "(13.0, 98.0)"
      ]
     },
     "execution_count": 20,
     "metadata": {},
     "output_type": "execute_result"
    }
   ],
   "source": [
    "df['critic_score'].min(),df['critic_score'].max()"
   ]
  },
  {
   "cell_type": "markdown",
   "metadata": {},
   "source": [
    "Рейтинг critic_score варьируется от 13 до 98. "
   ]
  },
  {
   "cell_type": "code",
   "execution_count": 21,
   "metadata": {},
   "outputs": [],
   "source": [
    "#df['critic_score'] = df['critic_score'].fillna(1)"
   ]
  },
  {
   "cell_type": "markdown",
   "metadata": {},
   "source": [
    "В user_score содержится 6699 пропущенных значений NaN. Рейтинг в user_score фиксируется в интрвале 0-10. Помимо пропущенных строк в user_score есть неинформативные записи (2424 строки), содержащие tbd (to be determined)."
   ]
  },
  {
   "cell_type": "code",
   "execution_count": 22,
   "metadata": {},
   "outputs": [
    {
     "data": {
      "text/html": [
       "<div>\n",
       "<style scoped>\n",
       "    .dataframe tbody tr th:only-of-type {\n",
       "        vertical-align: middle;\n",
       "    }\n",
       "\n",
       "    .dataframe tbody tr th {\n",
       "        vertical-align: top;\n",
       "    }\n",
       "\n",
       "    .dataframe thead th {\n",
       "        text-align: right;\n",
       "    }\n",
       "</style>\n",
       "<table border=\"1\" class=\"dataframe\">\n",
       "  <thead>\n",
       "    <tr style=\"text-align: right;\">\n",
       "      <th></th>\n",
       "      <th>name</th>\n",
       "      <th>platform</th>\n",
       "      <th>year_of_release</th>\n",
       "      <th>genre</th>\n",
       "      <th>na_sales</th>\n",
       "      <th>eu_sales</th>\n",
       "      <th>jp_sales</th>\n",
       "      <th>other_sales</th>\n",
       "      <th>critic_score</th>\n",
       "      <th>user_score</th>\n",
       "      <th>rating</th>\n",
       "      <th>year</th>\n",
       "      <th>rating_description</th>\n",
       "    </tr>\n",
       "  </thead>\n",
       "  <tbody>\n",
       "    <tr>\n",
       "      <td>8900</td>\n",
       "      <td>The Quest Trio</td>\n",
       "      <td>DS</td>\n",
       "      <td>2008</td>\n",
       "      <td>Puzzle</td>\n",
       "      <td>0.13</td>\n",
       "      <td>0.00</td>\n",
       "      <td>0.0</td>\n",
       "      <td>0.01</td>\n",
       "      <td>NaN</td>\n",
       "      <td>tbd</td>\n",
       "      <td>E</td>\n",
       "      <td>NaN</td>\n",
       "      <td>everyone</td>\n",
       "    </tr>\n",
       "    <tr>\n",
       "      <td>11081</td>\n",
       "      <td>Skylanders Imaginators</td>\n",
       "      <td>X360</td>\n",
       "      <td>2016</td>\n",
       "      <td>Platform</td>\n",
       "      <td>0.04</td>\n",
       "      <td>0.05</td>\n",
       "      <td>0.0</td>\n",
       "      <td>0.01</td>\n",
       "      <td>NaN</td>\n",
       "      <td>tbd</td>\n",
       "      <td>E10+</td>\n",
       "      <td>NaN</td>\n",
       "      <td>everyone 10+</td>\n",
       "    </tr>\n",
       "    <tr>\n",
       "      <td>14490</td>\n",
       "      <td>The Voice</td>\n",
       "      <td>PS3</td>\n",
       "      <td>2014</td>\n",
       "      <td>Action</td>\n",
       "      <td>0.02</td>\n",
       "      <td>0.00</td>\n",
       "      <td>0.0</td>\n",
       "      <td>0.01</td>\n",
       "      <td>NaN</td>\n",
       "      <td>tbd</td>\n",
       "      <td>NaN</td>\n",
       "      <td>NaN</td>\n",
       "      <td>unknown</td>\n",
       "    </tr>\n",
       "    <tr>\n",
       "      <td>15662</td>\n",
       "      <td>IGT Slots: Lucky Larry's Lobstermania</td>\n",
       "      <td>PC</td>\n",
       "      <td>2011</td>\n",
       "      <td>Simulation</td>\n",
       "      <td>0.02</td>\n",
       "      <td>0.00</td>\n",
       "      <td>0.0</td>\n",
       "      <td>0.00</td>\n",
       "      <td>NaN</td>\n",
       "      <td>tbd</td>\n",
       "      <td>NaN</td>\n",
       "      <td>NaN</td>\n",
       "      <td>unknown</td>\n",
       "    </tr>\n",
       "    <tr>\n",
       "      <td>13896</td>\n",
       "      <td>Free Running</td>\n",
       "      <td>Wii</td>\n",
       "      <td>2009</td>\n",
       "      <td>Sports</td>\n",
       "      <td>0.02</td>\n",
       "      <td>0.02</td>\n",
       "      <td>0.0</td>\n",
       "      <td>0.00</td>\n",
       "      <td>NaN</td>\n",
       "      <td>tbd</td>\n",
       "      <td>T</td>\n",
       "      <td>NaN</td>\n",
       "      <td>teen 13-19</td>\n",
       "    </tr>\n",
       "    <tr>\n",
       "      <td>4012</td>\n",
       "      <td>Tony Hawk's Underground 2</td>\n",
       "      <td>GBA</td>\n",
       "      <td>2004</td>\n",
       "      <td>Sports</td>\n",
       "      <td>0.35</td>\n",
       "      <td>0.13</td>\n",
       "      <td>0.0</td>\n",
       "      <td>0.01</td>\n",
       "      <td>70.0</td>\n",
       "      <td>tbd</td>\n",
       "      <td>E</td>\n",
       "      <td>NaN</td>\n",
       "      <td>everyone</td>\n",
       "    </tr>\n",
       "    <tr>\n",
       "      <td>15358</td>\n",
       "      <td>Taito Legends 2</td>\n",
       "      <td>PS2</td>\n",
       "      <td>2006</td>\n",
       "      <td>Misc</td>\n",
       "      <td>0.01</td>\n",
       "      <td>0.01</td>\n",
       "      <td>0.0</td>\n",
       "      <td>0.00</td>\n",
       "      <td>67.0</td>\n",
       "      <td>tbd</td>\n",
       "      <td>T</td>\n",
       "      <td>NaN</td>\n",
       "      <td>teen 13-19</td>\n",
       "    </tr>\n",
       "    <tr>\n",
       "      <td>12296</td>\n",
       "      <td>Pirates: The Legend of Black Kat</td>\n",
       "      <td>XB</td>\n",
       "      <td>2002</td>\n",
       "      <td>Adventure</td>\n",
       "      <td>0.05</td>\n",
       "      <td>0.01</td>\n",
       "      <td>0.0</td>\n",
       "      <td>0.00</td>\n",
       "      <td>74.0</td>\n",
       "      <td>tbd</td>\n",
       "      <td>T</td>\n",
       "      <td>NaN</td>\n",
       "      <td>teen 13-19</td>\n",
       "    </tr>\n",
       "    <tr>\n",
       "      <td>15895</td>\n",
       "      <td>Pro Rally</td>\n",
       "      <td>GC</td>\n",
       "      <td>2002</td>\n",
       "      <td>Racing</td>\n",
       "      <td>0.01</td>\n",
       "      <td>0.00</td>\n",
       "      <td>0.0</td>\n",
       "      <td>0.00</td>\n",
       "      <td>64.0</td>\n",
       "      <td>tbd</td>\n",
       "      <td>E</td>\n",
       "      <td>NaN</td>\n",
       "      <td>everyone</td>\n",
       "    </tr>\n",
       "    <tr>\n",
       "      <td>11515</td>\n",
       "      <td>Puzzler Mind Gym 3D</td>\n",
       "      <td>3DS</td>\n",
       "      <td>2011</td>\n",
       "      <td>Puzzle</td>\n",
       "      <td>0.07</td>\n",
       "      <td>0.00</td>\n",
       "      <td>0.0</td>\n",
       "      <td>0.01</td>\n",
       "      <td>51.0</td>\n",
       "      <td>tbd</td>\n",
       "      <td>E</td>\n",
       "      <td>NaN</td>\n",
       "      <td>everyone</td>\n",
       "    </tr>\n",
       "  </tbody>\n",
       "</table>\n",
       "</div>"
      ],
      "text/plain": [
       "                                        name platform  year_of_release  \\\n",
       "8900                          The Quest Trio       DS             2008   \n",
       "11081                 Skylanders Imaginators     X360             2016   \n",
       "14490                              The Voice      PS3             2014   \n",
       "15662  IGT Slots: Lucky Larry's Lobstermania       PC             2011   \n",
       "13896                           Free Running      Wii             2009   \n",
       "4012               Tony Hawk's Underground 2      GBA             2004   \n",
       "15358                        Taito Legends 2      PS2             2006   \n",
       "12296       Pirates: The Legend of Black Kat       XB             2002   \n",
       "15895                              Pro Rally       GC             2002   \n",
       "11515                    Puzzler Mind Gym 3D      3DS             2011   \n",
       "\n",
       "            genre  na_sales  eu_sales  jp_sales  other_sales  critic_score  \\\n",
       "8900       Puzzle      0.13      0.00       0.0         0.01           NaN   \n",
       "11081    Platform      0.04      0.05       0.0         0.01           NaN   \n",
       "14490      Action      0.02      0.00       0.0         0.01           NaN   \n",
       "15662  Simulation      0.02      0.00       0.0         0.00           NaN   \n",
       "13896      Sports      0.02      0.02       0.0         0.00           NaN   \n",
       "4012       Sports      0.35      0.13       0.0         0.01          70.0   \n",
       "15358        Misc      0.01      0.01       0.0         0.00          67.0   \n",
       "12296   Adventure      0.05      0.01       0.0         0.00          74.0   \n",
       "15895      Racing      0.01      0.00       0.0         0.00          64.0   \n",
       "11515      Puzzle      0.07      0.00       0.0         0.01          51.0   \n",
       "\n",
       "      user_score rating year rating_description  \n",
       "8900         tbd      E  NaN           everyone  \n",
       "11081        tbd   E10+  NaN       everyone 10+  \n",
       "14490        tbd    NaN  NaN            unknown  \n",
       "15662        tbd    NaN  NaN            unknown  \n",
       "13896        tbd      T  NaN         teen 13-19  \n",
       "4012         tbd      E  NaN           everyone  \n",
       "15358        tbd      T  NaN         teen 13-19  \n",
       "12296        tbd      T  NaN         teen 13-19  \n",
       "15895        tbd      E  NaN           everyone  \n",
       "11515        tbd      E  NaN           everyone  "
      ]
     },
     "execution_count": 22,
     "metadata": {},
     "output_type": "execute_result"
    }
   ],
   "source": [
    "df.query('user_score == \"tbd\"').sample(10)"
   ]
  },
  {
   "cell_type": "markdown",
   "metadata": {},
   "source": [
    "Значения tbd представляют собой некорректный рейтинг или рейтинг требующий уточнения. Анализ sample показывает, что если отсутствует рейтинг по user_score, то он отсутствует и по critic_score. Но в строках user_score где записан tbd, как правило рейтинг по critic_score указан. Поэтому tbd в user_score можно заменить опираясь на рейтинги в critic_score, если между показателями наблюдается зависимость. Проверим корреляцию:"
   ]
  },
  {
   "cell_type": "code",
   "execution_count": 23,
   "metadata": {},
   "outputs": [],
   "source": [
    "df['user_score'] = pd.to_numeric(df['user_score'], errors='coerce')  #прежде меняем тип даннных в user_score на float"
   ]
  },
  {
   "cell_type": "markdown",
   "metadata": {},
   "source": [
    "<div class=\"alert alert-success\">\n",
    "<h2> Комментарий ревьюера </h2>\n",
    "\n",
    "Верно, по своей сути tbd и является Nan. Отлично, что определяешь неявные пропущенные значения.\n",
    "\n",
    "</div>"
   ]
  },
  {
   "cell_type": "code",
   "execution_count": 24,
   "metadata": {},
   "outputs": [
    {
     "data": {
      "text/html": [
       "<div>\n",
       "<style scoped>\n",
       "    .dataframe tbody tr th:only-of-type {\n",
       "        vertical-align: middle;\n",
       "    }\n",
       "\n",
       "    .dataframe tbody tr th {\n",
       "        vertical-align: top;\n",
       "    }\n",
       "\n",
       "    .dataframe thead th {\n",
       "        text-align: right;\n",
       "    }\n",
       "</style>\n",
       "<table border=\"1\" class=\"dataframe\">\n",
       "  <thead>\n",
       "    <tr style=\"text-align: right;\">\n",
       "      <th></th>\n",
       "      <th>year_of_release</th>\n",
       "      <th>na_sales</th>\n",
       "      <th>eu_sales</th>\n",
       "      <th>jp_sales</th>\n",
       "      <th>other_sales</th>\n",
       "      <th>critic_score</th>\n",
       "      <th>user_score</th>\n",
       "    </tr>\n",
       "  </thead>\n",
       "  <tbody>\n",
       "    <tr>\n",
       "      <td>year_of_release</td>\n",
       "      <td>1.000000</td>\n",
       "      <td>-0.025766</td>\n",
       "      <td>0.027958</td>\n",
       "      <td>-0.047049</td>\n",
       "      <td>0.029144</td>\n",
       "      <td>-0.015895</td>\n",
       "      <td>-0.238199</td>\n",
       "    </tr>\n",
       "    <tr>\n",
       "      <td>na_sales</td>\n",
       "      <td>-0.025766</td>\n",
       "      <td>1.000000</td>\n",
       "      <td>0.839998</td>\n",
       "      <td>0.467134</td>\n",
       "      <td>0.727141</td>\n",
       "      <td>0.233367</td>\n",
       "      <td>0.086496</td>\n",
       "    </tr>\n",
       "    <tr>\n",
       "      <td>eu_sales</td>\n",
       "      <td>0.027958</td>\n",
       "      <td>0.839998</td>\n",
       "      <td>1.000000</td>\n",
       "      <td>0.518734</td>\n",
       "      <td>0.716482</td>\n",
       "      <td>0.212023</td>\n",
       "      <td>0.055573</td>\n",
       "    </tr>\n",
       "    <tr>\n",
       "      <td>jp_sales</td>\n",
       "      <td>-0.047049</td>\n",
       "      <td>0.467134</td>\n",
       "      <td>0.518734</td>\n",
       "      <td>1.000000</td>\n",
       "      <td>0.394249</td>\n",
       "      <td>0.146175</td>\n",
       "      <td>0.127103</td>\n",
       "    </tr>\n",
       "    <tr>\n",
       "      <td>other_sales</td>\n",
       "      <td>0.029144</td>\n",
       "      <td>0.727141</td>\n",
       "      <td>0.716482</td>\n",
       "      <td>0.394249</td>\n",
       "      <td>1.000000</td>\n",
       "      <td>0.191105</td>\n",
       "      <td>0.057359</td>\n",
       "    </tr>\n",
       "    <tr>\n",
       "      <td>critic_score</td>\n",
       "      <td>-0.015895</td>\n",
       "      <td>0.233367</td>\n",
       "      <td>0.212023</td>\n",
       "      <td>0.146175</td>\n",
       "      <td>0.191105</td>\n",
       "      <td>1.000000</td>\n",
       "      <td>0.580878</td>\n",
       "    </tr>\n",
       "    <tr>\n",
       "      <td>user_score</td>\n",
       "      <td>-0.238199</td>\n",
       "      <td>0.086496</td>\n",
       "      <td>0.055573</td>\n",
       "      <td>0.127103</td>\n",
       "      <td>0.057359</td>\n",
       "      <td>0.580878</td>\n",
       "      <td>1.000000</td>\n",
       "    </tr>\n",
       "  </tbody>\n",
       "</table>\n",
       "</div>"
      ],
      "text/plain": [
       "                 year_of_release  na_sales  eu_sales  jp_sales  other_sales  \\\n",
       "year_of_release         1.000000 -0.025766  0.027958 -0.047049     0.029144   \n",
       "na_sales               -0.025766  1.000000  0.839998  0.467134     0.727141   \n",
       "eu_sales                0.027958  0.839998  1.000000  0.518734     0.716482   \n",
       "jp_sales               -0.047049  0.467134  0.518734  1.000000     0.394249   \n",
       "other_sales             0.029144  0.727141  0.716482  0.394249     1.000000   \n",
       "critic_score           -0.015895  0.233367  0.212023  0.146175     0.191105   \n",
       "user_score             -0.238199  0.086496  0.055573  0.127103     0.057359   \n",
       "\n",
       "                 critic_score  user_score  \n",
       "year_of_release     -0.015895   -0.238199  \n",
       "na_sales             0.233367    0.086496  \n",
       "eu_sales             0.212023    0.055573  \n",
       "jp_sales             0.146175    0.127103  \n",
       "other_sales          0.191105    0.057359  \n",
       "critic_score         1.000000    0.580878  \n",
       "user_score           0.580878    1.000000  "
      ]
     },
     "execution_count": 24,
     "metadata": {},
     "output_type": "execute_result"
    }
   ],
   "source": [
    "df.query('critic_score != \"NaN\" and critic_score >1 and user_score != \"tbd\" and user_score != \"NaN\" and user_score <100').corr()"
   ]
  },
  {
   "cell_type": "markdown",
   "metadata": {},
   "source": [
    "Между critic_score и user_score есть определённая зависимость (0,58), но заполнение значений tbd на основании рейтингов critic_score будет некорректным,  поэтому заменим все tbd на условное значение 100, как и все NaN:"
   ]
  },
  {
   "cell_type": "code",
   "execution_count": 25,
   "metadata": {},
   "outputs": [],
   "source": [
    "#df['user_score'] = df['user_score'].fillna(100) #меняем пропуски на 100"
   ]
  },
  {
   "cell_type": "code",
   "execution_count": 26,
   "metadata": {},
   "outputs": [],
   "source": [
    "df['user_score'] = df['user_score'].replace('tbd', 'NaN')"
   ]
  },
  {
   "cell_type": "code",
   "execution_count": 27,
   "metadata": {},
   "outputs": [
    {
     "data": {
      "text/plain": [
       "NaN    9123\n",
       "7.8     324\n",
       "8.0     290\n",
       "8.2     282\n",
       "8.3     254\n",
       "       ... \n",
       "1.1       2\n",
       "2.3       2\n",
       "1.5       2\n",
       "0.0       1\n",
       "9.7       1\n",
       "Name: user_score, Length: 96, dtype: int64"
      ]
     },
     "execution_count": 27,
     "metadata": {},
     "output_type": "execute_result"
    }
   ],
   "source": [
    "df['user_score'].value_counts(dropna=False)"
   ]
  },
  {
   "cell_type": "markdown",
   "metadata": {},
   "source": [
    "<div class=\"alert alert-warning\">\n",
    "<h2> Комментарий ревьюера </h2>\n",
    "\n",
    "Пропуски можно оставить. Смотри, это нереальные данные, которыми мы помечаем пропуски. В итоге при анализе данных столбцов мы должны каждый раз отфильтровывать такие значения, т.к. анализировать их не надо. В итоге, в одном из пунктов можно забыть про такие значения и случайно включить маркерные значения в анализ, что вызовет ошибку в результатах работы.\n",
    "\n",
    "</div>\n",
    "\n",
    "<div class=\"alert alert-block alert-info\">\n",
    "\n",
    "Ок, принято. Не меняю на 100, оставляю NaN. tbd тоже меняю на NaN.\n",
    "</div>"
   ]
  },
  {
   "cell_type": "markdown",
   "metadata": {},
   "source": [
    "<div class=\"alert alert-success\">\n",
    "<h2> Комментарий ревьюера 2</h2>\n",
    "\n",
    "Верное решение. Так ты исключаешь вероятность включить нереальные значения в анализ. \n",
    "\n",
    "</div>"
   ]
  },
  {
   "cell_type": "markdown",
   "metadata": {},
   "source": [
    "Удалим ненужные теперь столбцы:"
   ]
  },
  {
   "cell_type": "code",
   "execution_count": 28,
   "metadata": {},
   "outputs": [],
   "source": [
    "df= df.drop(['rating',  'year'], 1)"
   ]
  },
  {
   "cell_type": "markdown",
   "metadata": {},
   "source": [
    "Посчитаем суммарные продажи  во всех регионах и запишем их в отдельный столбец."
   ]
  },
  {
   "cell_type": "code",
   "execution_count": 29,
   "metadata": {},
   "outputs": [],
   "source": [
    "df['sales_total'] = df['na_sales']+df['eu_sales']+df['jp_sales']+df['other_sales']"
   ]
  },
  {
   "cell_type": "code",
   "execution_count": 30,
   "metadata": {},
   "outputs": [
    {
     "name": "stdout",
     "output_type": "stream",
     "text": [
      "<class 'pandas.core.frame.DataFrame'>\n",
      "Int64Index: 16713 entries, 0 to 16714\n",
      "Data columns (total 12 columns):\n",
      "name                  16713 non-null object\n",
      "platform              16713 non-null object\n",
      "year_of_release       16713 non-null int64\n",
      "genre                 16713 non-null object\n",
      "na_sales              16713 non-null float64\n",
      "eu_sales              16713 non-null float64\n",
      "jp_sales              16713 non-null float64\n",
      "other_sales           16713 non-null float64\n",
      "critic_score          8137 non-null float64\n",
      "user_score            7590 non-null float64\n",
      "rating_description    16713 non-null object\n",
      "sales_total           16713 non-null float64\n",
      "dtypes: float64(7), int64(1), object(4)\n",
      "memory usage: 1.7+ MB\n"
     ]
    }
   ],
   "source": [
    "df.info()"
   ]
  },
  {
   "cell_type": "markdown",
   "metadata": {},
   "source": [
    "Данные подготовлены  к работе."
   ]
  },
  {
   "cell_type": "markdown",
   "metadata": {},
   "source": [
    "## Выводы\n",
    "- Названия колонок были приведены к нижнему регистру.\n",
    "- Столбцы name  и genre содержали по 2 пропущенных значения (строки совпадали), которые были удалены.\n",
    "- Даты в столбце year_of_release содержали 269 пропусков из которых только 17 удалось заменить на годы, указанные в наименовании игры. Все прочие пропуски были заменены на 2021 год. Формат столбца изменён на целочисленный тип. \n",
    "- Для столбца rating с неинформативной в текущем виде маркировкой целевой аудитории от Entertainment Software Rating Board были созданы новые значения с использованием функции.\n",
    "- Пропущенные значения по рейтингу critic_score (варьируются от 13 до 98), были присвоены 1.\n",
    "- Пропущенные значения по пользовательскому рейтингу user_score с интервалом 0-10 не изменялись. Также на NaN были заменеы строки, содержащие  tbd (рейтинг требующий уточнения). Для замены tbd был рассмотрен вариант значений рейтинга критиков critic_score, однако  между показателями была определена невысокая корреляция (0,58) и такой вариант замены был отвергнут.\n",
    "- Тип данных user_score был изменён на float, т.к. данные содержат значения после запятой.\n",
    "- Лишние столбцы rating и year удалены.\n",
    "- Создан столбец sales_total с суммами продаж по всем регионам."
   ]
  },
  {
   "cell_type": "markdown",
   "metadata": {},
   "source": [
    "<div class=\"alert alert-success\">\n",
    "<h2> Комментарий ревьюера </h2>\n",
    "\n",
    "Да, восстановить пропущенные значения мы не можем. Данных для этого недостаточно. Лучше работать с меньшим количеством данных хорошего качества.\n",
    "    \n",
    "Ошибки в данных устранены. Данные подготовлены к дальнейшему анализу. \n",
    "\n",
    "</div>"
   ]
  },
  {
   "cell_type": "markdown",
   "metadata": {},
   "source": [
    "# Шаг 3. Исследовательский анализ данных <a name=\"шаг-3\"></a>"
   ]
  },
  {
   "cell_type": "markdown",
   "metadata": {},
   "source": [
    "## 3.1. Количество игр за исследуемый период <a name=\"шаг-3-1\"></a>"
   ]
  },
  {
   "cell_type": "code",
   "execution_count": 31,
   "metadata": {},
   "outputs": [
    {
     "data": {
      "image/png": "[encoded data removed]",
      "text/plain": [
       "<Figure size 1080x360 with 1 Axes>"
      ]
     },
     "metadata": {
      "needs_background": "light"
     },
     "output_type": "display_data"
    }
   ],
   "source": [
    "a= df.query('year_of_release !=2021')\n",
    "a.pivot_table(index='year_of_release', values=['name'], aggfunc='count').sort_values(by='year_of_release', ascending=True).plot(kind='bar',figsize=(15, 5), fontsize=15, grid=True)\n",
    "plt.title('Количество релизов по годам ', fontsize=15);"
   ]
  },
  {
   "cell_type": "markdown",
   "metadata": {},
   "source": [
    "Своё развитие компьютерные игры получили в 90-х благодаря широкому внедрению CD-ROM, распространению ПК и операционных систем, и существенному развитию технологий трехмерной графики, в частности развитию 3D графических процессоров и развитию Интернета в целом. В 1994 выходит на рынок первая консоль PlayStation.\n",
    "В 1999 и 2000 годах видим некоторый спад выходов релизов на графике. В 99 году разразилось несколько судебных процессов в индустрии, где самые громкие - Nintendo против Bung Enterprises и Sony Corporation против Bleem. В этом же году происходит кризис в компании Sierra Entertainment, которая обеспечивала в предыдущие годы большие прорывы в индустрии создания игр. Однако в этот же период происходит ряд событий, которые обеспечат в последующие годы стремительный рост рынка: запуск Sony’s PlayStation2 в Японии, а Sega.com запускает SegaNet. В этот же период Nintendo продала 100-миллионную игровую консоль Game Boy. В 2001 году Nintendo выпустила Nintendo GameCube в Японии, а Microsoft выпустила Xbox в США.\n",
    "2003 год стал кризисным для компании 3DO, которая  объявила себя банкротом.\n",
    "В 2005 году Microsoft выпустила Xbox 360, который очень быстро стал лидером продаж в мире. \n",
    "После стремительного роста числа выпуска игр в 2010 году наблюдается спад. Эксперты связывают спад не толко с кризисными годами в мировой экономике, но также и с появлением альтернативных способов издания игр  посредством shareware-модели, либо по модели открытого кода через интернет. Последние годы набирает популярность модель «пожертвований» (Kickstarter и аналогичные сервисы) для разработки компьютерных игр. \n",
    "\n",
    "2008 и 2009 годы являются пиковыми по количеству выпущенных игр в исследуемом промежутке. Количество релизов за 1980-1993 годы минимально. Основываясь на правиле Трёх Сигм проверим, можем ли мы устранить эти данные из анализа:"
   ]
  },
  {
   "cell_type": "markdown",
   "metadata": {},
   "source": [
    "<div class=\"alert alert-success\">\n",
    "<h2> Комментарий ревьюера </h2>\n",
    "\n",
    "Крутой разбор, молодец. Ты не просто описала результат по динамике продаж, но и обосновала его 👍 \n",
    "\n",
    "</div>"
   ]
  },
  {
   "cell_type": "code",
   "execution_count": 32,
   "metadata": {},
   "outputs": [
    {
     "data": {
      "text/plain": [
       "(1988.865679866994, 2024.10558554823)"
      ]
     },
     "execution_count": 32,
     "metadata": {},
     "output_type": "execute_result"
    }
   ],
   "source": [
    "a['year_of_release'].mean()-3*a['year_of_release'].std(), a['year_of_release'].mean()+3*a['year_of_release'].std()"
   ]
  },
  {
   "cell_type": "code",
   "execution_count": 33,
   "metadata": {},
   "outputs": [
    {
     "data": {
      "text/html": [
       "<div>\n",
       "<style scoped>\n",
       "    .dataframe tbody tr th:only-of-type {\n",
       "        vertical-align: middle;\n",
       "    }\n",
       "\n",
       "    .dataframe tbody tr th {\n",
       "        vertical-align: top;\n",
       "    }\n",
       "\n",
       "    .dataframe thead th {\n",
       "        text-align: right;\n",
       "    }\n",
       "</style>\n",
       "<table border=\"1\" class=\"dataframe\">\n",
       "  <thead>\n",
       "    <tr style=\"text-align: right;\">\n",
       "      <th></th>\n",
       "      <th>year_of_release</th>\n",
       "    </tr>\n",
       "  </thead>\n",
       "  <tbody>\n",
       "    <tr>\n",
       "      <td>min</td>\n",
       "      <td>1980.000000</td>\n",
       "    </tr>\n",
       "    <tr>\n",
       "      <td>max</td>\n",
       "      <td>2016.000000</td>\n",
       "    </tr>\n",
       "    <tr>\n",
       "      <td>median</td>\n",
       "      <td>2007.000000</td>\n",
       "    </tr>\n",
       "    <tr>\n",
       "      <td>mean</td>\n",
       "      <td>2006.485633</td>\n",
       "    </tr>\n",
       "    <tr>\n",
       "      <td>var</td>\n",
       "      <td>34.495860</td>\n",
       "    </tr>\n",
       "    <tr>\n",
       "      <td>std</td>\n",
       "      <td>5.873318</td>\n",
       "    </tr>\n",
       "  </tbody>\n",
       "</table>\n",
       "</div>"
      ],
      "text/plain": [
       "        year_of_release\n",
       "min         1980.000000\n",
       "max         2016.000000\n",
       "median      2007.000000\n",
       "mean        2006.485633\n",
       "var           34.495860\n",
       "std            5.873318"
      ]
     },
     "execution_count": 33,
     "metadata": {},
     "output_type": "execute_result"
    }
   ],
   "source": [
    "a[['year_of_release']].agg(['min', 'max', 'median','mean','var','std'])"
   ]
  },
  {
   "cell_type": "markdown",
   "metadata": {},
   "source": [
    "Правило Трёх Сигм позволяет исключать данные о релизах до 1989 года. "
   ]
  },
  {
   "cell_type": "markdown",
   "metadata": {},
   "source": [
    "## 3.2. Анализ игр для различных платформ <a name=\"шаг-3-1\"></a>"
   ]
  },
  {
   "cell_type": "code",
   "execution_count": 34,
   "metadata": {},
   "outputs": [
    {
     "data": {
      "image/png": "[encoded data removed]",
      "text/plain": [
       "<Figure size 1080x360 with 1 Axes>"
      ]
     },
     "metadata": {
      "needs_background": "light"
     },
     "output_type": "display_data"
    }
   ],
   "source": [
    "pivot_platform = df.pivot_table(index=['platform'], values='year_of_release', aggfunc='count')  \n",
    "pivot_platform.columns = ['games']\n",
    "pivot_platform['games'].map('{:.1f}'.format).reset_index()\n",
    "pivot_platform.sort_values(by='games').plot(kind='bar',figsize=(15, 5), fontsize=15, grid=True)\n",
    "plt.title('Количество игр в разбивке по платформам ', fontsize=15);"
   ]
  },
  {
   "cell_type": "markdown",
   "metadata": {},
   "source": [
    "По количеству релизов наиболее популярны игры для платформ Nintendo DS (DS) и PlayStation 2 (PS2).  \n",
    "\n",
    "Для анализа продаж возьмём 10 наиболее популярных платформ:"
   ]
  },
  {
   "cell_type": "code",
   "execution_count": 35,
   "metadata": {},
   "outputs": [],
   "source": [
    "platform = df.pivot_table(index='platform', values='sales_total', aggfunc='sum')\\\n",
    ".sort_values(by='sales_total', ascending=False).reset_index()\n",
    "top_platforms = platform.loc[0:9]"
   ]
  },
  {
   "cell_type": "code",
   "execution_count": 36,
   "metadata": {},
   "outputs": [
    {
     "data": {
      "text/html": [
       "<div>\n",
       "<style scoped>\n",
       "    .dataframe tbody tr th:only-of-type {\n",
       "        vertical-align: middle;\n",
       "    }\n",
       "\n",
       "    .dataframe tbody tr th {\n",
       "        vertical-align: top;\n",
       "    }\n",
       "\n",
       "    .dataframe thead th {\n",
       "        text-align: right;\n",
       "    }\n",
       "</style>\n",
       "<table border=\"1\" class=\"dataframe\">\n",
       "  <thead>\n",
       "    <tr style=\"text-align: right;\">\n",
       "      <th></th>\n",
       "      <th>platform</th>\n",
       "      <th>sales_total</th>\n",
       "    </tr>\n",
       "  </thead>\n",
       "  <tbody>\n",
       "    <tr>\n",
       "      <td>0</td>\n",
       "      <td>PS2</td>\n",
       "      <td>1255.77</td>\n",
       "    </tr>\n",
       "    <tr>\n",
       "      <td>1</td>\n",
       "      <td>X360</td>\n",
       "      <td>971.42</td>\n",
       "    </tr>\n",
       "    <tr>\n",
       "      <td>2</td>\n",
       "      <td>PS3</td>\n",
       "      <td>939.65</td>\n",
       "    </tr>\n",
       "    <tr>\n",
       "      <td>3</td>\n",
       "      <td>Wii</td>\n",
       "      <td>907.51</td>\n",
       "    </tr>\n",
       "    <tr>\n",
       "      <td>4</td>\n",
       "      <td>DS</td>\n",
       "      <td>806.12</td>\n",
       "    </tr>\n",
       "    <tr>\n",
       "      <td>5</td>\n",
       "      <td>PS</td>\n",
       "      <td>730.86</td>\n",
       "    </tr>\n",
       "    <tr>\n",
       "      <td>6</td>\n",
       "      <td>GBA</td>\n",
       "      <td>317.85</td>\n",
       "    </tr>\n",
       "    <tr>\n",
       "      <td>7</td>\n",
       "      <td>PS4</td>\n",
       "      <td>314.14</td>\n",
       "    </tr>\n",
       "    <tr>\n",
       "      <td>8</td>\n",
       "      <td>PSP</td>\n",
       "      <td>294.05</td>\n",
       "    </tr>\n",
       "    <tr>\n",
       "      <td>9</td>\n",
       "      <td>PC</td>\n",
       "      <td>259.52</td>\n",
       "    </tr>\n",
       "  </tbody>\n",
       "</table>\n",
       "</div>"
      ],
      "text/plain": [
       "  platform  sales_total\n",
       "0      PS2      1255.77\n",
       "1     X360       971.42\n",
       "2      PS3       939.65\n",
       "3      Wii       907.51\n",
       "4       DS       806.12\n",
       "5       PS       730.86\n",
       "6      GBA       317.85\n",
       "7      PS4       314.14\n",
       "8      PSP       294.05\n",
       "9       PC       259.52"
      ]
     },
     "execution_count": 36,
     "metadata": {},
     "output_type": "execute_result"
    }
   ],
   "source": [
    "top_platforms"
   ]
  },
  {
   "cell_type": "code",
   "execution_count": 37,
   "metadata": {},
   "outputs": [],
   "source": [
    "df['top_platforms'] = df['platform'].where(df['platform'].isin(top_platforms.platform), 'прочие')\n",
    "#создаём столбец и формируем отдельную позицию Прочие"
   ]
  },
  {
   "cell_type": "code",
   "execution_count": 38,
   "metadata": {},
   "outputs": [
    {
     "data": {
      "image/png": "[encoded data removed]",
      "text/plain": [
       "<Figure size 1440x504 with 1 Axes>"
      ]
     },
     "metadata": {
      "needs_background": "light"
     },
     "output_type": "display_data"
    }
   ],
   "source": [
    "top = df.pivot_table(index='year_of_release', columns='top_platforms', values='sales_total', aggfunc='sum')\\\n",
    ".query('year_of_release <2016 and year_of_release > 1990') #убираем неполный 2016 год из графика\n",
    "top.plot(figsize=(20, 7), grid=True)\n",
    "plt.title('Динамика продаж по топовым по платформам, млн.копий ', fontsize=15);"
   ]
  },
  {
   "cell_type": "code",
   "execution_count": 39,
   "metadata": {},
   "outputs": [
    {
     "data": {
      "text/html": [
       "<div>\n",
       "<style scoped>\n",
       "    .dataframe tbody tr th:only-of-type {\n",
       "        vertical-align: middle;\n",
       "    }\n",
       "\n",
       "    .dataframe tbody tr th {\n",
       "        vertical-align: top;\n",
       "    }\n",
       "\n",
       "    .dataframe thead th {\n",
       "        text-align: right;\n",
       "    }\n",
       "</style>\n",
       "<table border=\"1\" class=\"dataframe\">\n",
       "  <thead>\n",
       "    <tr style=\"text-align: right;\">\n",
       "      <th></th>\n",
       "      <th>platform</th>\n",
       "      <th>year_of_release</th>\n",
       "    </tr>\n",
       "  </thead>\n",
       "  <tbody>\n",
       "    <tr>\n",
       "      <td>9</td>\n",
       "      <td>GG</td>\n",
       "      <td>1</td>\n",
       "    </tr>\n",
       "    <tr>\n",
       "      <td>14</td>\n",
       "      <td>PCFX</td>\n",
       "      <td>1</td>\n",
       "    </tr>\n",
       "    <tr>\n",
       "      <td>24</td>\n",
       "      <td>TG16</td>\n",
       "      <td>1</td>\n",
       "    </tr>\n",
       "    <tr>\n",
       "      <td>1</td>\n",
       "      <td>3DO</td>\n",
       "      <td>2</td>\n",
       "    </tr>\n",
       "    <tr>\n",
       "      <td>22</td>\n",
       "      <td>SCD</td>\n",
       "      <td>2</td>\n",
       "    </tr>\n",
       "    <tr>\n",
       "      <td>25</td>\n",
       "      <td>WS</td>\n",
       "      <td>3</td>\n",
       "    </tr>\n",
       "    <tr>\n",
       "      <td>12</td>\n",
       "      <td>NG</td>\n",
       "      <td>4</td>\n",
       "    </tr>\n",
       "    <tr>\n",
       "      <td>18</td>\n",
       "      <td>PS4</td>\n",
       "      <td>4</td>\n",
       "    </tr>\n",
       "    <tr>\n",
       "      <td>30</td>\n",
       "      <td>XOne</td>\n",
       "      <td>4</td>\n",
       "    </tr>\n",
       "    <tr>\n",
       "      <td>27</td>\n",
       "      <td>WiiU</td>\n",
       "      <td>5</td>\n",
       "    </tr>\n",
       "    <tr>\n",
       "      <td>8</td>\n",
       "      <td>GEN</td>\n",
       "      <td>5</td>\n",
       "    </tr>\n",
       "    <tr>\n",
       "      <td>21</td>\n",
       "      <td>SAT</td>\n",
       "      <td>6</td>\n",
       "    </tr>\n",
       "    <tr>\n",
       "      <td>3</td>\n",
       "      <td>DC</td>\n",
       "      <td>7</td>\n",
       "    </tr>\n",
       "    <tr>\n",
       "      <td>2</td>\n",
       "      <td>3DS</td>\n",
       "      <td>7</td>\n",
       "    </tr>\n",
       "    <tr>\n",
       "      <td>20</td>\n",
       "      <td>PSV</td>\n",
       "      <td>7</td>\n",
       "    </tr>\n",
       "    <tr>\n",
       "      <td>7</td>\n",
       "      <td>GC</td>\n",
       "      <td>8</td>\n",
       "    </tr>\n",
       "    <tr>\n",
       "      <td>10</td>\n",
       "      <td>N64</td>\n",
       "      <td>8</td>\n",
       "    </tr>\n",
       "    <tr>\n",
       "      <td>6</td>\n",
       "      <td>GBA</td>\n",
       "      <td>9</td>\n",
       "    </tr>\n",
       "    <tr>\n",
       "      <td>23</td>\n",
       "      <td>SNES</td>\n",
       "      <td>10</td>\n",
       "    </tr>\n",
       "    <tr>\n",
       "      <td>29</td>\n",
       "      <td>XB</td>\n",
       "      <td>10</td>\n",
       "    </tr>\n",
       "    <tr>\n",
       "      <td>0</td>\n",
       "      <td>2600</td>\n",
       "      <td>11</td>\n",
       "    </tr>\n",
       "    <tr>\n",
       "      <td>15</td>\n",
       "      <td>PS</td>\n",
       "      <td>11</td>\n",
       "    </tr>\n",
       "    <tr>\n",
       "      <td>17</td>\n",
       "      <td>PS3</td>\n",
       "      <td>12</td>\n",
       "    </tr>\n",
       "    <tr>\n",
       "      <td>11</td>\n",
       "      <td>NES</td>\n",
       "      <td>12</td>\n",
       "    </tr>\n",
       "    <tr>\n",
       "      <td>26</td>\n",
       "      <td>Wii</td>\n",
       "      <td>12</td>\n",
       "    </tr>\n",
       "    <tr>\n",
       "      <td>4</td>\n",
       "      <td>DS</td>\n",
       "      <td>12</td>\n",
       "    </tr>\n",
       "    <tr>\n",
       "      <td>16</td>\n",
       "      <td>PS2</td>\n",
       "      <td>13</td>\n",
       "    </tr>\n",
       "    <tr>\n",
       "      <td>28</td>\n",
       "      <td>X360</td>\n",
       "      <td>13</td>\n",
       "    </tr>\n",
       "    <tr>\n",
       "      <td>19</td>\n",
       "      <td>PSP</td>\n",
       "      <td>13</td>\n",
       "    </tr>\n",
       "    <tr>\n",
       "      <td>5</td>\n",
       "      <td>GB</td>\n",
       "      <td>14</td>\n",
       "    </tr>\n",
       "    <tr>\n",
       "      <td>13</td>\n",
       "      <td>PC</td>\n",
       "      <td>27</td>\n",
       "    </tr>\n",
       "  </tbody>\n",
       "</table>\n",
       "</div>"
      ],
      "text/plain": [
       "   platform  year_of_release\n",
       "9        GG                1\n",
       "14     PCFX                1\n",
       "24     TG16                1\n",
       "1       3DO                2\n",
       "22      SCD                2\n",
       "25       WS                3\n",
       "12       NG                4\n",
       "18      PS4                4\n",
       "30     XOne                4\n",
       "27     WiiU                5\n",
       "8       GEN                5\n",
       "21      SAT                6\n",
       "3        DC                7\n",
       "2       3DS                7\n",
       "20      PSV                7\n",
       "7        GC                8\n",
       "10      N64                8\n",
       "6       GBA                9\n",
       "23     SNES               10\n",
       "29       XB               10\n",
       "0      2600               11\n",
       "15       PS               11\n",
       "17      PS3               12\n",
       "11      NES               12\n",
       "26      Wii               12\n",
       "4        DS               12\n",
       "16      PS2               13\n",
       "28     X360               13\n",
       "19      PSP               13\n",
       "5        GB               14\n",
       "13       PC               27"
      ]
     },
     "execution_count": 39,
     "metadata": {},
     "output_type": "execute_result"
    }
   ],
   "source": [
    "service_life_cycle=df.groupby('platform')['year_of_release'].nunique().reset_index()\n",
    "service_life_cycle.sort_values(by='year_of_release')"
   ]
  },
  {
   "cell_type": "code",
   "execution_count": 40,
   "metadata": {},
   "outputs": [
    {
     "data": {
      "image/png": "[encoded data removed]",
      "text/plain": [
       "<Figure size 1080x360 with 1 Axes>"
      ]
     },
     "metadata": {
      "needs_background": "light"
     },
     "output_type": "display_data"
    }
   ],
   "source": [
    "service_life_cycle=df.groupby('platform')['year_of_release'].nunique().reset_index()\n",
    "service_life_cycle.sort_values(by='year_of_release').hist(bins=25, figsize=(15, 5))\n",
    "plt.title('Количество платформ и их продолжительность жизни в годах',  fontsize=15)\n",
    "plt.xlabel('Продолжительность жизни платформы')\n",
    "plt.ylabel('Количество платформ');"
   ]
  },
  {
   "cell_type": "code",
   "execution_count": 41,
   "metadata": {},
   "outputs": [
    {
     "data": {
      "text/plain": [
       "8.193548387096774"
      ]
     },
     "execution_count": 41,
     "metadata": {},
     "output_type": "execute_result"
    }
   ],
   "source": [
    "service_life_cycle.year_of_release.mean()"
   ]
  },
  {
   "cell_type": "code",
   "execution_count": 42,
   "metadata": {},
   "outputs": [
    {
     "data": {
      "text/plain": [
       "8.0"
      ]
     },
     "execution_count": 42,
     "metadata": {},
     "output_type": "execute_result"
    }
   ],
   "source": [
    "service_life_cycle.year_of_release.median()"
   ]
  },
  {
   "cell_type": "markdown",
   "metadata": {},
   "source": [
    "За весь рассматриваемый период PlayStation2 лидирует и по числу релизов игр и по объёму продаж. Если рассматривать более актуальный период (с 2010 года), то здесь лидер -X360.\n",
    "Для получения объективной картины следует оценить весь график продаж с 1990 года, который чётко показывает довольно короткий жизненный цикл игровых платформ и это хорошо понимает Sony, производитель PlayStation: сразу после начала спада продаж PS, был разработан и выведен на рынок PS2, а за ним PS3 и PS4. Рост по PS4 стабильно продолжался до 2016 года. \n",
    "На смену Game Boy  от пришёл Game Boy Advance, чей жизненный цикл фактически дублировал PlayStation2 c отличием лишь в объёмах продаж.\n",
    "\n",
    "Средняя продолжительность жизни платформы - 8 лет. Пик продаж приходится, как правило, на середину цикла, в результате мы можем говорить о самом классическом маркетинговом подходе к продвижению продаж. \n",
    "\n",
    "Устойчиво держится PC - игры на персональных компьютерах это стабильный тренд, который пришёл на рынок вместе с широким распространеним ПК.\n",
    "\n",
    "Для определения наиболее перспективных платформ посмотрим на продажи копий за 7 лет, включая неполный 2016 год:"
   ]
  },
  {
   "cell_type": "markdown",
   "metadata": {},
   "source": [
    "<div class=\"alert alert-warning\">\n",
    "<h2> Комментарий ревьюера </h2>\n",
    "\n",
    "Значение средней продолжительности существования платформы приведено. Однако выводы ты делаешь по графику. Стоит также привести расчет данного значения. Подумай, стоит ли включать в расчет все платформы. Будут ли выбросы по продолжительности существования платформ?\n",
    "\n",
    "</div>\n",
    "\n",
    "<div class=\"alert alert-block alert-info\">\n",
    "Согласна, расчётных данных явно не хватает - добавляю и меняю 10 лет на 8 :) Здесь же добавляю график по количеству платформ и кол-ву  лет продолжительности их жизни.\n",
    "Общий график оставлю - он хорошо показывает, что происходит с платформами с течением времени. \n",
    "</div>"
   ]
  },
  {
   "cell_type": "markdown",
   "metadata": {},
   "source": [
    "<div class=\"alert alert-warning\">\n",
    "<h2> Комментарий ревьюера 2</h2>\n",
    "\n",
    "Расчет приведен. Только в него не стоило включать актуальные на настоящий момент платформы. Период их жизни еще продолжается. \n",
    "\n",
    "</div>"
   ]
  },
  {
   "cell_type": "code",
   "execution_count": 43,
   "metadata": {},
   "outputs": [],
   "source": [
    "platform_by_year = df.query('sales_total >0 and year_of_release <2021 and year_of_release> 2009').pivot_table(index='year_of_release', columns='platform', values='sales_total', aggfunc='sum')"
   ]
  },
  {
   "cell_type": "markdown",
   "metadata": {},
   "source": [
    "<div class=\"alert alert-success\">\n",
    "<h2> Комментарий ревьюера </h2>\n",
    "\n",
    "Актуальный период назван. Так в рассмотрение попадут только последние поколения платформ, а также будем рассматривать только конечный на данный момент интервал развития игровой индустрии. \n",
    "\n",
    "</div>"
   ]
  },
  {
   "cell_type": "code",
   "execution_count": 44,
   "metadata": {},
   "outputs": [
    {
     "data": {
      "text/html": [
       "<div>\n",
       "<style scoped>\n",
       "    .dataframe tbody tr th:only-of-type {\n",
       "        vertical-align: middle;\n",
       "    }\n",
       "\n",
       "    .dataframe tbody tr th {\n",
       "        vertical-align: top;\n",
       "    }\n",
       "\n",
       "    .dataframe thead th {\n",
       "        text-align: right;\n",
       "    }\n",
       "</style>\n",
       "<table border=\"1\" class=\"dataframe\">\n",
       "  <thead>\n",
       "    <tr style=\"text-align: right;\">\n",
       "      <th>platform</th>\n",
       "      <th>3DS</th>\n",
       "      <th>DS</th>\n",
       "      <th>PC</th>\n",
       "      <th>PS2</th>\n",
       "      <th>PS3</th>\n",
       "      <th>PS4</th>\n",
       "      <th>PSP</th>\n",
       "      <th>PSV</th>\n",
       "      <th>Wii</th>\n",
       "      <th>WiiU</th>\n",
       "      <th>X360</th>\n",
       "      <th>XOne</th>\n",
       "    </tr>\n",
       "    <tr>\n",
       "      <th>year_of_release</th>\n",
       "      <th></th>\n",
       "      <th></th>\n",
       "      <th></th>\n",
       "      <th></th>\n",
       "      <th></th>\n",
       "      <th></th>\n",
       "      <th></th>\n",
       "      <th></th>\n",
       "      <th></th>\n",
       "      <th></th>\n",
       "      <th></th>\n",
       "      <th></th>\n",
       "    </tr>\n",
       "  </thead>\n",
       "  <tbody>\n",
       "    <tr>\n",
       "      <td>2010</td>\n",
       "      <td>NaN</td>\n",
       "      <td>85.02</td>\n",
       "      <td>24.28</td>\n",
       "      <td>5.64</td>\n",
       "      <td>142.17</td>\n",
       "      <td>NaN</td>\n",
       "      <td>35.04</td>\n",
       "      <td>NaN</td>\n",
       "      <td>127.95</td>\n",
       "      <td>NaN</td>\n",
       "      <td>170.03</td>\n",
       "      <td>NaN</td>\n",
       "    </tr>\n",
       "    <tr>\n",
       "      <td>2011</td>\n",
       "      <td>63.20</td>\n",
       "      <td>26.18</td>\n",
       "      <td>35.03</td>\n",
       "      <td>0.45</td>\n",
       "      <td>156.78</td>\n",
       "      <td>NaN</td>\n",
       "      <td>17.82</td>\n",
       "      <td>4.63</td>\n",
       "      <td>59.65</td>\n",
       "      <td>NaN</td>\n",
       "      <td>143.89</td>\n",
       "      <td>NaN</td>\n",
       "    </tr>\n",
       "    <tr>\n",
       "      <td>2012</td>\n",
       "      <td>51.36</td>\n",
       "      <td>11.01</td>\n",
       "      <td>23.22</td>\n",
       "      <td>NaN</td>\n",
       "      <td>107.36</td>\n",
       "      <td>NaN</td>\n",
       "      <td>7.69</td>\n",
       "      <td>16.19</td>\n",
       "      <td>21.71</td>\n",
       "      <td>17.56</td>\n",
       "      <td>99.74</td>\n",
       "      <td>NaN</td>\n",
       "    </tr>\n",
       "    <tr>\n",
       "      <td>2013</td>\n",
       "      <td>56.57</td>\n",
       "      <td>1.54</td>\n",
       "      <td>12.73</td>\n",
       "      <td>NaN</td>\n",
       "      <td>113.25</td>\n",
       "      <td>25.99</td>\n",
       "      <td>3.14</td>\n",
       "      <td>10.59</td>\n",
       "      <td>8.59</td>\n",
       "      <td>21.65</td>\n",
       "      <td>88.58</td>\n",
       "      <td>18.96</td>\n",
       "    </tr>\n",
       "    <tr>\n",
       "      <td>2014</td>\n",
       "      <td>43.76</td>\n",
       "      <td>NaN</td>\n",
       "      <td>13.28</td>\n",
       "      <td>NaN</td>\n",
       "      <td>47.76</td>\n",
       "      <td>100.00</td>\n",
       "      <td>0.24</td>\n",
       "      <td>11.90</td>\n",
       "      <td>3.75</td>\n",
       "      <td>22.03</td>\n",
       "      <td>34.74</td>\n",
       "      <td>54.07</td>\n",
       "    </tr>\n",
       "    <tr>\n",
       "      <td>2015</td>\n",
       "      <td>27.78</td>\n",
       "      <td>NaN</td>\n",
       "      <td>8.52</td>\n",
       "      <td>NaN</td>\n",
       "      <td>16.82</td>\n",
       "      <td>118.90</td>\n",
       "      <td>0.12</td>\n",
       "      <td>6.25</td>\n",
       "      <td>1.14</td>\n",
       "      <td>16.35</td>\n",
       "      <td>11.96</td>\n",
       "      <td>60.14</td>\n",
       "    </tr>\n",
       "    <tr>\n",
       "      <td>2016</td>\n",
       "      <td>15.14</td>\n",
       "      <td>NaN</td>\n",
       "      <td>5.25</td>\n",
       "      <td>NaN</td>\n",
       "      <td>3.60</td>\n",
       "      <td>69.25</td>\n",
       "      <td>NaN</td>\n",
       "      <td>4.25</td>\n",
       "      <td>0.18</td>\n",
       "      <td>4.60</td>\n",
       "      <td>1.52</td>\n",
       "      <td>26.15</td>\n",
       "    </tr>\n",
       "  </tbody>\n",
       "</table>\n",
       "</div>"
      ],
      "text/plain": [
       "platform           3DS     DS     PC   PS2     PS3     PS4    PSP    PSV  \\\n",
       "year_of_release                                                            \n",
       "2010               NaN  85.02  24.28  5.64  142.17     NaN  35.04    NaN   \n",
       "2011             63.20  26.18  35.03  0.45  156.78     NaN  17.82   4.63   \n",
       "2012             51.36  11.01  23.22   NaN  107.36     NaN   7.69  16.19   \n",
       "2013             56.57   1.54  12.73   NaN  113.25   25.99   3.14  10.59   \n",
       "2014             43.76    NaN  13.28   NaN   47.76  100.00   0.24  11.90   \n",
       "2015             27.78    NaN   8.52   NaN   16.82  118.90   0.12   6.25   \n",
       "2016             15.14    NaN   5.25   NaN    3.60   69.25    NaN   4.25   \n",
       "\n",
       "platform            Wii   WiiU    X360   XOne  \n",
       "year_of_release                                \n",
       "2010             127.95    NaN  170.03    NaN  \n",
       "2011              59.65    NaN  143.89    NaN  \n",
       "2012              21.71  17.56   99.74    NaN  \n",
       "2013               8.59  21.65   88.58  18.96  \n",
       "2014               3.75  22.03   34.74  54.07  \n",
       "2015               1.14  16.35   11.96  60.14  \n",
       "2016               0.18   4.60    1.52  26.15  "
      ]
     },
     "execution_count": 44,
     "metadata": {},
     "output_type": "execute_result"
    }
   ],
   "source": [
    "platform_by_year"
   ]
  },
  {
   "cell_type": "markdown",
   "metadata": {},
   "source": [
    "Таблица показывает, что рост демонстрируют XOne, не вошедшая в топ, и PS4. \n",
    "\n",
    "Построим боксплоты для оценки продаж по платформам за период с 2010 года:"
   ]
  },
  {
   "cell_type": "markdown",
   "metadata": {},
   "source": [
    "<div class=\"alert alert-success\">\n",
    "<h2> Комментарий ревьюера </h2>\n",
    "\n",
    "Да, именно эти платформы мы и можем назвать перспективными на 2017 год. \n",
    "\n",
    "</div>"
   ]
  },
  {
   "cell_type": "code",
   "execution_count": 45,
   "metadata": {},
   "outputs": [
    {
     "data": {
      "image/png": "[encoded data removed]",
      "text/plain": [
       "<Figure size 432x288 with 1 Axes>"
      ]
     },
     "metadata": {
      "needs_background": "light"
     },
     "output_type": "display_data"
    }
   ],
   "source": [
    "df.query('year_of_release <2021 and year_of_release> 2009').boxplot(column='sales_total', by='platform', grid=False)\n",
    "plt.title('Боксплоты по продажам на платформах', fontsize=15);\n"
   ]
  },
  {
   "cell_type": "markdown",
   "metadata": {},
   "source": [
    "<div class=\"alert alert-success\">\n",
    "<h2> Комментарий ревьюера </h2>\n",
    "\n",
    "С предупреждениями также стоит разобраться. Иногда их бывает слишком много, поэтому важно уметь их скрывать. В этом тебе поможет библиотека warnings. Попробуй найти подходящий метод и убрать предупреждения.  \n",
    "\n",
    "</div>\n",
    "\n",
    "<div class=\"alert alert-block alert-info\">\n",
    "Артём, отдельное мерси за этот совет!\n",
    "</div>"
   ]
  },
  {
   "cell_type": "markdown",
   "metadata": {},
   "source": [
    "<div class=\"alert alert-success\">\n",
    "<h2> Комментарий ревьюера 2</h2>\n",
    "\n",
    "👍 \n",
    "\n",
    "</div>"
   ]
  },
  {
   "cell_type": "markdown",
   "metadata": {},
   "source": [
    "Диаграммы размаха отражают данные по продажам за 2010-2016 годы по каждой из платформ и свидетельствует о наличии выбросов по большинству платформ. Датасеты скошены вправо, расстояние между первым квартилем и медианой заметно меньше, чем расстояние между медианой и третьим квартилем. Это говорит о наличии очень высоких показателей (выбросов) относительно медианных значений продаж. \n",
    "Продажи свыше 20 млн.копий достигли платформы PS3 от Sony и X360 от Microsoft. Порога 10 миллионов достигли 3DS, DS, PS4 (несмотря на старт продаж в 2013 году) и Wii. Такие выбросы свидетельствуют о наличии взрывного спроса на игры в определённом периоде. Широкая рекламная и маркетинговая поддержка, а также успешная работа с цифровой дистрибуцией обеспечивает подогрев интереса к новым решениям среди геймеров, формируя fun сообщества и game культуру. "
   ]
  },
  {
   "cell_type": "markdown",
   "metadata": {},
   "source": [
    "<div class=\"alert alert-success\">\n",
    "<h2> Комментарий ревьюера </h2>\n",
    "\n",
    "Опять же здорово, что ты обосновала причины различий между платформами.  \n",
    "\n",
    "</div>"
   ]
  },
  {
   "cell_type": "markdown",
   "metadata": {},
   "source": [
    "## 3.3. Анализ распределения игр по жанрам <a name=\"шаг-3-3\"></a>\n",
    "\n",
    "Посмотрим на общее распределение игр по жанрам за различные равные (5 лет) периоды: с 2005 по  2010 и с 2011 по 2015 годы."
   ]
  },
  {
   "cell_type": "code",
   "execution_count": 46,
   "metadata": {
    "scrolled": true
   },
   "outputs": [
    {
     "data": {
      "image/png": "[encoded data removed]",
      "text/plain": [
       "<Figure size 1440x504 with 1 Axes>"
      ]
     },
     "metadata": {
      "needs_background": "light"
     },
     "output_type": "display_data"
    }
   ],
   "source": [
    "genres = df.query('year_of_release > 2005 and year_of_release <2011').pivot_table(index='genre', values='sales_total', aggfunc='sum').sort_values(by='sales_total')\n",
    "genres.plot(kind='barh', figsize=(20, 7), grid=True)\n",
    "plt.title('Динамика продаж по жанрам за 2005-2010 гг., млн.копий ', fontsize=15);"
   ]
  },
  {
   "cell_type": "markdown",
   "metadata": {},
   "source": [
    "Action и Sports - наиболее продаваемые жанры в периоде 1990-2010 годы, а Puzzle  и  Strategy оказались наименее востребоваными.\n",
    "Оценим более поздний период  - 2011-2015 гг.:"
   ]
  },
  {
   "cell_type": "code",
   "execution_count": 47,
   "metadata": {},
   "outputs": [
    {
     "data": {
      "image/png": "[encoded data removed]",
      "text/plain": [
       "<Figure size 1440x504 with 1 Axes>"
      ]
     },
     "metadata": {
      "needs_background": "light"
     },
     "output_type": "display_data"
    }
   ],
   "source": [
    "genres = df.query('year_of_release > 2010 and year_of_release <2016').pivot_table(index='genre', values='sales_total', aggfunc='sum').sort_values(by='sales_total')\n",
    "genres.plot(kind='barh', figsize=(20, 7), grid=True)\n",
    "plt.title('Динамика продаж по жанрам за 2011-2015 гг., млн.копий ', fontsize=15);"
   ]
  },
  {
   "cell_type": "code",
   "execution_count": 48,
   "metadata": {
    "scrolled": true
   },
   "outputs": [
    {
     "data": {
      "text/plain": [
       "(              sales_total\n",
       " genre                    \n",
       " Strategy            50.98\n",
       " Puzzle              80.07\n",
       " Adventure           96.31\n",
       " Fighting           124.52\n",
       " Simulation         170.39\n",
       " Platform           191.06\n",
       " Racing             210.73\n",
       " Role-Playing       276.77\n",
       " Shooter            314.13\n",
       " Misc               415.44\n",
       " Sports             557.53\n",
       " Action             558.85,)"
      ]
     },
     "execution_count": 48,
     "metadata": {},
     "output_type": "execute_result"
    }
   ],
   "source": [
    "df.query('year_of_release > 2005 and year_of_release <2011').pivot_table(index='genre', values='sales_total', aggfunc='sum').sort_values(by='sales_total'),"
   ]
  },
  {
   "cell_type": "code",
   "execution_count": 49,
   "metadata": {},
   "outputs": [
    {
     "data": {
      "text/plain": [
       "(              sales_total\n",
       " genre                    \n",
       " Puzzle               9.84\n",
       " Strategy            21.03\n",
       " Adventure           41.22\n",
       " Simulation          48.37\n",
       " Fighting            62.43\n",
       " Platform            85.45\n",
       " Racing              85.57\n",
       " Misc               136.82\n",
       " Sports             213.66\n",
       " Role-Playing       227.45\n",
       " Shooter            364.69\n",
       " Action             528.04,)"
      ]
     },
     "execution_count": 49,
     "metadata": {},
     "output_type": "execute_result"
    }
   ],
   "source": [
    "df.query('year_of_release > 2010 and year_of_release <2016').pivot_table(index='genre', values='sales_total', aggfunc='sum').sort_values(by='sales_total'),"
   ]
  },
  {
   "cell_type": "markdown",
   "metadata": {},
   "source": [
    "Более поздний период времени (2011-2016 гг.) характеризуется общим снижением продаж и по прежнему жанр Action показывает лидерство, но с некоторым сокращением продаж до 528 с 558 млн. Жанр Sports был смещён на четвертое место, уступив Shooter и  Role-Playing. Следует отметить, что такое смещение произошло не за счёт стремительного роста Shooter и  Role-Playing, а скорее благодаря значительному падению продаж по Sports. Puzzle  и  Strategy ещё больше сдали свои позиции. Более чем в 2 раза упали продажи по жанру Racing, а жанр Misc просел с 415 млн. до 137 млн.\n",
    "Action остаётся самым востребованным жанром и в обозримом будущем эта ситуация, вероятно, не изменится."
   ]
  },
  {
   "cell_type": "markdown",
   "metadata": {},
   "source": [
    "<div class=\"alert alert-success\">\n",
    "<h2> Комментарий ревьюера </h2>\n",
    "\n",
    "Анализ популярности жанров проведен. Однако не стоит забывать, что производство игр в жанрах Action или Shooter обходится сильно дороже, чем производство Puzzle-игр. \n",
    "\n",
    "</div>"
   ]
  },
  {
   "cell_type": "markdown",
   "metadata": {},
   "source": [
    "## 3.4. Анализ продаж в зависимости от отзывов на базе популярной платформы <a name=\"шаг-3-4\"></a>"
   ]
  },
  {
   "cell_type": "markdown",
   "metadata": {},
   "source": [
    "Проверим корреляцию между оценками пользователей и критиков и другими значениями:"
   ]
  },
  {
   "cell_type": "code",
   "execution_count": 50,
   "metadata": {},
   "outputs": [
    {
     "data": {
      "text/html": [
       "<div>\n",
       "<style scoped>\n",
       "    .dataframe tbody tr th:only-of-type {\n",
       "        vertical-align: middle;\n",
       "    }\n",
       "\n",
       "    .dataframe tbody tr th {\n",
       "        vertical-align: top;\n",
       "    }\n",
       "\n",
       "    .dataframe thead th {\n",
       "        text-align: right;\n",
       "    }\n",
       "</style>\n",
       "<table border=\"1\" class=\"dataframe\">\n",
       "  <thead>\n",
       "    <tr style=\"text-align: right;\">\n",
       "      <th></th>\n",
       "      <th>year_of_release</th>\n",
       "      <th>na_sales</th>\n",
       "      <th>eu_sales</th>\n",
       "      <th>jp_sales</th>\n",
       "      <th>other_sales</th>\n",
       "      <th>critic_score</th>\n",
       "      <th>user_score</th>\n",
       "      <th>sales_total</th>\n",
       "    </tr>\n",
       "  </thead>\n",
       "  <tbody>\n",
       "    <tr>\n",
       "      <td>critic_score</td>\n",
       "      <td>-0.015895</td>\n",
       "      <td>0.233367</td>\n",
       "      <td>0.212023</td>\n",
       "      <td>0.146175</td>\n",
       "      <td>0.191105</td>\n",
       "      <td>1.000000</td>\n",
       "      <td>0.580878</td>\n",
       "      <td>0.236962</td>\n",
       "    </tr>\n",
       "    <tr>\n",
       "      <td>user_score</td>\n",
       "      <td>-0.238199</td>\n",
       "      <td>0.086496</td>\n",
       "      <td>0.055573</td>\n",
       "      <td>0.127103</td>\n",
       "      <td>0.057359</td>\n",
       "      <td>0.580878</td>\n",
       "      <td>1.000000</td>\n",
       "      <td>0.088602</td>\n",
       "    </tr>\n",
       "    <tr>\n",
       "      <td>sales_total</td>\n",
       "      <td>-0.005808</td>\n",
       "      <td>0.955492</td>\n",
       "      <td>0.938675</td>\n",
       "      <td>0.612541</td>\n",
       "      <td>0.804503</td>\n",
       "      <td>0.236962</td>\n",
       "      <td>0.088602</td>\n",
       "      <td>1.000000</td>\n",
       "    </tr>\n",
       "  </tbody>\n",
       "</table>\n",
       "</div>"
      ],
      "text/plain": [
       "              year_of_release  na_sales  eu_sales  jp_sales  other_sales  \\\n",
       "critic_score        -0.015895  0.233367  0.212023  0.146175     0.191105   \n",
       "user_score          -0.238199  0.086496  0.055573  0.127103     0.057359   \n",
       "sales_total         -0.005808  0.955492  0.938675  0.612541     0.804503   \n",
       "\n",
       "              critic_score  user_score  sales_total  \n",
       "critic_score      1.000000    0.580878     0.236962  \n",
       "user_score        0.580878    1.000000     0.088602  \n",
       "sales_total       0.236962    0.088602     1.000000  "
      ]
     },
     "execution_count": 50,
     "metadata": {},
     "output_type": "execute_result"
    }
   ],
   "source": [
    "df.query('user_score <= 10 and critic_score >=13').corr().tail(3)"
   ]
  },
  {
   "cell_type": "markdown",
   "metadata": {},
   "source": [
    "Корреляция между общими продажами и отзывами практически отсутствует: \n",
    "\n",
    "- 0.236962 (23,7%) - sales_total-critic_score  и \n",
    "- 0.088602  (8,8%) - sales_total-user_score.\n",
    "при этом, если отзывы критиков пользователи еще могут учесть, то отзывы других пользователей никак не влияют на покупки.\n",
    "Если рассмтривать коэффициенты корреляции между продажами по регионам и отзывами критиков, то можно сказать, что  американский рынок более восприимчив к мнению критиков, а японский рынок восприимчив в меньшей степени. Тогда как именно японский рынок относительно более чувствителен к мнению других игроков.\n",
    "Примечательно, что мнения критиков и пользователей периодически расходятся: коэффициент корреляции между ними 0,58 (58%)."
   ]
  },
  {
   "cell_type": "markdown",
   "metadata": {},
   "source": [
    "Для оценки влияния отзывов пользователей и критиков на продажи внутри платформ рассмотрим лидера продаж за период  с 2010 года - X360. Xbox 360 вторая по счёту игровая приставка от Майкрософт и основной конкурент PlayStation3 от Sony и Wii от Nintendo. "
   ]
  },
  {
   "cell_type": "code",
   "execution_count": 51,
   "metadata": {},
   "outputs": [
    {
     "data": {
      "image/png": "[encoded data removed]",
      "text/plain": [
       "<Figure size 720x360 with 1 Axes>"
      ]
     },
     "metadata": {
      "needs_background": "light"
     },
     "output_type": "display_data"
    },
    {
     "data": {
      "image/png": "[encoded data removed]",
      "text/plain": [
       "<Figure size 720x360 with 1 Axes>"
      ]
     },
     "metadata": {
      "needs_background": "light"
     },
     "output_type": "display_data"
    }
   ],
   "source": [
    "df.query('platform == \"X360\" and critic_score >1').plot(kind='scatter', x='critic_score', y='sales_total', figsize=(10, 5), color='grey'), \n",
    "plt.title('Влияние отзывов на продажи для Х360', fontsize=15)\n",
    "df.query('platform == \"X360\" and user_score <100').plot(kind='scatter', x='user_score', y='sales_total', figsize=(10, 5));"
   ]
  },
  {
   "cell_type": "markdown",
   "metadata": {},
   "source": [
    "Посчитаем корреляцию между продажами игр для X360 и отзывами:"
   ]
  },
  {
   "cell_type": "code",
   "execution_count": 52,
   "metadata": {},
   "outputs": [
    {
     "data": {
      "text/plain": [
       "(0.3937358653072588, 0.11445882978454185)"
      ]
     },
     "execution_count": 52,
     "metadata": {},
     "output_type": "execute_result"
    }
   ],
   "source": [
    "df.query('platform==\"X360\"')['critic_score'].corr(df['sales_total']), df.query('platform==\"X360\"')['user_score'].corr(df['sales_total']),"
   ]
  },
  {
   "cell_type": "markdown",
   "metadata": {},
   "source": [
    "Оценка критиков определённым образом влияла на продажи игр для платформы X360, но корреляция не явная -   39%, тогда как оценка пользователей продемонстрировала отсутствие зависимости 11%.  "
   ]
  },
  {
   "cell_type": "markdown",
   "metadata": {},
   "source": [
    "<div class=\"alert alert-success\">\n",
    "<h2> Комментарий ревьюера </h2>\n",
    "\n",
    "Результат получен. Подумай, чем он вызван. Почему мы получаем такие результаты?\n",
    "\n",
    "</div>\n",
    "<div class=\"alert alert-block alert-info\">\n",
    "Да, вижу ошибку.Нашла свои единицы, которыми заменила Nan) \n",
    "</div>"
   ]
  },
  {
   "cell_type": "markdown",
   "metadata": {},
   "source": [
    "<div class=\"alert alert-success\">\n",
    "<h2> Комментарий ревьюера 2</h2>\n",
    "\n",
    "Да? Я видимо упустил этот момент. Здорово, что ты самостоятельно его нашла) Именно по этой причине и не тсоило хаполнять пропуски отвлеченным значением. \n",
    "\n",
    "</div>"
   ]
  },
  {
   "cell_type": "markdown",
   "metadata": {},
   "source": [
    "## Выводы\n",
    "\n",
    "- Рынок компьютерных игр показывает спад с 2010 года. Помимо мировых экономических кризисов, негативно отразившиеся на игровой индустрии, всё чаще появляются бесплатные проекты, которые привлекают пользователей.\n",
    "\n",
    "- 2008 и 2009 годы являются пиковыми по количеству выпущенных игр в исследуемом промежутке.- По количеству релизов наиболее популярны игры для платформ Nintendo DS (DS) и PlayStation 2 (PS2).\n",
    "\n",
    "- Игровые платформы имеют относительно короткий жизненный цикл продолжительностью 8 лет. Исключение составляет PC, которая стабильна на протяжении многих лет. \n",
    "\n",
    "- Наиболее перспективной является  платформа XOne, которая показала уверенный рост к концу анализируемого периода на фоне общего спада продаж на рынке.  Наиболее стабильной платформой является PC - игры на персональных компьютерах это тренд, который пришёл на рынок вместе с широким распространеним ПК.\n",
    "\n",
    "- Диаграммы размаха для продаж в разрезе платформ свидетельствуют о наличии больших выбросов, которые отражают периоды взрывного роста продаж по определённым платформам, который затем сменяется спадом и завершеним жизненного цикла платформы\n",
    "\n",
    "- Жанр Action наиболее востребованный жанр по количеству продаж. Жанры Racing, Misc и Sports демонстрируют значительное падение спроса среди геймеров. \n",
    "\n",
    "- Оценка критиков и пользователей слабо влияет на продажи игр через различные платформы - 24% корреляция между продажами  и мнением критиков, 9% - корреляция между продажами и мнением пользователей. Для лидера рынка Х360 позитивное мнение критиков в большей степени влияло на рост продаж (39%), тогда как мнение пользователей показало лишь небольшую зависимость(11%)."
   ]
  },
  {
   "cell_type": "markdown",
   "metadata": {},
   "source": [
    "<div class=\"alert alert-success\">\n",
    "<h2> Комментарий ревьюера </h2>\n",
    "\n",
    "Правильно, что ты не забываешь делать выводы по всем разделам работы. Они подводят итог проведенным действиям в конкретном шаге работы. \n",
    "\n",
    "</div>"
   ]
  },
  {
   "cell_type": "markdown",
   "metadata": {},
   "source": [
    "# Шаг 4. Составление портрета пользователя <a name=\"шаг-4\"></a>"
   ]
  },
  {
   "cell_type": "markdown",
   "metadata": {},
   "source": [
    "## 4.1. Самые популярные платформы (топ-5) для пользователя каждого региона <a name=\"шаг-4-1\"></a>\n",
    "\n",
    "Определите для пользователя каждого региона (NA, EU, JP): Самые популярные платформы (топ-5). Опишите различия в долях продаж. "
   ]
  },
  {
   "cell_type": "markdown",
   "metadata": {},
   "source": [
    "Ранее нами были определены наиболее популярные платформы. В первую пятерку по продажам входят PS2, X360, PS3, Wii и DS."
   ]
  },
  {
   "cell_type": "code",
   "execution_count": 53,
   "metadata": {},
   "outputs": [
    {
     "data": {
      "text/html": [
       "<div>\n",
       "<style scoped>\n",
       "    .dataframe tbody tr th:only-of-type {\n",
       "        vertical-align: middle;\n",
       "    }\n",
       "\n",
       "    .dataframe tbody tr th {\n",
       "        vertical-align: top;\n",
       "    }\n",
       "\n",
       "    .dataframe thead th {\n",
       "        text-align: right;\n",
       "    }\n",
       "</style>\n",
       "<table border=\"1\" class=\"dataframe\">\n",
       "  <thead>\n",
       "    <tr style=\"text-align: right;\">\n",
       "      <th></th>\n",
       "      <th>platform</th>\n",
       "      <th>sales_total</th>\n",
       "    </tr>\n",
       "  </thead>\n",
       "  <tbody>\n",
       "    <tr>\n",
       "      <td>0</td>\n",
       "      <td>PS2</td>\n",
       "      <td>1255.77</td>\n",
       "    </tr>\n",
       "    <tr>\n",
       "      <td>1</td>\n",
       "      <td>X360</td>\n",
       "      <td>971.42</td>\n",
       "    </tr>\n",
       "    <tr>\n",
       "      <td>2</td>\n",
       "      <td>PS3</td>\n",
       "      <td>939.65</td>\n",
       "    </tr>\n",
       "    <tr>\n",
       "      <td>3</td>\n",
       "      <td>Wii</td>\n",
       "      <td>907.51</td>\n",
       "    </tr>\n",
       "    <tr>\n",
       "      <td>4</td>\n",
       "      <td>DS</td>\n",
       "      <td>806.12</td>\n",
       "    </tr>\n",
       "  </tbody>\n",
       "</table>\n",
       "</div>"
      ],
      "text/plain": [
       "  platform  sales_total\n",
       "0      PS2      1255.77\n",
       "1     X360       971.42\n",
       "2      PS3       939.65\n",
       "3      Wii       907.51\n",
       "4       DS       806.12"
      ]
     },
     "execution_count": 53,
     "metadata": {},
     "output_type": "execute_result"
    }
   ],
   "source": [
    "top_5 = platform.loc[0:4]\n",
    "top_5"
   ]
  },
  {
   "cell_type": "markdown",
   "metadata": {},
   "source": [
    "Посмотрим, как изменятся доли продаж в зависимости от региона продаж:"
   ]
  },
  {
   "cell_type": "code",
   "execution_count": 54,
   "metadata": {},
   "outputs": [
    {
     "data": {
      "image/png": "[encoded data removed]",
      "text/plain": [
       "<Figure size 360x360 with 1 Axes>"
      ]
     },
     "metadata": {
      "needs_background": "light"
     },
     "output_type": "display_data"
    },
    {
     "data": {
      "image/png": "[encoded data removed]",
      "text/plain": [
       "<Figure size 360x360 with 1 Axes>"
      ]
     },
     "metadata": {
      "needs_background": "light"
     },
     "output_type": "display_data"
    },
    {
     "data": {
      "image/png": "[encoded data removed]",
      "text/plain": [
       "<Figure size 360x360 with 1 Axes>"
      ]
     },
     "metadata": {
      "needs_background": "light"
     },
     "output_type": "display_data"
    }
   ],
   "source": [
    "us = df.pivot_table(index='platform', values='na_sales', aggfunc='sum').sort_values(by='na_sales', ascending=False)\n",
    "us = us[0:5]\n",
    "us.plot(kind='bar', figsize=(5, 5), title='Лидерская пятёрка платформ по продажам игр в Северной Америке', y='na_sales'),\n",
    "\n",
    "eu = df.pivot_table(index='platform', values='eu_sales', aggfunc='sum').sort_values(by='eu_sales', ascending=False)\n",
    "eu = eu[0:5]\n",
    "eu.plot(kind='bar', figsize=(5, 5), title='Лидерская пятёрка платформ по продажам игр в Европе', y='eu_sales'),\n",
    "\n",
    "jp = df.pivot_table(index='platform', values='jp_sales', aggfunc='sum').sort_values(by='jp_sales', ascending=False)\n",
    "jp = jp[0:5]\n",
    "jp.plot(kind='bar', figsize=(5, 5), title='Лидерская пятёрка платформ по продажам игр в Японии', y='jp_sales');"
   ]
  },
  {
   "cell_type": "markdown",
   "metadata": {},
   "source": [
    "<div class=\"alert alert-warning\">\n",
    "<h2> Комментарий ревьюера</h2>\n",
    " \n",
    "Не советую использовать пироговые диаграммы (pie-charts). Такая диаграмма затрудняет понимание, особенно если сегментов будет больше 4х. Также, на этом типе диаграмм сложно визуально увидеть разницу между сегментами. Рекомендую использовать обычные столбчатые диаграммы вместо пироговых диаграмм. \n",
    "\n",
    "</div>\n",
    "\n",
    "<div class=\"alert alert-block alert-info\">\n",
    "Исправлено\n",
    "</div>"
   ]
  },
  {
   "cell_type": "markdown",
   "metadata": {},
   "source": [
    "<div class=\"alert alert-success\">\n",
    "<h2> Комментарий ревьюера 2</h2>\n",
    "\n",
    "Согласись, анализировтаь такие графики куда удобнее, чем круговые.\n",
    "\n",
    "</div>"
   ]
  },
  {
   "cell_type": "markdown",
   "metadata": {},
   "source": [
    "Диаграммы показывают, что американская аудитория предпочитает Xbox 360 Microsoft и PlayStation/\n",
    "Евпропейские геймеры чаще всего останавливают свой выбор на PlayStation. Тогда как японские пользователи отдают предпочтение Nintendo DS и PlayStation."
   ]
  },
  {
   "cell_type": "markdown",
   "metadata": {},
   "source": [
    "## 4.2. Самые популярные жанры (топ-5) для пользователя каждого региона <a name=\"шаг-4-2\"></a>"
   ]
  },
  {
   "cell_type": "code",
   "execution_count": 55,
   "metadata": {},
   "outputs": [
    {
     "data": {
      "text/plain": [
       "''"
      ]
     },
     "execution_count": 55,
     "metadata": {},
     "output_type": "execute_result"
    },
    {
     "data": {
      "image/png": "[encoded data removed]",
      "text/plain": [
       "<Figure size 360x360 with 1 Axes>"
      ]
     },
     "metadata": {
      "needs_background": "light"
     },
     "output_type": "display_data"
    },
    {
     "data": {
      "image/png": "[encoded data removed]",
      "text/plain": [
       "<Figure size 360x360 with 1 Axes>"
      ]
     },
     "metadata": {
      "needs_background": "light"
     },
     "output_type": "display_data"
    },
    {
     "data": {
      "image/png": "[encoded data removed]",
      "text/plain": [
       "<Figure size 360x360 with 1 Axes>"
      ]
     },
     "metadata": {
      "needs_background": "light"
     },
     "output_type": "display_data"
    }
   ],
   "source": [
    "us_genre = df.pivot_table(index='genre', values='na_sales', aggfunc='sum').sort_values(ascending=False, by='na_sales')\n",
    "us_genre = us_genre[0:5]\n",
    "us_genre.plot(kind='bar', figsize=(5, 5), title='Лидерская пятёрка жанров по продажам игр в в Северной Америке', y='na_sales')\n",
    "\n",
    "eu_genre = df.pivot_table(index='genre', values='eu_sales', aggfunc='sum').sort_values(ascending=False, by='eu_sales')\n",
    "eu_genre = eu_genre[0:5]\n",
    "eu_genre.plot(kind='bar',  figsize=(5, 5), title='Лидерская пятёрка жанров по продажам игр в Европе', y='eu_sales')\n",
    "\n",
    "jp_genre = df.pivot_table(index='genre', values='jp_sales', aggfunc='sum').sort_values(ascending=False, by='jp_sales')\n",
    "jp_genre = jp_genre[0:5]\n",
    "jp_genre.plot(kind='bar',  figsize=(5, 5), title='Лидерская пятёрка жанров по продажам игр в Японии', y='jp_sales')\n",
    ";"
   ]
  },
  {
   "cell_type": "markdown",
   "metadata": {},
   "source": [
    "Наиболее популярным игровым жанром для геймеров в Северной Америке и Европе являюся Action, Sport и Shooter. Среди геймеров Японии лидирующим жанром является Role-Playing, который в лидирующей пятёрке занимает 40%. Такая значительная доля РПГ в лидерах обусловлена играми Pokemon, которые занимают все первые позиции в рейтине продаж по жанру РПГ (Role-Playing). В Японии Pokemon представляет собой целую субкультуру, которая появилась в 1995 году, и которая ещё больше оживилась после выхода консолей Нинтендо -  DS, где эти игры хорошо представлены."
   ]
  },
  {
   "cell_type": "code",
   "execution_count": 56,
   "metadata": {},
   "outputs": [
    {
     "data": {
      "text/html": [
       "<div>\n",
       "<style scoped>\n",
       "    .dataframe tbody tr th:only-of-type {\n",
       "        vertical-align: middle;\n",
       "    }\n",
       "\n",
       "    .dataframe tbody tr th {\n",
       "        vertical-align: top;\n",
       "    }\n",
       "\n",
       "    .dataframe thead th {\n",
       "        text-align: right;\n",
       "    }\n",
       "</style>\n",
       "<table border=\"1\" class=\"dataframe\">\n",
       "  <thead>\n",
       "    <tr style=\"text-align: right;\">\n",
       "      <th></th>\n",
       "      <th>name</th>\n",
       "      <th>genre</th>\n",
       "      <th>platform</th>\n",
       "      <th>sum</th>\n",
       "    </tr>\n",
       "  </thead>\n",
       "  <tbody>\n",
       "    <tr>\n",
       "      <td>10571</td>\n",
       "      <td>Pokemon Red/Pokemon Blue</td>\n",
       "      <td>Role-Playing</td>\n",
       "      <td>GB</td>\n",
       "      <td>10.22</td>\n",
       "    </tr>\n",
       "    <tr>\n",
       "      <td>10558</td>\n",
       "      <td>Pokemon Gold/Pokemon Silver</td>\n",
       "      <td>Role-Playing</td>\n",
       "      <td>GB</td>\n",
       "      <td>7.20</td>\n",
       "    </tr>\n",
       "    <tr>\n",
       "      <td>13465</td>\n",
       "      <td>Super Mario Bros.</td>\n",
       "      <td>Platform</td>\n",
       "      <td>NES</td>\n",
       "      <td>6.81</td>\n",
       "    </tr>\n",
       "    <tr>\n",
       "      <td>9770</td>\n",
       "      <td>New Super Mario Bros.</td>\n",
       "      <td>Platform</td>\n",
       "      <td>DS</td>\n",
       "      <td>6.50</td>\n",
       "    </tr>\n",
       "    <tr>\n",
       "      <td>10556</td>\n",
       "      <td>Pokemon Diamond/Pokemon Pearl</td>\n",
       "      <td>Role-Playing</td>\n",
       "      <td>DS</td>\n",
       "      <td>6.04</td>\n",
       "    </tr>\n",
       "    <tr>\n",
       "      <td>10550</td>\n",
       "      <td>Pokemon Black/Pokemon White</td>\n",
       "      <td>Role-Playing</td>\n",
       "      <td>DS</td>\n",
       "      <td>5.65</td>\n",
       "    </tr>\n",
       "    <tr>\n",
       "      <td>10572</td>\n",
       "      <td>Pokemon Ruby/Pokemon Sapphire</td>\n",
       "      <td>Role-Playing</td>\n",
       "      <td>GBA</td>\n",
       "      <td>5.38</td>\n",
       "    </tr>\n",
       "    <tr>\n",
       "      <td>487</td>\n",
       "      <td>Animal Crossing: Wild World</td>\n",
       "      <td>Simulation</td>\n",
       "      <td>DS</td>\n",
       "      <td>5.33</td>\n",
       "    </tr>\n",
       "    <tr>\n",
       "      <td>1501</td>\n",
       "      <td>Brain Age 2: More Training in Minutes a Day</td>\n",
       "      <td>Puzzle</td>\n",
       "      <td>DS</td>\n",
       "      <td>5.32</td>\n",
       "    </tr>\n",
       "    <tr>\n",
       "      <td>8676</td>\n",
       "      <td>Monster Hunter Freedom 3</td>\n",
       "      <td>Role-Playing</td>\n",
       "      <td>PSP</td>\n",
       "      <td>4.87</td>\n",
       "    </tr>\n",
       "  </tbody>\n",
       "</table>\n",
       "</div>"
      ],
      "text/plain": [
       "                                              name         genre platform  \\\n",
       "10571                     Pokemon Red/Pokemon Blue  Role-Playing       GB   \n",
       "10558                  Pokemon Gold/Pokemon Silver  Role-Playing       GB   \n",
       "13465                            Super Mario Bros.      Platform      NES   \n",
       "9770                         New Super Mario Bros.      Platform       DS   \n",
       "10556                Pokemon Diamond/Pokemon Pearl  Role-Playing       DS   \n",
       "10550                  Pokemon Black/Pokemon White  Role-Playing       DS   \n",
       "10572                Pokemon Ruby/Pokemon Sapphire  Role-Playing      GBA   \n",
       "487                    Animal Crossing: Wild World    Simulation       DS   \n",
       "1501   Brain Age 2: More Training in Minutes a Day        Puzzle       DS   \n",
       "8676                      Monster Hunter Freedom 3  Role-Playing      PSP   \n",
       "\n",
       "         sum  \n",
       "10571  10.22  \n",
       "10558   7.20  \n",
       "13465   6.81  \n",
       "9770    6.50  \n",
       "10556   6.04  \n",
       "10550   5.65  \n",
       "10572   5.38  \n",
       "487     5.33  \n",
       "1501    5.32  \n",
       "8676    4.87  "
      ]
     },
     "execution_count": 56,
     "metadata": {},
     "output_type": "execute_result"
    }
   ],
   "source": [
    "games_jp= df.groupby(['name', 'genre', 'platform'])['jp_sales'].agg(['sum']).reset_index()\n",
    "games_jp.sort_values(by='sum', ascending = False).head(10)\n"
   ]
  },
  {
   "cell_type": "markdown",
   "metadata": {},
   "source": [
    "<div class=\"alert alert-warning\">\n",
    "<h2> Комментарий ревьюера </h2>\n",
    " \n",
    "Из-за чего японский рынок игр так сильно отличается от других? \n",
    "\n",
    "</div>\n",
    "\n",
    "<div class=\"alert alert-block alert-info\">\n",
    "Добавила. Причина  - покемоны и приставка нинтендо.\n",
    "</div>"
   ]
  },
  {
   "cell_type": "markdown",
   "metadata": {},
   "source": [
    "<div class=\"alert alert-success\">\n",
    "<h2> Комментарий ревьюера 2</h2>\n",
    "\n",
    "В целом, мы можем сказать, что культура данной страны сильно отличается, что и влияет на игровой рынок. \n",
    "\n",
    "</div>"
   ]
  },
  {
   "cell_type": "markdown",
   "metadata": {},
   "source": [
    "## 4.3. Влияние рейтинга ESRB на продажи в регионах <a name=\"шаг-4-3\"></a>\n",
    "\n",
    "Определите для пользователя каждого региона (NA, EU, JP): Влияет ли рейтинг ESRB на продажи в отдельном регионе?"
   ]
  },
  {
   "cell_type": "code",
   "execution_count": 57,
   "metadata": {},
   "outputs": [
    {
     "data": {
      "image/png": "[encoded data removed]",
      "text/plain": [
       "<Figure size 720x360 with 1 Axes>"
      ]
     },
     "metadata": {
      "needs_background": "light"
     },
     "output_type": "display_data"
    },
    {
     "data": {
      "image/png": "[encoded data removed]",
      "text/plain": [
       "<Figure size 720x360 with 1 Axes>"
      ]
     },
     "metadata": {
      "needs_background": "light"
     },
     "output_type": "display_data"
    },
    {
     "data": {
      "image/png": "[encoded data removed]",
      "text/plain": [
       "<Figure size 720x360 with 1 Axes>"
      ]
     },
     "metadata": {
      "needs_background": "light"
     },
     "output_type": "display_data"
    }
   ],
   "source": [
    "us_rank = df.pivot_table(index='rating_description', values='na_sales', aggfunc='sum').sort_values(ascending=False, by='na_sales')\n",
    "us_rank.plot(kind='barh',  title='Зависимость рейтинга ESRB от продаж в Северной Америке, млн.копий', figsize=(10, 5), color ='grey')\n",
    "\n",
    "eu_rank = df.pivot_table(index='rating_description', values='eu_sales', aggfunc='sum').sort_values(ascending=False, by='eu_sales')\n",
    "eu_rank.plot(kind='barh',  title='Зависимость рейтинга ESRB от продаж в Европе, млн.копий', figsize=(10, 5), color ='grey')\n",
    "\n",
    "jp_rank = df.pivot_table(index='rating_description', values='jp_sales', aggfunc='sum').sort_values(ascending=False, by='jp_sales')\n",
    "jp_rank.plot(kind='barh',  title='Зависимость рейтинга ESRB от продаж в Японии, млн.копий', figsize=(10, 5), color ='grey');"
   ]
  },
  {
   "cell_type": "markdown",
   "metadata": {},
   "source": [
    "По рейтингу ESRB, согласно данным по продажам, во всех регионах наиболее популярной категорий являются игры с маркировкой everyone. "
   ]
  },
  {
   "cell_type": "markdown",
   "metadata": {},
   "source": [
    "<div class=\"alert alert-danger\">\n",
    "<h2> Комментарий ревьюера</h2>\n",
    "\n",
    "Обрати внимание - ты не учитываешь игры без рейтинга. В результате огромная часть игр просто выпадает из анализа. Найди способ учесть их при группировке значений по рейтингу.\n",
    "    \n",
    "</div>\n",
    "<div class=\"alert alert-block alert-info\">\n",
    "Добавила.  \n",
    "</div>"
   ]
  },
  {
   "cell_type": "markdown",
   "metadata": {},
   "source": [
    "<div class=\"alert alert-success\">\n",
    "<h2> Комментарий ревьюера 2</h2>\n",
    "\n",
    "Отлично, ты обнаружила важную особенность японского региона - большая часть игр без рейтинга. Как думаешь, почему мы получаем такой результат?\n",
    "\n",
    "</div>"
   ]
  },
  {
   "cell_type": "markdown",
   "metadata": {},
   "source": [
    "## Выводы\n",
    "- Из всех игровых платформ американская аудитория предпочитает Xbox 360 Microsoft и PlayStation.\n",
    "Евпропейские геймеры чаще всего останавливают свой выбор на PlayStation. Тогда как японские пользователи отдают предпочтение Nintendo DS и PlayStation. \n",
    "\n",
    "- Наиболее популярным игровым жанром для геймеров в Северной Америке и Европе являюся Action, Sport и Shooter. Среди геймеров Японии лидирующим жанром является Role-Playing, который в лидирующей пятёрке занимает 40%. \n",
    "\n",
    "- По рейтингу ESRB, согласно данным по продажам, во всех регионах наиболее популярной категорий являются игры с маркировкой everyone. "
   ]
  },
  {
   "cell_type": "markdown",
   "metadata": {},
   "source": [
    "<div class=\"alert alert-success\">\n",
    "<h2> Комментарий ревьюера </h2>\n",
    "\n",
    "Портрет типичного пользователя каждого из регионов получен. Приведены все необходимые графики. Подумай над особенностями каждого из регионов. \n",
    "\n",
    "</div>"
   ]
  },
  {
   "cell_type": "markdown",
   "metadata": {},
   "source": [
    "# Шаг 5. Проверка гипотез <a name=\"шаг-5\"></a>"
   ]
  },
  {
   "cell_type": "markdown",
   "metadata": {},
   "source": [
    "## 5.1. Гипотеза: средние пользовательские рейтинги платформ Xbox One и PC одинаковые <a name=\"шаг-5-1\"></a>"
   ]
  },
  {
   "cell_type": "markdown",
   "metadata": {},
   "source": [
    "Сформулируем гипотезы:\n",
    "\n",
    "- Н0 (нулевая гипотеза) - средние пользовательские рейтинги платформ Xbox One и PC одинаковые.\n",
    "- Н1 (альтернативная гипотеза) - средние пользовательские рейтинги платформ Xbox One и PC отличаются друг от друга.\n",
    "\n",
    "\n",
    "Для проверки данных гипотез проведём статистический тест и расчитаем покзатель значение вероятности (p-value) с учетом заданного показателя критического уровня статистической значимости alpha. Пороговое значение альфа зададим в размере 5%.\n",
    "\n",
    "Если p-value окажется меньше alpha - отвергнем гипотезу.\n",
    "\n",
    "Формируем выборку за актуальный период (2010-2015 гг.):"
   ]
  },
  {
   "cell_type": "code",
   "execution_count": 58,
   "metadata": {},
   "outputs": [],
   "source": [
    "x_one = df.query('platform == \"XOne\" and user_score != \"NaN\" and year_of_release > 2009 and year_of_release < 2016').reset_index()\n",
    "pc = df.query('platform == \"PC\" and user_score != \"NaN\" and year_of_release > 2009 and year_of_release < 2016').reset_index()\n",
    "\n",
    "x_one_rank =x_one['user_score']\n",
    "pc_rank =pc['user_score']"
   ]
  },
  {
   "cell_type": "markdown",
   "metadata": {},
   "source": [
    "Делаю проверку дисперсии по каждой выборке, указывая параметр ddof=1 (то есть считаю статистику s², а не дисперсию σ², т.к.у нас выборка, а не вся совокупность данных):"
   ]
  },
  {
   "cell_type": "code",
   "execution_count": 59,
   "metadata": {},
   "outputs": [
    {
     "data": {
      "text/plain": [
       "1.6594932533733138"
      ]
     },
     "execution_count": 59,
     "metadata": {},
     "output_type": "execute_result"
    }
   ],
   "source": [
    "variance_x_one_rank = np.var(x_one_rank, ddof=1)\n",
    "variance_x_one_rank  #дисперсия или точнее статистика для платформы Xbox One"
   ]
  },
  {
   "cell_type": "code",
   "execution_count": 60,
   "metadata": {},
   "outputs": [
    {
     "data": {
      "text/plain": [
       "2.377261582389242"
      ]
     },
     "execution_count": 60,
     "metadata": {},
     "output_type": "execute_result"
    }
   ],
   "source": [
    "variance_pc_rank = np.var(pc_rank, ddof=1)\n",
    "variance_pc_rank  #дисперсия или точнее статистика для платформы РС"
   ]
  },
  {
   "cell_type": "markdown",
   "metadata": {},
   "source": [
    "Считаем, что дисперсии не равны (отличие на 0,6) и укажем это в формуле в виде equal_var =False для расчёта p-значения:"
   ]
  },
  {
   "cell_type": "code",
   "execution_count": 61,
   "metadata": {},
   "outputs": [
    {
     "name": "stdout",
     "output_type": "stream",
     "text": [
      "p-значение: 60.16871%\n"
     ]
    }
   ],
   "source": [
    "results = st.ttest_ind(x_one_rank, pc_rank, equal_var =False)\n",
    "print('p-значение:', '{:.5%}'.format(results.pvalue))"
   ]
  },
  {
   "cell_type": "markdown",
   "metadata": {},
   "source": [
    "Не удалось отвергнуть нулевую гипотезу: вероятность того, что средние пользовательские рейтинги платформ Xbox One и PC одинаковые равна 60%."
   ]
  },
  {
   "cell_type": "markdown",
   "metadata": {},
   "source": [
    "<div class=\"alert alert-danger\">\n",
    "<h2> Комментарий ревьюера </h2>\n",
    "\n",
    "Гипотезы сформулированы и проверены верно. Только анализировать стоит данные актуального периода. Это позволит увеличить точность проводимого анализа. \n",
    "\n",
    "</div>\n",
    "</div>\n",
    "<div class=\"alert alert-block alert-info\">\n",
    "Исправила: удалила всё, что было до 2010 года и исключила неполный 2016 год и всё в корне поменялось)\n",
    "</div>"
   ]
  },
  {
   "cell_type": "markdown",
   "metadata": {},
   "source": [
    "<div class=\"alert alert-success\">\n",
    "<h2> Комментарий ревьюера 2</h2>\n",
    "\n",
    "Ага, именно анализ последнего периода по платформам позволит нам увеличить качество прогноза на 2017 год. \n",
    "\n",
    "</div>"
   ]
  },
  {
   "cell_type": "markdown",
   "metadata": {},
   "source": [
    "## 5.2. Гипотеза: Средние пользовательские рейтинги жанров Action  и Sports  разные <a name=\"шаг-5-2\"></a>"
   ]
  },
  {
   "cell_type": "markdown",
   "metadata": {},
   "source": [
    "Сформулируем гипотезы:\n",
    "\n",
    "- Н0 (нулевая гипотеза) - средние пользовательские рейтинги жанров Action и Sports одинаковые.\n",
    "- Н1 (альтернативная гипотеза) - средние пользовательские рейтинги жанров Action и Sports отличаются друг от друга.\n",
    "\n",
    "\n",
    "Для проверки данных гипотез проведём статистический тест и расчитаем покзатель значение вероятности (p-value) с учетом заданного показтеля критического уровня статистической значимости alpha. Пороговое значение альфа зададим в размере 5%.\n",
    "\n",
    "Если p-value окажется меньше alpha - отвергнем гипотезу.\n",
    "Формируем выборку за актуальный период (2010-2015 гг.):"
   ]
  },
  {
   "cell_type": "code",
   "execution_count": 62,
   "metadata": {},
   "outputs": [],
   "source": [
    "action = df.query('genre == \"Action\" and user_score != \"NaN\" and year_of_release > 2009 and year_of_release < 2016').reset_index()\n",
    "sports = df.query('genre == \"Sports\" and user_score != \"NaN\" and year_of_release > 2009 and year_of_release < 2016').reset_index()\n",
    "\n",
    "action_rank =action['user_score']\n",
    "sports_rank =sports['user_score']"
   ]
  },
  {
   "cell_type": "markdown",
   "metadata": {},
   "source": [
    "Делаю проверку дисперсии по каждой выборке:"
   ]
  },
  {
   "cell_type": "code",
   "execution_count": 63,
   "metadata": {},
   "outputs": [
    {
     "data": {
      "text/plain": [
       "1.8130656604399478"
      ]
     },
     "execution_count": 63,
     "metadata": {},
     "output_type": "execute_result"
    }
   ],
   "source": [
    "variance_action_rank = np.var(action_rank, ddof=1)\n",
    "variance_action_rank #дисперсия или точнее статистика для жанра Action"
   ]
  },
  {
   "cell_type": "code",
   "execution_count": 64,
   "metadata": {},
   "outputs": [
    {
     "data": {
      "text/plain": [
       "2.6399288367140223"
      ]
     },
     "execution_count": 64,
     "metadata": {},
     "output_type": "execute_result"
    }
   ],
   "source": [
    "variance_sports_rank = np.var(sports_rank, ddof=1)\n",
    "variance_sports_rank #статистика для жанра Sports"
   ]
  },
  {
   "cell_type": "markdown",
   "metadata": {},
   "source": [
    "Считаем, что дисперсии не равны (отличие почти на единицу) и укажем это в формуле в виде equal_var =False для расчёта p-значения:"
   ]
  },
  {
   "cell_type": "code",
   "execution_count": 65,
   "metadata": {},
   "outputs": [
    {
     "name": "stdout",
     "output_type": "stream",
     "text": [
      "p-значение: 0.000000000016429%\n"
     ]
    }
   ],
   "source": [
    "results = st.ttest_ind(action_rank, sports_rank, equal_var =False)\n",
    "print('p-значение:', '{:.15%}'.format(results.pvalue))"
   ]
  },
  {
   "cell_type": "markdown",
   "metadata": {},
   "source": [
    "Отвергаем нулевую гипотезу: вероятность того, что  средние пользовательские рейтинги жанров Action и Sports одинаковые  составляет ничтожно малое значение."
   ]
  },
  {
   "cell_type": "markdown",
   "metadata": {},
   "source": [
    "<div class=\"alert alert-danger\">\n",
    "<h2> Комментарий ревьюера </h2>\n",
    "\n",
    "Прежде чем произвести проверку гипотезы через T-критерий Стьюдента произведи проверку дисперсии выборок, чтобы понять с каким параметром использовать метод проверки.\n",
    "\n",
    "</div>\n",
    "</div>\n",
    "<div class=\"alert alert-block alert-info\">\n",
    "Сделано\n",
    "</div>"
   ]
  },
  {
   "cell_type": "markdown",
   "metadata": {},
   "source": [
    "<div class=\"alert alert-success\">\n",
    "<h2> Комментарий ревьюера 2</h2>\n",
    "\n",
    "Уточнение параметра equal_var позволяет нам увеличить точность исследования. Правильно, что ты реализовала сравнение дисперсий выборок и уточнила данный параметр. \n",
    "\n",
    "</div>"
   ]
  },
  {
   "cell_type": "markdown",
   "metadata": {},
   "source": [
    "## Выводы\n",
    "Раздел  предполагал проверку двух гипотез о различии пользовательского рейтинга.  Для проверки  гипотез проведён статистический тест и рассчитан покзатель значение вероятности (p-value) с учетом заданного показателя критического уровня статистической значимости alpha. Пороговое значение альфа было задано и в одном и в другом случае равное 5%. На основании полученного p-value и сравнения его с показателем критического уровня статистической значимости гипотезы отвергались или не отвергались. \n",
    "\n",
    "1) Не удалось отвергнуть нулевую гипотезу: вероятность того, что средние пользовательские рейтинги платформ Xbox One и PC одинаковые равна 60%.\n",
    "    \n",
    "2) Отвергаем  нулевую гипотезу: вероятность того, что  средние пользовательские рейтинги жанров Action и Sports одинаковые  составляет ничтожно малый процент.\n",
    " "
   ]
  },
  {
   "cell_type": "markdown",
   "metadata": {},
   "source": [
    "# Шаг 6. Общие выводы <a name=\"шаг-6\"></a>\n",
    "\n",
    "- 2008 и 2009 годы являются пиковыми по количеству выпущенных игр. Рынок компьютерных игр показывает спад с 2010 года, причиной которого являются не только мировые кризисы и появление бесплатных игр, но также развитие мобильных игр. Требования потребителей постоянно меняются и с появленим VR или облачного гейминга для 5G старые площадки кажутся менее привлекательными. \n",
    "\n",
    "- Ведущие игроки индустрии выпускают для ключевых платформ игры жизненный цикл которых составляет в среднем 10 лет, что следует учитывать при планировании рекламных бюджетов. Исключение составляет PC, которая стабильна на протяжении многих лет.\n",
    " \n",
    "- По количеству релизов наиболее популярны игры для платформ Nintendo DS (DS) и PlayStation 2 (PS2).\n",
    " \n",
    "- Наиболее перспективной является платформа XOne, которая показала уверенный рост к концу анализируемого периода на фоне общего спада продаж на рынке.  \n",
    "\n",
    "- Диаграммы размаха для продаж в разрезе платформ свидетельствуют о наличии больших выбросов, которые отражают периоды взрывного роста продаж по определённым платформам, который затем сменяется спадом и завершеним жизненного цикла платформы\n",
    "\n",
    "- Жанр Action наиболее востребованный жанр по количеству продаж. Жанры Racing, Misc и Sports демонстрируют значительное падение спроса среди геймеров. Наиболее популярным игровым жанром для геймеров в Северной Америке и Европе являюся Action, Sport и Shooter. Среди геймеров Японии лидирующим жанром является Role-Playing, который в лидирующей пятёрке занимает 40%.  В Японии Pokemon представляет собой целую субкультуру, которая появилась в 1995 году, и которая ещё больше оживилась после выхода консолей Нинтендо -  DS, где эти игры хорошо представлены.\n",
    "\n",
    "- Оценка критиков и пользователей слабо влияет на продажи игр через различные платформы - 24% корреляция между продажами и мнением критиков, 9% - корреляция между продажами и мнением пользователей. Для лидера рынка Х360 позитивное мнение критиков в большей степени влияло на рост продаж (31%), тогда как мнение пользователей показало лишь небольшую зависимость(11%).\n",
    "\n",
    "- Из всех игровых платформ американская аудитория предпочитает Xbox 360 Microsoft и PlayStation. Евпропейские геймеры чаще всего останавливают свой выбор на PlayStation. Тогда как японские пользователи отдают предпочтение Nintendo DS и PlayStation.\n",
    "\n",
    "- По рейтингу ESRB, согласно данным по продажам, во всех регионах наиболее популярной категорий являются игры с маркировкой everyone. \n",
    "\n",
    "- Также в процессе исследования была осуществлена проверка  двух гипотез о различии пользовательского рейтинга.  Для проверки  гипотез проведён статистический тест и рассчитан покзатель значение вероятности (p-value) с учетом заданного показателя критического уровня статистической значимости alpha. Пороговое значение альфа было задано и в одном и в другом случае равное 5%. На основании полученного p-value и сравнения его с показателем критического уровня статистической значимости гипотезы отвергались или не отвергались. Были расчитаны дисперсии (в данном случае статистики) каждого показателя для определения способа расчёта p-value. \n",
    "\n",
    "Таким образом, не удалось отвергнуть гипотезу о равенстве средних пользовательских рейтингов платформ Xbox One и PC и была отвергнута гипотеза о  равенстве средних пользовательских рейтингов жанров Action и Sports."
   ]
  },
  {
   "cell_type": "markdown",
   "metadata": {},
   "source": [
    "# Рекомендации <a name=\"шаг-7\"></a>\n",
    "\n",
    "\n",
    "- В качестве рекомендаций для роста продаж в 2017 году рекомендуется сделать акцент на продвижении игр на площадках Xone и PS4. Игры в этих сегментах платформ будут демонстрировать рост в течение 2016 и 2017 годов согласно сложившемуся в индустрии правилу развития жизненных циклов игр, несмотря на общее сокращение рынка. \n",
    "\n",
    "- Достаточно осторожно нужно инвестировать в маркетинговые проекты по продвижению игр для Xbox 360, где продажи значительно снизятся в 2016 году и могут полностью прекратиться в 2017 году. Это можно утверждать на основе того, что пик продаж игр на этой площадке наблюдался в 2010 году и с 2011 года продажи постоянно идут на спад. \n",
    "\n",
    "- Отсутствие значительных флуктуаций продаж для PC является также залогом стабильных и предсказуемых продаж именно через эту платформу.\n",
    "\n",
    "- Что касается жанров, то здесь следует ориентироваться больше на  подростковую и ближе к зрелой аудиторию, если продажи осуществляются в основном в Северной Америке и Европе, поскольку игры с рейтингами Mature являются наиболее популярными в этих регионах. \n",
    "\n",
    "- Игры с рейтингами Everyone, Mature и Teen в жанрах Action, Sports и Shooter для Северной Америки и Европы, а также  игры с рейтингом Everyone и Teen в жанрах Role-play и Action для Японии могут быть наиболее оптимальными вариантами для рекламных международных кампаний на 2017 год."
   ]
  },
  {
   "cell_type": "markdown",
   "metadata": {},
   "source": [
    "<div class=\"alert alert-success\">\n",
    "<h2> Комментарий ревьюера </h2>\n",
    "\n",
    "Выводы описаны грамотно. Приведены ответы на главные вопросы проекта. В выводах можно приводить полученные ранее значения, правильно. Здорово, что по каждому пункту работы приведен вывод? а также то, что ты привела рекомендации для компании. Именно их от нас и ждут.  \n",
    "\n",
    "</div>"
   ]
  },
  {
   "cell_type": "markdown",
   "metadata": {},
   "source": [
    "<div class=\"alert alert-warning\">\n",
    "<h2> Комментарий ревьюера </h2>\n",
    "\n",
    "Если тебе нравится тема визуализации, то можешь изучить методы библиотеки seaborn. Она позволяет строить довольно презентабельные графики.\n",
    "\n",
    "Ты проделала большую работу, молодец! Критических замечаний немного. Однако с ними важно поработать. Также есть достаточное число желтых комментариев. Думаю, исправить их тебе не составит труда. Жду твою работу :)\n",
    "\n",
    "</div>\n",
    "<div class=\"alert alert-block alert-info\">\n",
    "cпасибо за seaborn - использую библиотеку  в своей следующей работе- нужно с ней ещё будет повозиться. Попробовала поэкспериментировать и у меня всё здесь слетело:)\n",
    "</div>"
   ]
  },
  {
   "cell_type": "markdown",
   "metadata": {},
   "source": [
    "<div class=\"alert alert-success\">\n",
    "<h2> Комментарий ревьюера 2</h2>\n",
    "\n",
    "Помарки исправлены, и теперь работа выполнена хорошо. У тебя получился классный проект, молодец. Поздравляю со сданным проектом. Надеюсь, он был интересен и познавателен. Спасибо за подробные комментарии по исправлениям. Успехов в дальнейшем пути :)\n",
    "\n",
    "</div>"
   ]
  }
 ],
 "metadata": {
  "kernelspec": {
   "display_name": "Python 3",
   "language": "python",
   "name": "python3"
  },
  "language_info": {
   "codemirror_mode": {
    "name": "ipython",
    "version": 3
   },
   "file_extension": ".py",
   "mimetype": "text/x-python",
   "name": "python",
   "nbconvert_exporter": "python",
   "pygments_lexer": "ipython3",
   "version": "3.7.8"
  },
  "toc": {
   "base_numbering": 1,
   "nav_menu": {},
   "number_sections": true,
   "sideBar": true,
   "skip_h1_title": true,
   "title_cell": "Table of Contents",
   "title_sidebar": "Contents",
   "toc_cell": false,
   "toc_position": {},
   "toc_section_display": true,
   "toc_window_display": false
  }
 },
 "nbformat": 4,
 "nbformat_minor": 2
}
