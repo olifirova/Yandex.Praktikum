{
 "cells": [
  {
   "cell_type": "markdown",
   "metadata": {},
   "source": [
    "# Оглавление\n",
    "   [Определение перспективного тарифа для телеком компании. Введение](#шаг-0)\n",
    "   \n",
    "1. [Шаг 1. Загрузка файла с данными](#шаг-1)\n",
    "\n",
    "2. [Шаг 2. Изучение общей информации и предобработка данных](#шаг-2)\n",
    "\n",
    "    2.1. [Таблица calls (информация о звонках)](#шаг-2-1)\n",
    "\n",
    "    2.2. [Таблица internet (информация о трафике)](#шаг-2-2)  \n",
    "    \n",
    "    2.3. [Таблица messages (информация о сообщениях)](#шаг-2-3)  \n",
    "    \n",
    "    2.4. [Таблица tariffs (информация о тарифах)](#шаг-2-4)    \n",
    "    \n",
    "    2.5. [Таблица users (информация о пользователях)](#шаг-2-5)    \n",
    "    \n",
    "    2.6. [Количество израсходованных минут по месяцам по каждому пользователю](#шаг-2-6)   \n",
    "    \n",
    "    2.7. [Количество израсходованных гигабайт  по месяцам по каждому пользователю](#шаг-2-7)    \n",
    "    \n",
    "    2.8. [Количество израсходованных сообщений  по месяцам по каждому пользователю](#шаг-2-8)   \n",
    "    \n",
    "    2.9. [Объединённая таблица](#шаг-2-9)  \n",
    "    \n",
    "    2.10. [Расчёт помесячной выручки для каждого абонента](#шаг-2-10)    \n",
    "\n",
    "3. [Шаг 3. Анализ данных](#шаг-3)\n",
    "\n",
    "    3.1. [Описание поведения абонентов](#шаг-3-1)\n",
    "    \n",
    "    3.1.1. [Тариф Smart](#шаг-3-1-1)\n",
    "    \n",
    "    3.1.2. [Тариф Ultra](#шаг-3-1-2) \n",
    "    \n",
    "4. [Шаг 4. Проверка гипотез](#шаг-4)\n",
    "\n",
    "    4.1. [Гипотеза: средняя выручка пользователей тарифов Смарт и Ультра различается](#шаг-4-1)\n",
    "    \n",
    "    4.2. [Гипотеза: средняя выручка пользователей из Москвы отличается от выручки пользователей из других регионов](#шаг-4-2)\n",
    "    \n",
    "    \n",
    "5. [Общие выводы](#шаг-5)\n",
    "\n",
    "6. [Рекомендации](#шаг-6)"
   ]
  },
  {
   "cell_type": "markdown",
   "metadata": {},
   "source": [
    "\n",
    "# Определение перспективного тарифа для телеком компании. Введение <a name=\"шаг-0\"></a>\n",
    "\n",
    "**Целью** данного исследования является определение лучшего тарифа для федерального оператора сотовой связи «Мегалайн»: необходимо понимание какой именно тариф приносит больше денег для дальнейшей корректировки рекламного бюджета.\n",
    "\n",
    "**Заказчик исследования:** коммерческий департамент «Мегалайна»\n",
    "\n",
    "**Задачи исследования:**  \n",
    "\n",
    "- определить, кто является  клиентом\n",
    "- каким тарифом пользуются клиенты\n",
    "- сколько звонков и сообщений отправил каждый клиент за 2018 год\n",
    "- анализ поведения клиентов\n",
    "- оценка тарифов\n",
    "\n",
    "\n",
    "Для анализа предлагается два тарифных плана «Смарт» и «Ультра»: \n",
    "\n",
    "*Тариф «Смарт»*\n",
    "1. Ежемесячная плата: 550 рублей\n",
    "2. Включено 500 минут разговора, 50 сообщений и 15 Гб интернет-трафика\n",
    "3. Стоимость услуг сверх тарифного пакета: \n",
    "    - минута разговора: 3 рубля\n",
    "    - сообщение: 3 рубля\n",
    "    - 1 Гб интернет-трафика: 200 рублей\n",
    "\n",
    "*Тариф «Ультра»*\n",
    "1. Ежемесячная плата: 1950 рублей\n",
    "2. Включено 3000 минут разговора, 1000 сообщений и 30 Гб интернет-трафика\n",
    "3. Стоимость услуг сверх тарифного пакета: \n",
    "    - минута разговора: 1 рубль\n",
    "    - сообщение: 1 рубль\n",
    "    - 1 Гб интернет-трафика: 150 рублей\n",
    "\n",
    "*«Мегалайн» всегда округляет вверх значения минут и мегабайтов.* \n",
    "\n",
    "**Объект исследования:** срез базы данных, состоящий из   500 пользователей «Мегалайна»\n",
    "\n",
    "Срезы данных представлены для анализа в форматах csv и содержат следующие таблицы и атрибуты:\n",
    "\n",
    "**Таблица users (информация о пользователях):**\n",
    "- user_id — уникальный идентификатор пользователя\n",
    "- first_name — имя пользователя\n",
    "- last_name — фамилия пользователя\n",
    "- age — возраст пользователя (годы)\n",
    "- reg_date — дата подключения тарифа (день, месяц, год)\n",
    "- churn_date — дата прекращения пользования тарифом (если значение пропущено, то тариф ещё действовал на момент выгрузки данных)\n",
    "- city — город проживания пользователя\n",
    "- tariff — название тарифного плана\n",
    "\n",
    "**Таблица calls (информация о звонках):**\n",
    "- id — уникальный номер звонка\n",
    "- call_date — дата звонка\n",
    "- duration — длительность звонка в минутах\n",
    "- user_id — идентификатор пользователя, сделавшего звонок\n",
    "\n",
    "**Таблица messages (информация о сообщениях):**\n",
    "- id — уникальный номер сообщения\n",
    "- message_date — дата сообщения\n",
    "- user_id — идентификатор пользователя, отправившего сообщение\n",
    "\n",
    "**Таблица internet (информация об интернет-сессиях):**\n",
    "- id — уникальный номер сессии\n",
    "- mb_used — объём потраченного за сессию интернет-трафика (в мегабайтах)\n",
    "- session_date — дата интернет-сессии\n",
    "- user_id — идентификатор пользователя\n",
    "\n",
    "**Таблица tariffs (информация о тарифах):**\n",
    "- tariff_name — название тарифа\n",
    "- rub_monthly_fee — ежемесячная абонентская плата в рублях\n",
    "- minutes_included — количество минут разговора в месяц, включённых в абонентскую плату\n",
    "- messages_included — количество сообщений в месяц, включённых в абонентскую плату\n",
    "- mb_per_month_included — объём интернет-трафика, включённого в абонентскую плату (в мегабайтах)\n",
    "- rub_per_minute — стоимость минуты разговора сверх тарифного пакета (например, если в тарифе 100 минут разговора в месяц, то со 101 минуты будет взиматься плата)\n",
    "- rub_per_message — стоимость отправки сообщения сверх тарифного пакета\n",
    "- rub_per_gb — стоимость дополнительного гигабайта интернет-трафика сверх тарифного пакета (1 гигабайт = 1024 мегабайта)\n",
    "\n"
   ]
  },
  {
   "cell_type": "markdown",
   "metadata": {},
   "source": [
    "# Шаг 1. Загрузка файла с данными <a name=\"шаг-1\"></a>"
   ]
  },
  {
   "cell_type": "code",
   "execution_count": 1,
   "metadata": {},
   "outputs": [],
   "source": [
    "import pandas as pd #загружаем все необходимые библиотеки\n",
    "import numpy as np\n",
    "import random\n",
    "import math as mt\n",
    "from math import factorial\n",
    "from matplotlib import pyplot as plt\n",
    "from scipy import stats as st\n",
    "from scipy.stats import norm\n",
    "\n",
    "\n",
    "try:\n",
    "    calls = pd.read_csv('/datasets/calls.csv') #загружаем срезы\n",
    "    internet = pd.read_csv('/datasets/internet.csv')\n",
    "    messages = pd.read_csv('/datasets/messages.csv')\n",
    "    tariffs = pd.read_csv('/datasets/tariffs.csv')\n",
    "    users = pd.read_csv('/datasets/users.csv')\n",
    "except:\n",
    "    calls = pd.read_csv(r'C:\\Users\\Larissa Olifirova\\calls.csv') \n",
    "    internet = pd.read_csv(r'C:\\Users\\Larissa Olifirova\\internet.csv') \n",
    "    messages = pd.read_csv(r'C:\\Users\\Larissa Olifirova\\messages.csv') \n",
    "    tariffs = pd.read_csv(r'C:\\Users\\Larissa Olifirova\\tariffs.csv') \n",
    "    users = pd.read_csv(r'C:\\Users\\Larissa Olifirovausers.csv') "
   ]
  },
  {
   "cell_type": "markdown",
   "metadata": {},
   "source": [
    "# Шаг 2. Изучение общей информации и предобработка данных <a name=\"шаг-2\"></a>"
   ]
  },
  {
   "cell_type": "markdown",
   "metadata": {},
   "source": [
    "## 2.1. Таблица calls (информация о звонках) <a name=\"шаг-2-1\"></a>"
   ]
  },
  {
   "cell_type": "code",
   "execution_count": 2,
   "metadata": {},
   "outputs": [
    {
     "name": "stdout",
     "output_type": "stream",
     "text": [
      "<class 'pandas.core.frame.DataFrame'>\n",
      "RangeIndex: 202607 entries, 0 to 202606\n",
      "Data columns (total 4 columns):\n",
      " #   Column     Non-Null Count   Dtype  \n",
      "---  ------     --------------   -----  \n",
      " 0   id         202607 non-null  object \n",
      " 1   call_date  202607 non-null  object \n",
      " 2   duration   202607 non-null  float64\n",
      " 3   user_id    202607 non-null  int64  \n",
      "dtypes: float64(1), int64(1), object(2)\n",
      "memory usage: 6.2+ MB\n"
     ]
    },
    {
     "data": {
      "text/html": [
       "<div>\n",
       "<style scoped>\n",
       "    .dataframe tbody tr th:only-of-type {\n",
       "        vertical-align: middle;\n",
       "    }\n",
       "\n",
       "    .dataframe tbody tr th {\n",
       "        vertical-align: top;\n",
       "    }\n",
       "\n",
       "    .dataframe thead th {\n",
       "        text-align: right;\n",
       "    }\n",
       "</style>\n",
       "<table border=\"1\" class=\"dataframe\">\n",
       "  <thead>\n",
       "    <tr style=\"text-align: right;\">\n",
       "      <th></th>\n",
       "      <th>id</th>\n",
       "      <th>call_date</th>\n",
       "      <th>duration</th>\n",
       "      <th>user_id</th>\n",
       "    </tr>\n",
       "  </thead>\n",
       "  <tbody>\n",
       "    <tr>\n",
       "      <th>171270</th>\n",
       "      <td>1423_241</td>\n",
       "      <td>2018-11-16</td>\n",
       "      <td>0.87</td>\n",
       "      <td>1423</td>\n",
       "    </tr>\n",
       "    <tr>\n",
       "      <th>51380</th>\n",
       "      <td>1127_43</td>\n",
       "      <td>2018-09-09</td>\n",
       "      <td>0.00</td>\n",
       "      <td>1127</td>\n",
       "    </tr>\n",
       "    <tr>\n",
       "      <th>66102</th>\n",
       "      <td>1168_1253</td>\n",
       "      <td>2018-08-12</td>\n",
       "      <td>2.09</td>\n",
       "      <td>1168</td>\n",
       "    </tr>\n",
       "    <tr>\n",
       "      <th>15122</th>\n",
       "      <td>1040_121</td>\n",
       "      <td>2018-11-24</td>\n",
       "      <td>12.72</td>\n",
       "      <td>1040</td>\n",
       "    </tr>\n",
       "    <tr>\n",
       "      <th>92440</th>\n",
       "      <td>1230_27</td>\n",
       "      <td>2018-10-02</td>\n",
       "      <td>8.03</td>\n",
       "      <td>1230</td>\n",
       "    </tr>\n",
       "    <tr>\n",
       "      <th>169041</th>\n",
       "      <td>1416_208</td>\n",
       "      <td>2018-10-21</td>\n",
       "      <td>0.46</td>\n",
       "      <td>1416</td>\n",
       "    </tr>\n",
       "    <tr>\n",
       "      <th>108008</th>\n",
       "      <td>1279_262</td>\n",
       "      <td>2018-11-04</td>\n",
       "      <td>13.39</td>\n",
       "      <td>1279</td>\n",
       "    </tr>\n",
       "    <tr>\n",
       "      <th>92198</th>\n",
       "      <td>1229_34</td>\n",
       "      <td>2018-11-03</td>\n",
       "      <td>1.67</td>\n",
       "      <td>1229</td>\n",
       "    </tr>\n",
       "    <tr>\n",
       "      <th>15399</th>\n",
       "      <td>1041_97</td>\n",
       "      <td>2018-12-11</td>\n",
       "      <td>0.00</td>\n",
       "      <td>1041</td>\n",
       "    </tr>\n",
       "    <tr>\n",
       "      <th>44333</th>\n",
       "      <td>1112_37</td>\n",
       "      <td>2018-09-09</td>\n",
       "      <td>0.00</td>\n",
       "      <td>1112</td>\n",
       "    </tr>\n",
       "  </tbody>\n",
       "</table>\n",
       "</div>"
      ],
      "text/plain": [
       "               id   call_date  duration  user_id\n",
       "171270   1423_241  2018-11-16      0.87     1423\n",
       "51380     1127_43  2018-09-09      0.00     1127\n",
       "66102   1168_1253  2018-08-12      2.09     1168\n",
       "15122    1040_121  2018-11-24     12.72     1040\n",
       "92440     1230_27  2018-10-02      8.03     1230\n",
       "169041   1416_208  2018-10-21      0.46     1416\n",
       "108008   1279_262  2018-11-04     13.39     1279\n",
       "92198     1229_34  2018-11-03      1.67     1229\n",
       "15399     1041_97  2018-12-11      0.00     1041\n",
       "44333     1112_37  2018-09-09      0.00     1112"
      ]
     },
     "execution_count": 2,
     "metadata": {},
     "output_type": "execute_result"
    }
   ],
   "source": [
    "calls.info() \n",
    "calls.sample(10) #смотрим как занесены данные "
   ]
  },
  {
   "cell_type": "markdown",
   "metadata": {},
   "source": [
    "call_date указан как object, который следует перевести в формат datatime. Также создадим дополнительный столбец с месяцами "
   ]
  },
  {
   "cell_type": "code",
   "execution_count": 3,
   "metadata": {},
   "outputs": [],
   "source": [
    "calls['call_date'] = pd.to_datetime(calls['call_date'])"
   ]
  },
  {
   "cell_type": "code",
   "execution_count": 4,
   "metadata": {},
   "outputs": [],
   "source": [
    "calls['month'] = calls['call_date'].values.astype('datetime64[M]')"
   ]
  },
  {
   "cell_type": "code",
   "execution_count": 5,
   "metadata": {},
   "outputs": [],
   "source": [
    "calls['duration'] = calls['duration'].apply(np.ceil) #округляем минуты вверх"
   ]
  },
  {
   "cell_type": "code",
   "execution_count": 6,
   "metadata": {},
   "outputs": [
    {
     "name": "stdout",
     "output_type": "stream",
     "text": [
      "<class 'pandas.core.frame.DataFrame'>\n",
      "RangeIndex: 202607 entries, 0 to 202606\n",
      "Data columns (total 5 columns):\n",
      " #   Column     Non-Null Count   Dtype         \n",
      "---  ------     --------------   -----         \n",
      " 0   id         202607 non-null  object        \n",
      " 1   call_date  202607 non-null  datetime64[ns]\n",
      " 2   duration   202607 non-null  float64       \n",
      " 3   user_id    202607 non-null  int64         \n",
      " 4   month      202607 non-null  datetime64[ns]\n",
      "dtypes: datetime64[ns](2), float64(1), int64(1), object(1)\n",
      "memory usage: 7.7+ MB\n"
     ]
    }
   ],
   "source": [
    "calls.info()"
   ]
  },
  {
   "cell_type": "code",
   "execution_count": 7,
   "metadata": {},
   "outputs": [
    {
     "data": {
      "image/png": "[encoded data removed]",
      "text/plain": [
       "<Figure size 432x288 with 1 Axes>"
      ]
     },
     "metadata": {
      "needs_background": "light"
     },
     "output_type": "display_data"
    }
   ],
   "source": [
    "calls.boxplot(column='duration') #проверим распределение данных\n",
    "plt.show()"
   ]
  },
  {
   "cell_type": "markdown",
   "metadata": {},
   "source": [
    "Анализ таблиц и диаграммы \"ящик с усами\" показал, что таблица calls содержит огромное количество звонков с длительностью 0 минут. Вопрос требует уточнения вопроса у специалистов технического отдела. Предположим, что это звонки без установления соединения.\n",
    "В таблице Calls все значения указаны в формате float, где после запятой встречаются значения более 59. Следовательно речь не идет о разделении \"минуты запятая секунды\", а скорее об особенностях биллинговой системы. Этот вопрос также следовало бы направить техническим специалистам отдела биллинга. Поскольку в компании принято, что  любой трафик (телефонный и интернет-трафик) округляется  вверх до целого значения, все значения будут округлены до целочисленного вверх, как было предусмотрено в условии. На более поздних этапах построения сводных таблиц округлим значения до минут вверх и сохраним этот показатель в формате integer, как предлагается в условии. Предположение, что округление значительно повлияет на результат здесь опустим.  "
   ]
  },
  {
   "cell_type": "code",
   "execution_count": 8,
   "metadata": {
    "scrolled": false
   },
   "outputs": [
    {
     "name": "stdout",
     "output_type": "stream",
     "text": [
      "<class 'pandas.core.frame.DataFrame'>\n",
      "RangeIndex: 202607 entries, 0 to 202606\n",
      "Data columns (total 5 columns):\n",
      " #   Column     Non-Null Count   Dtype         \n",
      "---  ------     --------------   -----         \n",
      " 0   id         202607 non-null  object        \n",
      " 1   call_date  202607 non-null  datetime64[ns]\n",
      " 2   duration   202607 non-null  float64       \n",
      " 3   user_id    202607 non-null  int64         \n",
      " 4   month      202607 non-null  datetime64[ns]\n",
      "dtypes: datetime64[ns](2), float64(1), int64(1), object(1)\n",
      "memory usage: 7.7+ MB\n"
     ]
    }
   ],
   "source": [
    "calls.info()"
   ]
  },
  {
   "cell_type": "markdown",
   "metadata": {},
   "source": [
    "## 2.2. Таблица internet (информация о трафике)<a name=\"шаг-2-2\"></a> "
   ]
  },
  {
   "cell_type": "code",
   "execution_count": 9,
   "metadata": {},
   "outputs": [
    {
     "name": "stdout",
     "output_type": "stream",
     "text": [
      "<class 'pandas.core.frame.DataFrame'>\n",
      "RangeIndex: 149396 entries, 0 to 149395\n",
      "Data columns (total 5 columns):\n",
      " #   Column        Non-Null Count   Dtype  \n",
      "---  ------        --------------   -----  \n",
      " 0   Unnamed: 0    149396 non-null  int64  \n",
      " 1   id            149396 non-null  object \n",
      " 2   mb_used       149396 non-null  float64\n",
      " 3   session_date  149396 non-null  object \n",
      " 4   user_id       149396 non-null  int64  \n",
      "dtypes: float64(1), int64(2), object(2)\n",
      "memory usage: 5.7+ MB\n"
     ]
    },
    {
     "data": {
      "text/html": [
       "<div>\n",
       "<style scoped>\n",
       "    .dataframe tbody tr th:only-of-type {\n",
       "        vertical-align: middle;\n",
       "    }\n",
       "\n",
       "    .dataframe tbody tr th {\n",
       "        vertical-align: top;\n",
       "    }\n",
       "\n",
       "    .dataframe thead th {\n",
       "        text-align: right;\n",
       "    }\n",
       "</style>\n",
       "<table border=\"1\" class=\"dataframe\">\n",
       "  <thead>\n",
       "    <tr style=\"text-align: right;\">\n",
       "      <th></th>\n",
       "      <th>Unnamed: 0</th>\n",
       "      <th>id</th>\n",
       "      <th>mb_used</th>\n",
       "      <th>session_date</th>\n",
       "      <th>user_id</th>\n",
       "    </tr>\n",
       "  </thead>\n",
       "  <tbody>\n",
       "    <tr>\n",
       "      <th>123047</th>\n",
       "      <td>123047</td>\n",
       "      <td>1414_140</td>\n",
       "      <td>121.59</td>\n",
       "      <td>2018-10-28</td>\n",
       "      <td>1414</td>\n",
       "    </tr>\n",
       "    <tr>\n",
       "      <th>126133</th>\n",
       "      <td>126133</td>\n",
       "      <td>1423_590</td>\n",
       "      <td>465.39</td>\n",
       "      <td>2018-03-08</td>\n",
       "      <td>1423</td>\n",
       "    </tr>\n",
       "    <tr>\n",
       "      <th>56863</th>\n",
       "      <td>56863</td>\n",
       "      <td>1189_302</td>\n",
       "      <td>300.88</td>\n",
       "      <td>2018-12-04</td>\n",
       "      <td>1189</td>\n",
       "    </tr>\n",
       "    <tr>\n",
       "      <th>44765</th>\n",
       "      <td>44765</td>\n",
       "      <td>1154_323</td>\n",
       "      <td>238.61</td>\n",
       "      <td>2018-11-06</td>\n",
       "      <td>1154</td>\n",
       "    </tr>\n",
       "    <tr>\n",
       "      <th>133747</th>\n",
       "      <td>133747</td>\n",
       "      <td>1448_104</td>\n",
       "      <td>394.66</td>\n",
       "      <td>2018-12-28</td>\n",
       "      <td>1448</td>\n",
       "    </tr>\n",
       "    <tr>\n",
       "      <th>33458</th>\n",
       "      <td>33458</td>\n",
       "      <td>1118_75</td>\n",
       "      <td>634.47</td>\n",
       "      <td>2018-04-16</td>\n",
       "      <td>1118</td>\n",
       "    </tr>\n",
       "    <tr>\n",
       "      <th>97827</th>\n",
       "      <td>97827</td>\n",
       "      <td>1330_35</td>\n",
       "      <td>270.94</td>\n",
       "      <td>2018-02-12</td>\n",
       "      <td>1330</td>\n",
       "    </tr>\n",
       "    <tr>\n",
       "      <th>133250</th>\n",
       "      <td>133250</td>\n",
       "      <td>1446_33</td>\n",
       "      <td>663.74</td>\n",
       "      <td>2018-11-15</td>\n",
       "      <td>1446</td>\n",
       "    </tr>\n",
       "    <tr>\n",
       "      <th>29040</th>\n",
       "      <td>29040</td>\n",
       "      <td>1101_146</td>\n",
       "      <td>268.62</td>\n",
       "      <td>2018-10-30</td>\n",
       "      <td>1101</td>\n",
       "    </tr>\n",
       "    <tr>\n",
       "      <th>109748</th>\n",
       "      <td>109748</td>\n",
       "      <td>1373_670</td>\n",
       "      <td>353.83</td>\n",
       "      <td>2018-05-31</td>\n",
       "      <td>1373</td>\n",
       "    </tr>\n",
       "  </tbody>\n",
       "</table>\n",
       "</div>"
      ],
      "text/plain": [
       "        Unnamed: 0        id  mb_used session_date  user_id\n",
       "123047      123047  1414_140   121.59   2018-10-28     1414\n",
       "126133      126133  1423_590   465.39   2018-03-08     1423\n",
       "56863        56863  1189_302   300.88   2018-12-04     1189\n",
       "44765        44765  1154_323   238.61   2018-11-06     1154\n",
       "133747      133747  1448_104   394.66   2018-12-28     1448\n",
       "33458        33458   1118_75   634.47   2018-04-16     1118\n",
       "97827        97827   1330_35   270.94   2018-02-12     1330\n",
       "133250      133250   1446_33   663.74   2018-11-15     1446\n",
       "29040        29040  1101_146   268.62   2018-10-30     1101\n",
       "109748      109748  1373_670   353.83   2018-05-31     1373"
      ]
     },
     "execution_count": 9,
     "metadata": {},
     "output_type": "execute_result"
    }
   ],
   "source": [
    "internet.info() \n",
    "internet.sample(10)"
   ]
  },
  {
   "cell_type": "code",
   "execution_count": 10,
   "metadata": {},
   "outputs": [],
   "source": [
    "internet['session_date'] = pd.to_datetime(internet['session_date']) #переводим даты сессий  в формат дат"
   ]
  },
  {
   "cell_type": "code",
   "execution_count": 11,
   "metadata": {},
   "outputs": [],
   "source": [
    "internet['month'] = internet['session_date'].values.astype('datetime64[M]')  #создаём новый столбец с месяцами"
   ]
  },
  {
   "cell_type": "code",
   "execution_count": 12,
   "metadata": {},
   "outputs": [],
   "source": [
    "internet['mb_used'] = internet['mb_used'].apply(np.ceil) #округляем мегабайты вверх "
   ]
  },
  {
   "cell_type": "code",
   "execution_count": 13,
   "metadata": {},
   "outputs": [
    {
     "data": {
      "image/png": "[encoded data removed]",
      "text/plain": [
       "<Figure size 432x288 with 1 Axes>"
      ]
     },
     "metadata": {
      "needs_background": "light"
     },
     "output_type": "display_data"
    }
   ],
   "source": [
    "internet.boxplot(column='mb_used') #проверим распределение данных\n",
    "plt.show()"
   ]
  },
  {
   "cell_type": "markdown",
   "metadata": {},
   "source": [
    "\"Ящик с усами\" говорит о большом количестве выбросов о причине которых предстоит разобраться. "
   ]
  },
  {
   "cell_type": "markdown",
   "metadata": {},
   "source": [
    "Далее мегабайты следует перевести в гигабайты:"
   ]
  },
  {
   "cell_type": "code",
   "execution_count": 14,
   "metadata": {},
   "outputs": [],
   "source": [
    "internet['gb_used'] = internet['mb_used']/1024"
   ]
  },
  {
   "cell_type": "markdown",
   "metadata": {},
   "source": [
    "## 2.3. Таблица messages (информация о сообщениях)<a name=\"шаг-2-3\"></a> "
   ]
  },
  {
   "cell_type": "code",
   "execution_count": 15,
   "metadata": {},
   "outputs": [
    {
     "name": "stdout",
     "output_type": "stream",
     "text": [
      "<class 'pandas.core.frame.DataFrame'>\n",
      "RangeIndex: 123036 entries, 0 to 123035\n",
      "Data columns (total 3 columns):\n",
      " #   Column        Non-Null Count   Dtype \n",
      "---  ------        --------------   ----- \n",
      " 0   id            123036 non-null  object\n",
      " 1   message_date  123036 non-null  object\n",
      " 2   user_id       123036 non-null  int64 \n",
      "dtypes: int64(1), object(2)\n",
      "memory usage: 2.8+ MB\n"
     ]
    },
    {
     "data": {
      "text/html": [
       "<div>\n",
       "<style scoped>\n",
       "    .dataframe tbody tr th:only-of-type {\n",
       "        vertical-align: middle;\n",
       "    }\n",
       "\n",
       "    .dataframe tbody tr th {\n",
       "        vertical-align: top;\n",
       "    }\n",
       "\n",
       "    .dataframe thead th {\n",
       "        text-align: right;\n",
       "    }\n",
       "</style>\n",
       "<table border=\"1\" class=\"dataframe\">\n",
       "  <thead>\n",
       "    <tr style=\"text-align: right;\">\n",
       "      <th></th>\n",
       "      <th>id</th>\n",
       "      <th>message_date</th>\n",
       "      <th>user_id</th>\n",
       "    </tr>\n",
       "  </thead>\n",
       "  <tbody>\n",
       "    <tr>\n",
       "      <th>19810</th>\n",
       "      <td>1088_100</td>\n",
       "      <td>2018-09-05</td>\n",
       "      <td>1088</td>\n",
       "    </tr>\n",
       "    <tr>\n",
       "      <th>50336</th>\n",
       "      <td>1226_12</td>\n",
       "      <td>2018-10-11</td>\n",
       "      <td>1226</td>\n",
       "    </tr>\n",
       "    <tr>\n",
       "      <th>2274</th>\n",
       "      <td>1005_136</td>\n",
       "      <td>2018-06-06</td>\n",
       "      <td>1005</td>\n",
       "    </tr>\n",
       "    <tr>\n",
       "      <th>76325</th>\n",
       "      <td>1324_8</td>\n",
       "      <td>2018-10-15</td>\n",
       "      <td>1324</td>\n",
       "    </tr>\n",
       "    <tr>\n",
       "      <th>7421</th>\n",
       "      <td>1030_332</td>\n",
       "      <td>2018-10-08</td>\n",
       "      <td>1030</td>\n",
       "    </tr>\n",
       "    <tr>\n",
       "      <th>12855</th>\n",
       "      <td>1054_411</td>\n",
       "      <td>2018-06-08</td>\n",
       "      <td>1054</td>\n",
       "    </tr>\n",
       "    <tr>\n",
       "      <th>8757</th>\n",
       "      <td>1034_94</td>\n",
       "      <td>2018-10-11</td>\n",
       "      <td>1034</td>\n",
       "    </tr>\n",
       "    <tr>\n",
       "      <th>66460</th>\n",
       "      <td>1284_48</td>\n",
       "      <td>2018-09-10</td>\n",
       "      <td>1284</td>\n",
       "    </tr>\n",
       "    <tr>\n",
       "      <th>60437</th>\n",
       "      <td>1266_45</td>\n",
       "      <td>2018-12-19</td>\n",
       "      <td>1266</td>\n",
       "    </tr>\n",
       "    <tr>\n",
       "      <th>57842</th>\n",
       "      <td>1253_351</td>\n",
       "      <td>2018-11-21</td>\n",
       "      <td>1253</td>\n",
       "    </tr>\n",
       "  </tbody>\n",
       "</table>\n",
       "</div>"
      ],
      "text/plain": [
       "             id message_date  user_id\n",
       "19810  1088_100   2018-09-05     1088\n",
       "50336   1226_12   2018-10-11     1226\n",
       "2274   1005_136   2018-06-06     1005\n",
       "76325    1324_8   2018-10-15     1324\n",
       "7421   1030_332   2018-10-08     1030\n",
       "12855  1054_411   2018-06-08     1054\n",
       "8757    1034_94   2018-10-11     1034\n",
       "66460   1284_48   2018-09-10     1284\n",
       "60437   1266_45   2018-12-19     1266\n",
       "57842  1253_351   2018-11-21     1253"
      ]
     },
     "execution_count": 15,
     "metadata": {},
     "output_type": "execute_result"
    }
   ],
   "source": [
    "messages.info() \n",
    "messages.sample(10)"
   ]
  },
  {
   "cell_type": "code",
   "execution_count": 16,
   "metadata": {},
   "outputs": [],
   "source": [
    "messages['message_date'] = pd.to_datetime(messages['message_date']) #переводим даты сообщений в формат дат"
   ]
  },
  {
   "cell_type": "code",
   "execution_count": 17,
   "metadata": {},
   "outputs": [],
   "source": [
    "messages['month'] = messages['message_date'].values.astype('datetime64[M]')  #создаём новый столбец с месяцами"
   ]
  },
  {
   "cell_type": "code",
   "execution_count": 18,
   "metadata": {},
   "outputs": [],
   "source": [
    "messages['sms'] = 1 #также создаём новый столбец с сообщениями, используя id сообщения в качестве единицы"
   ]
  },
  {
   "cell_type": "markdown",
   "metadata": {},
   "source": [
    "## 2.4. Таблица tariffs (информация о тарифах)<a name=\"шаг-2-4\"></a> "
   ]
  },
  {
   "cell_type": "code",
   "execution_count": 19,
   "metadata": {},
   "outputs": [
    {
     "name": "stdout",
     "output_type": "stream",
     "text": [
      "<class 'pandas.core.frame.DataFrame'>\n",
      "RangeIndex: 2 entries, 0 to 1\n",
      "Data columns (total 8 columns):\n",
      " #   Column                 Non-Null Count  Dtype \n",
      "---  ------                 --------------  ----- \n",
      " 0   messages_included      2 non-null      int64 \n",
      " 1   mb_per_month_included  2 non-null      int64 \n",
      " 2   minutes_included       2 non-null      int64 \n",
      " 3   rub_monthly_fee        2 non-null      int64 \n",
      " 4   rub_per_gb             2 non-null      int64 \n",
      " 5   rub_per_message        2 non-null      int64 \n",
      " 6   rub_per_minute         2 non-null      int64 \n",
      " 7   tariff_name            2 non-null      object\n",
      "dtypes: int64(7), object(1)\n",
      "memory usage: 256.0+ bytes\n"
     ]
    },
    {
     "data": {
      "text/html": [
       "<div>\n",
       "<style scoped>\n",
       "    .dataframe tbody tr th:only-of-type {\n",
       "        vertical-align: middle;\n",
       "    }\n",
       "\n",
       "    .dataframe tbody tr th {\n",
       "        vertical-align: top;\n",
       "    }\n",
       "\n",
       "    .dataframe thead th {\n",
       "        text-align: right;\n",
       "    }\n",
       "</style>\n",
       "<table border=\"1\" class=\"dataframe\">\n",
       "  <thead>\n",
       "    <tr style=\"text-align: right;\">\n",
       "      <th></th>\n",
       "      <th>messages_included</th>\n",
       "      <th>mb_per_month_included</th>\n",
       "      <th>minutes_included</th>\n",
       "      <th>rub_monthly_fee</th>\n",
       "      <th>rub_per_gb</th>\n",
       "      <th>rub_per_message</th>\n",
       "      <th>rub_per_minute</th>\n",
       "      <th>tariff_name</th>\n",
       "    </tr>\n",
       "  </thead>\n",
       "  <tbody>\n",
       "    <tr>\n",
       "      <th>0</th>\n",
       "      <td>50</td>\n",
       "      <td>15360</td>\n",
       "      <td>500</td>\n",
       "      <td>550</td>\n",
       "      <td>200</td>\n",
       "      <td>3</td>\n",
       "      <td>3</td>\n",
       "      <td>smart</td>\n",
       "    </tr>\n",
       "    <tr>\n",
       "      <th>1</th>\n",
       "      <td>1000</td>\n",
       "      <td>30720</td>\n",
       "      <td>3000</td>\n",
       "      <td>1950</td>\n",
       "      <td>150</td>\n",
       "      <td>1</td>\n",
       "      <td>1</td>\n",
       "      <td>ultra</td>\n",
       "    </tr>\n",
       "  </tbody>\n",
       "</table>\n",
       "</div>"
      ],
      "text/plain": [
       "   messages_included  mb_per_month_included  minutes_included  \\\n",
       "0                 50                  15360               500   \n",
       "1               1000                  30720              3000   \n",
       "\n",
       "   rub_monthly_fee  rub_per_gb  rub_per_message  rub_per_minute tariff_name  \n",
       "0              550         200                3               3       smart  \n",
       "1             1950         150                1               1       ultra  "
      ]
     },
     "execution_count": 19,
     "metadata": {},
     "output_type": "execute_result"
    }
   ],
   "source": [
    "tariffs.info() \n",
    "tariffs"
   ]
  },
  {
   "cell_type": "markdown",
   "metadata": {},
   "source": [
    "Таблица носит информативный характер, будем на неё ссылаться при расчётах выручки."
   ]
  },
  {
   "cell_type": "markdown",
   "metadata": {},
   "source": [
    "## 2.5. Таблица users (информация о пользователях)<a name=\"шаг-2-5\"></a> "
   ]
  },
  {
   "cell_type": "code",
   "execution_count": 20,
   "metadata": {},
   "outputs": [
    {
     "name": "stdout",
     "output_type": "stream",
     "text": [
      "<class 'pandas.core.frame.DataFrame'>\n",
      "RangeIndex: 500 entries, 0 to 499\n",
      "Data columns (total 8 columns):\n",
      " #   Column      Non-Null Count  Dtype \n",
      "---  ------      --------------  ----- \n",
      " 0   user_id     500 non-null    int64 \n",
      " 1   age         500 non-null    int64 \n",
      " 2   churn_date  38 non-null     object\n",
      " 3   city        500 non-null    object\n",
      " 4   first_name  500 non-null    object\n",
      " 5   last_name   500 non-null    object\n",
      " 6   reg_date    500 non-null    object\n",
      " 7   tariff      500 non-null    object\n",
      "dtypes: int64(2), object(6)\n",
      "memory usage: 31.4+ KB\n"
     ]
    },
    {
     "data": {
      "text/html": [
       "<div>\n",
       "<style scoped>\n",
       "    .dataframe tbody tr th:only-of-type {\n",
       "        vertical-align: middle;\n",
       "    }\n",
       "\n",
       "    .dataframe tbody tr th {\n",
       "        vertical-align: top;\n",
       "    }\n",
       "\n",
       "    .dataframe thead th {\n",
       "        text-align: right;\n",
       "    }\n",
       "</style>\n",
       "<table border=\"1\" class=\"dataframe\">\n",
       "  <thead>\n",
       "    <tr style=\"text-align: right;\">\n",
       "      <th></th>\n",
       "      <th>user_id</th>\n",
       "      <th>age</th>\n",
       "      <th>churn_date</th>\n",
       "      <th>city</th>\n",
       "      <th>first_name</th>\n",
       "      <th>last_name</th>\n",
       "      <th>reg_date</th>\n",
       "      <th>tariff</th>\n",
       "    </tr>\n",
       "  </thead>\n",
       "  <tbody>\n",
       "    <tr>\n",
       "      <th>34</th>\n",
       "      <td>1034</td>\n",
       "      <td>66</td>\n",
       "      <td>2018-11-21</td>\n",
       "      <td>Вологда</td>\n",
       "      <td>Святослав</td>\n",
       "      <td>Бондарев</td>\n",
       "      <td>2018-08-26</td>\n",
       "      <td>smart</td>\n",
       "    </tr>\n",
       "    <tr>\n",
       "      <th>365</th>\n",
       "      <td>1365</td>\n",
       "      <td>38</td>\n",
       "      <td>NaN</td>\n",
       "      <td>Ростов-на-Дону</td>\n",
       "      <td>Георгий</td>\n",
       "      <td>Вишняков</td>\n",
       "      <td>2018-10-31</td>\n",
       "      <td>smart</td>\n",
       "    </tr>\n",
       "    <tr>\n",
       "      <th>364</th>\n",
       "      <td>1364</td>\n",
       "      <td>74</td>\n",
       "      <td>NaN</td>\n",
       "      <td>Екатеринбург</td>\n",
       "      <td>Мстислав</td>\n",
       "      <td>Алексеенко</td>\n",
       "      <td>2018-08-29</td>\n",
       "      <td>ultra</td>\n",
       "    </tr>\n",
       "    <tr>\n",
       "      <th>429</th>\n",
       "      <td>1429</td>\n",
       "      <td>54</td>\n",
       "      <td>NaN</td>\n",
       "      <td>Санкт-Петербург</td>\n",
       "      <td>Джулия</td>\n",
       "      <td>Белякова</td>\n",
       "      <td>2018-01-26</td>\n",
       "      <td>smart</td>\n",
       "    </tr>\n",
       "    <tr>\n",
       "      <th>22</th>\n",
       "      <td>1022</td>\n",
       "      <td>72</td>\n",
       "      <td>NaN</td>\n",
       "      <td>Санкт-Петербург</td>\n",
       "      <td>Василиса</td>\n",
       "      <td>Трофимова</td>\n",
       "      <td>2018-12-01</td>\n",
       "      <td>smart</td>\n",
       "    </tr>\n",
       "    <tr>\n",
       "      <th>217</th>\n",
       "      <td>1217</td>\n",
       "      <td>42</td>\n",
       "      <td>NaN</td>\n",
       "      <td>Ульяновск</td>\n",
       "      <td>Ермолай</td>\n",
       "      <td>Сазонов</td>\n",
       "      <td>2018-02-23</td>\n",
       "      <td>smart</td>\n",
       "    </tr>\n",
       "    <tr>\n",
       "      <th>344</th>\n",
       "      <td>1344</td>\n",
       "      <td>60</td>\n",
       "      <td>NaN</td>\n",
       "      <td>Воронеж</td>\n",
       "      <td>Илзе</td>\n",
       "      <td>Игнатьева</td>\n",
       "      <td>2018-04-03</td>\n",
       "      <td>ultra</td>\n",
       "    </tr>\n",
       "    <tr>\n",
       "      <th>287</th>\n",
       "      <td>1287</td>\n",
       "      <td>39</td>\n",
       "      <td>NaN</td>\n",
       "      <td>Севастополь</td>\n",
       "      <td>Вениамин</td>\n",
       "      <td>Мишин</td>\n",
       "      <td>2018-09-23</td>\n",
       "      <td>smart</td>\n",
       "    </tr>\n",
       "    <tr>\n",
       "      <th>24</th>\n",
       "      <td>1024</td>\n",
       "      <td>73</td>\n",
       "      <td>NaN</td>\n",
       "      <td>Санкт-Петербург</td>\n",
       "      <td>Иулиан</td>\n",
       "      <td>Антипов</td>\n",
       "      <td>2018-10-31</td>\n",
       "      <td>ultra</td>\n",
       "    </tr>\n",
       "    <tr>\n",
       "      <th>99</th>\n",
       "      <td>1099</td>\n",
       "      <td>67</td>\n",
       "      <td>NaN</td>\n",
       "      <td>Тольятти</td>\n",
       "      <td>Аюна</td>\n",
       "      <td>Сергеева</td>\n",
       "      <td>2018-03-16</td>\n",
       "      <td>ultra</td>\n",
       "    </tr>\n",
       "  </tbody>\n",
       "</table>\n",
       "</div>"
      ],
      "text/plain": [
       "     user_id  age  churn_date             city first_name   last_name  \\\n",
       "34      1034   66  2018-11-21          Вологда  Святослав    Бондарев   \n",
       "365     1365   38         NaN   Ростов-на-Дону    Георгий    Вишняков   \n",
       "364     1364   74         NaN     Екатеринбург   Мстислав  Алексеенко   \n",
       "429     1429   54         NaN  Санкт-Петербург     Джулия    Белякова   \n",
       "22      1022   72         NaN  Санкт-Петербург   Василиса   Трофимова   \n",
       "217     1217   42         NaN        Ульяновск    Ермолай     Сазонов   \n",
       "344     1344   60         NaN          Воронеж       Илзе   Игнатьева   \n",
       "287     1287   39         NaN      Севастополь   Вениамин       Мишин   \n",
       "24      1024   73         NaN  Санкт-Петербург     Иулиан     Антипов   \n",
       "99      1099   67         NaN         Тольятти       Аюна    Сергеева   \n",
       "\n",
       "       reg_date tariff  \n",
       "34   2018-08-26  smart  \n",
       "365  2018-10-31  smart  \n",
       "364  2018-08-29  ultra  \n",
       "429  2018-01-26  smart  \n",
       "22   2018-12-01  smart  \n",
       "217  2018-02-23  smart  \n",
       "344  2018-04-03  ultra  \n",
       "287  2018-09-23  smart  \n",
       "24   2018-10-31  ultra  \n",
       "99   2018-03-16  ultra  "
      ]
     },
     "execution_count": 20,
     "metadata": {},
     "output_type": "execute_result"
    }
   ],
   "source": [
    "users.info() \n",
    "users.sample(10)"
   ]
  },
  {
   "cell_type": "markdown",
   "metadata": {},
   "source": [
    "Устраняем пропущенные значения в столбце churn_date и меняем там формат. Также меняем формат в столбце даты регистрации reg_date"
   ]
  },
  {
   "cell_type": "code",
   "execution_count": 21,
   "metadata": {},
   "outputs": [],
   "source": [
    "users['churn_date']= pd.to_datetime(users['churn_date'], format = '%Y/%m/%d')\n",
    "users['reg_date']= pd.to_datetime(users['reg_date'], format = '%Y/%m/%d')"
   ]
  },
  {
   "cell_type": "code",
   "execution_count": 22,
   "metadata": {},
   "outputs": [],
   "source": [
    "users['churn_date'] =  users['churn_date'].fillna('2021-01-01') "
   ]
  },
  {
   "cell_type": "markdown",
   "metadata": {},
   "source": [
    "Также создаём два новых столбца: столбец с месяцем регистрации абонента и столбец с месяцем ухода с тарифного плана:"
   ]
  },
  {
   "cell_type": "code",
   "execution_count": 23,
   "metadata": {},
   "outputs": [],
   "source": [
    "users['month_churn'] = users['churn_date'].values.astype('datetime64[M]')  "
   ]
  },
  {
   "cell_type": "code",
   "execution_count": 24,
   "metadata": {},
   "outputs": [],
   "source": [
    "users['month_reg'] = users['reg_date'].values.astype('datetime64[M]')  "
   ]
  },
  {
   "cell_type": "code",
   "execution_count": 25,
   "metadata": {},
   "outputs": [
    {
     "data": {
      "text/html": [
       "<div>\n",
       "<style scoped>\n",
       "    .dataframe tbody tr th:only-of-type {\n",
       "        vertical-align: middle;\n",
       "    }\n",
       "\n",
       "    .dataframe tbody tr th {\n",
       "        vertical-align: top;\n",
       "    }\n",
       "\n",
       "    .dataframe thead th {\n",
       "        text-align: right;\n",
       "    }\n",
       "</style>\n",
       "<table border=\"1\" class=\"dataframe\">\n",
       "  <thead>\n",
       "    <tr style=\"text-align: right;\">\n",
       "      <th></th>\n",
       "      <th>user_id</th>\n",
       "      <th>age</th>\n",
       "      <th>churn_date</th>\n",
       "      <th>city</th>\n",
       "      <th>first_name</th>\n",
       "      <th>last_name</th>\n",
       "      <th>reg_date</th>\n",
       "      <th>tariff</th>\n",
       "      <th>month_churn</th>\n",
       "      <th>month_reg</th>\n",
       "    </tr>\n",
       "  </thead>\n",
       "  <tbody>\n",
       "    <tr>\n",
       "      <th>0</th>\n",
       "      <td>1000</td>\n",
       "      <td>52</td>\n",
       "      <td>2021-01-01</td>\n",
       "      <td>Краснодар</td>\n",
       "      <td>Рафаил</td>\n",
       "      <td>Верещагин</td>\n",
       "      <td>2018-05-25</td>\n",
       "      <td>ultra</td>\n",
       "      <td>2021-01-01</td>\n",
       "      <td>2018-05-01</td>\n",
       "    </tr>\n",
       "    <tr>\n",
       "      <th>1</th>\n",
       "      <td>1001</td>\n",
       "      <td>41</td>\n",
       "      <td>2021-01-01</td>\n",
       "      <td>Москва</td>\n",
       "      <td>Иван</td>\n",
       "      <td>Ежов</td>\n",
       "      <td>2018-11-01</td>\n",
       "      <td>smart</td>\n",
       "      <td>2021-01-01</td>\n",
       "      <td>2018-11-01</td>\n",
       "    </tr>\n",
       "    <tr>\n",
       "      <th>2</th>\n",
       "      <td>1002</td>\n",
       "      <td>59</td>\n",
       "      <td>2021-01-01</td>\n",
       "      <td>Стерлитамак</td>\n",
       "      <td>Евгений</td>\n",
       "      <td>Абрамович</td>\n",
       "      <td>2018-06-17</td>\n",
       "      <td>smart</td>\n",
       "      <td>2021-01-01</td>\n",
       "      <td>2018-06-01</td>\n",
       "    </tr>\n",
       "    <tr>\n",
       "      <th>3</th>\n",
       "      <td>1003</td>\n",
       "      <td>23</td>\n",
       "      <td>2021-01-01</td>\n",
       "      <td>Москва</td>\n",
       "      <td>Белла</td>\n",
       "      <td>Белякова</td>\n",
       "      <td>2018-08-17</td>\n",
       "      <td>ultra</td>\n",
       "      <td>2021-01-01</td>\n",
       "      <td>2018-08-01</td>\n",
       "    </tr>\n",
       "    <tr>\n",
       "      <th>4</th>\n",
       "      <td>1004</td>\n",
       "      <td>68</td>\n",
       "      <td>2021-01-01</td>\n",
       "      <td>Новокузнецк</td>\n",
       "      <td>Татьяна</td>\n",
       "      <td>Авдеенко</td>\n",
       "      <td>2018-05-14</td>\n",
       "      <td>ultra</td>\n",
       "      <td>2021-01-01</td>\n",
       "      <td>2018-05-01</td>\n",
       "    </tr>\n",
       "    <tr>\n",
       "      <th>...</th>\n",
       "      <td>...</td>\n",
       "      <td>...</td>\n",
       "      <td>...</td>\n",
       "      <td>...</td>\n",
       "      <td>...</td>\n",
       "      <td>...</td>\n",
       "      <td>...</td>\n",
       "      <td>...</td>\n",
       "      <td>...</td>\n",
       "      <td>...</td>\n",
       "    </tr>\n",
       "    <tr>\n",
       "      <th>495</th>\n",
       "      <td>1495</td>\n",
       "      <td>65</td>\n",
       "      <td>2021-01-01</td>\n",
       "      <td>Иркутск</td>\n",
       "      <td>Авксентий</td>\n",
       "      <td>Фокин</td>\n",
       "      <td>2018-08-28</td>\n",
       "      <td>ultra</td>\n",
       "      <td>2021-01-01</td>\n",
       "      <td>2018-08-01</td>\n",
       "    </tr>\n",
       "    <tr>\n",
       "      <th>496</th>\n",
       "      <td>1496</td>\n",
       "      <td>36</td>\n",
       "      <td>2021-01-01</td>\n",
       "      <td>Вологда</td>\n",
       "      <td>Трифон</td>\n",
       "      <td>Блохин</td>\n",
       "      <td>2018-01-27</td>\n",
       "      <td>smart</td>\n",
       "      <td>2021-01-01</td>\n",
       "      <td>2018-01-01</td>\n",
       "    </tr>\n",
       "    <tr>\n",
       "      <th>497</th>\n",
       "      <td>1497</td>\n",
       "      <td>32</td>\n",
       "      <td>2021-01-01</td>\n",
       "      <td>Челябинск</td>\n",
       "      <td>Каролина</td>\n",
       "      <td>Агеева</td>\n",
       "      <td>2018-10-09</td>\n",
       "      <td>smart</td>\n",
       "      <td>2021-01-01</td>\n",
       "      <td>2018-10-01</td>\n",
       "    </tr>\n",
       "    <tr>\n",
       "      <th>498</th>\n",
       "      <td>1498</td>\n",
       "      <td>68</td>\n",
       "      <td>2018-10-25 00:00:00</td>\n",
       "      <td>Владикавказ</td>\n",
       "      <td>Всеволод</td>\n",
       "      <td>Акимчин</td>\n",
       "      <td>2018-07-19</td>\n",
       "      <td>smart</td>\n",
       "      <td>2018-10-01</td>\n",
       "      <td>2018-07-01</td>\n",
       "    </tr>\n",
       "    <tr>\n",
       "      <th>499</th>\n",
       "      <td>1499</td>\n",
       "      <td>35</td>\n",
       "      <td>2021-01-01</td>\n",
       "      <td>Пермь</td>\n",
       "      <td>Гектор</td>\n",
       "      <td>Корнилов</td>\n",
       "      <td>2018-09-27</td>\n",
       "      <td>smart</td>\n",
       "      <td>2021-01-01</td>\n",
       "      <td>2018-09-01</td>\n",
       "    </tr>\n",
       "  </tbody>\n",
       "</table>\n",
       "<p>500 rows × 10 columns</p>\n",
       "</div>"
      ],
      "text/plain": [
       "     user_id  age           churn_date         city first_name  last_name  \\\n",
       "0       1000   52           2021-01-01    Краснодар     Рафаил  Верещагин   \n",
       "1       1001   41           2021-01-01       Москва       Иван       Ежов   \n",
       "2       1002   59           2021-01-01  Стерлитамак    Евгений  Абрамович   \n",
       "3       1003   23           2021-01-01       Москва      Белла   Белякова   \n",
       "4       1004   68           2021-01-01  Новокузнецк    Татьяна   Авдеенко   \n",
       "..       ...  ...                  ...          ...        ...        ...   \n",
       "495     1495   65           2021-01-01      Иркутск  Авксентий      Фокин   \n",
       "496     1496   36           2021-01-01      Вологда     Трифон     Блохин   \n",
       "497     1497   32           2021-01-01    Челябинск   Каролина     Агеева   \n",
       "498     1498   68  2018-10-25 00:00:00  Владикавказ   Всеволод    Акимчин   \n",
       "499     1499   35           2021-01-01        Пермь     Гектор   Корнилов   \n",
       "\n",
       "      reg_date tariff month_churn  month_reg  \n",
       "0   2018-05-25  ultra  2021-01-01 2018-05-01  \n",
       "1   2018-11-01  smart  2021-01-01 2018-11-01  \n",
       "2   2018-06-17  smart  2021-01-01 2018-06-01  \n",
       "3   2018-08-17  ultra  2021-01-01 2018-08-01  \n",
       "4   2018-05-14  ultra  2021-01-01 2018-05-01  \n",
       "..         ...    ...         ...        ...  \n",
       "495 2018-08-28  ultra  2021-01-01 2018-08-01  \n",
       "496 2018-01-27  smart  2021-01-01 2018-01-01  \n",
       "497 2018-10-09  smart  2021-01-01 2018-10-01  \n",
       "498 2018-07-19  smart  2018-10-01 2018-07-01  \n",
       "499 2018-09-27  smart  2021-01-01 2018-09-01  \n",
       "\n",
       "[500 rows x 10 columns]"
      ]
     },
     "execution_count": 25,
     "metadata": {},
     "output_type": "execute_result"
    }
   ],
   "source": [
    "users"
   ]
  },
  {
   "cell_type": "code",
   "execution_count": 26,
   "metadata": {},
   "outputs": [],
   "source": [
    "users_info = users[['user_id', 'city', 'tariff']] #формируем новыую таблицу с необходимыми данными"
   ]
  },
  {
   "cell_type": "markdown",
   "metadata": {},
   "source": [
    "## 2.6. Количество израсходованных минут по месяцам по каждому пользователю<a name=\"шаг-2-6\"></a> "
   ]
  },
  {
   "cell_type": "code",
   "execution_count": 27,
   "metadata": {},
   "outputs": [],
   "source": [
    "users_calls = calls.groupby(['user_id', 'month'])['duration'].sum().reset_index()"
   ]
  },
  {
   "cell_type": "code",
   "execution_count": 28,
   "metadata": {},
   "outputs": [
    {
     "data": {
      "text/html": [
       "<div>\n",
       "<style scoped>\n",
       "    .dataframe tbody tr th:only-of-type {\n",
       "        vertical-align: middle;\n",
       "    }\n",
       "\n",
       "    .dataframe tbody tr th {\n",
       "        vertical-align: top;\n",
       "    }\n",
       "\n",
       "    .dataframe thead th {\n",
       "        text-align: right;\n",
       "    }\n",
       "</style>\n",
       "<table border=\"1\" class=\"dataframe\">\n",
       "  <thead>\n",
       "    <tr style=\"text-align: right;\">\n",
       "      <th></th>\n",
       "      <th>user_id</th>\n",
       "      <th>month</th>\n",
       "      <th>duration</th>\n",
       "    </tr>\n",
       "  </thead>\n",
       "  <tbody>\n",
       "    <tr>\n",
       "      <th>0</th>\n",
       "      <td>1000</td>\n",
       "      <td>2018-05-01</td>\n",
       "      <td>159.0</td>\n",
       "    </tr>\n",
       "    <tr>\n",
       "      <th>1</th>\n",
       "      <td>1000</td>\n",
       "      <td>2018-06-01</td>\n",
       "      <td>172.0</td>\n",
       "    </tr>\n",
       "    <tr>\n",
       "      <th>2</th>\n",
       "      <td>1000</td>\n",
       "      <td>2018-07-01</td>\n",
       "      <td>340.0</td>\n",
       "    </tr>\n",
       "    <tr>\n",
       "      <th>3</th>\n",
       "      <td>1000</td>\n",
       "      <td>2018-08-01</td>\n",
       "      <td>408.0</td>\n",
       "    </tr>\n",
       "    <tr>\n",
       "      <th>4</th>\n",
       "      <td>1000</td>\n",
       "      <td>2018-09-01</td>\n",
       "      <td>466.0</td>\n",
       "    </tr>\n",
       "    <tr>\n",
       "      <th>5</th>\n",
       "      <td>1000</td>\n",
       "      <td>2018-10-01</td>\n",
       "      <td>350.0</td>\n",
       "    </tr>\n",
       "    <tr>\n",
       "      <th>6</th>\n",
       "      <td>1000</td>\n",
       "      <td>2018-11-01</td>\n",
       "      <td>338.0</td>\n",
       "    </tr>\n",
       "    <tr>\n",
       "      <th>7</th>\n",
       "      <td>1000</td>\n",
       "      <td>2018-12-01</td>\n",
       "      <td>333.0</td>\n",
       "    </tr>\n",
       "    <tr>\n",
       "      <th>8</th>\n",
       "      <td>1001</td>\n",
       "      <td>2018-11-01</td>\n",
       "      <td>430.0</td>\n",
       "    </tr>\n",
       "    <tr>\n",
       "      <th>9</th>\n",
       "      <td>1001</td>\n",
       "      <td>2018-12-01</td>\n",
       "      <td>414.0</td>\n",
       "    </tr>\n",
       "  </tbody>\n",
       "</table>\n",
       "</div>"
      ],
      "text/plain": [
       "   user_id      month  duration\n",
       "0     1000 2018-05-01     159.0\n",
       "1     1000 2018-06-01     172.0\n",
       "2     1000 2018-07-01     340.0\n",
       "3     1000 2018-08-01     408.0\n",
       "4     1000 2018-09-01     466.0\n",
       "5     1000 2018-10-01     350.0\n",
       "6     1000 2018-11-01     338.0\n",
       "7     1000 2018-12-01     333.0\n",
       "8     1001 2018-11-01     430.0\n",
       "9     1001 2018-12-01     414.0"
      ]
     },
     "execution_count": 28,
     "metadata": {},
     "output_type": "execute_result"
    }
   ],
   "source": [
    "users_calls.head(10)"
   ]
  },
  {
   "cell_type": "code",
   "execution_count": 29,
   "metadata": {},
   "outputs": [
    {
     "name": "stdout",
     "output_type": "stream",
     "text": [
      "<class 'pandas.core.frame.DataFrame'>\n",
      "RangeIndex: 3174 entries, 0 to 3173\n",
      "Data columns (total 3 columns):\n",
      " #   Column    Non-Null Count  Dtype         \n",
      "---  ------    --------------  -----         \n",
      " 0   user_id   3174 non-null   int64         \n",
      " 1   month     3174 non-null   datetime64[ns]\n",
      " 2   duration  3174 non-null   float64       \n",
      "dtypes: datetime64[ns](1), float64(1), int64(1)\n",
      "memory usage: 74.5 KB\n"
     ]
    }
   ],
   "source": [
    "users_calls.info()"
   ]
  },
  {
   "cell_type": "markdown",
   "metadata": {},
   "source": [
    "## 2.7. Количество израсходованных гигабайт  по месяцам по каждому пользователю<a name=\"шаг-2-7\"></a> "
   ]
  },
  {
   "cell_type": "code",
   "execution_count": 30,
   "metadata": {},
   "outputs": [],
   "source": [
    "users_GB = internet.groupby(['user_id', 'month'])['gb_used'].sum().reset_index()"
   ]
  },
  {
   "cell_type": "code",
   "execution_count": 31,
   "metadata": {},
   "outputs": [
    {
     "data": {
      "text/html": [
       "<div>\n",
       "<style scoped>\n",
       "    .dataframe tbody tr th:only-of-type {\n",
       "        vertical-align: middle;\n",
       "    }\n",
       "\n",
       "    .dataframe tbody tr th {\n",
       "        vertical-align: top;\n",
       "    }\n",
       "\n",
       "    .dataframe thead th {\n",
       "        text-align: right;\n",
       "    }\n",
       "</style>\n",
       "<table border=\"1\" class=\"dataframe\">\n",
       "  <thead>\n",
       "    <tr style=\"text-align: right;\">\n",
       "      <th></th>\n",
       "      <th>user_id</th>\n",
       "      <th>month</th>\n",
       "      <th>gb_used</th>\n",
       "    </tr>\n",
       "  </thead>\n",
       "  <tbody>\n",
       "    <tr>\n",
       "      <th>0</th>\n",
       "      <td>1000</td>\n",
       "      <td>2018-05-01</td>\n",
       "      <td>2.203125</td>\n",
       "    </tr>\n",
       "    <tr>\n",
       "      <th>1</th>\n",
       "      <td>1000</td>\n",
       "      <td>2018-06-01</td>\n",
       "      <td>22.711914</td>\n",
       "    </tr>\n",
       "    <tr>\n",
       "      <th>2</th>\n",
       "      <td>1000</td>\n",
       "      <td>2018-07-01</td>\n",
       "      <td>13.687500</td>\n",
       "    </tr>\n",
       "    <tr>\n",
       "      <th>3</th>\n",
       "      <td>1000</td>\n",
       "      <td>2018-08-01</td>\n",
       "      <td>13.740234</td>\n",
       "    </tr>\n",
       "    <tr>\n",
       "      <th>4</th>\n",
       "      <td>1000</td>\n",
       "      <td>2018-09-01</td>\n",
       "      <td>14.239258</td>\n",
       "    </tr>\n",
       "    <tr>\n",
       "      <th>5</th>\n",
       "      <td>1000</td>\n",
       "      <td>2018-10-01</td>\n",
       "      <td>14.372070</td>\n",
       "    </tr>\n",
       "    <tr>\n",
       "      <th>6</th>\n",
       "      <td>1000</td>\n",
       "      <td>2018-11-01</td>\n",
       "      <td>14.421875</td>\n",
       "    </tr>\n",
       "    <tr>\n",
       "      <th>7</th>\n",
       "      <td>1000</td>\n",
       "      <td>2018-12-01</td>\n",
       "      <td>9.596680</td>\n",
       "    </tr>\n",
       "    <tr>\n",
       "      <th>8</th>\n",
       "      <td>1001</td>\n",
       "      <td>2018-11-01</td>\n",
       "      <td>18.019531</td>\n",
       "    </tr>\n",
       "    <tr>\n",
       "      <th>9</th>\n",
       "      <td>1001</td>\n",
       "      <td>2018-12-01</td>\n",
       "      <td>13.723633</td>\n",
       "    </tr>\n",
       "  </tbody>\n",
       "</table>\n",
       "</div>"
      ],
      "text/plain": [
       "   user_id      month    gb_used\n",
       "0     1000 2018-05-01   2.203125\n",
       "1     1000 2018-06-01  22.711914\n",
       "2     1000 2018-07-01  13.687500\n",
       "3     1000 2018-08-01  13.740234\n",
       "4     1000 2018-09-01  14.239258\n",
       "5     1000 2018-10-01  14.372070\n",
       "6     1000 2018-11-01  14.421875\n",
       "7     1000 2018-12-01   9.596680\n",
       "8     1001 2018-11-01  18.019531\n",
       "9     1001 2018-12-01  13.723633"
      ]
     },
     "execution_count": 31,
     "metadata": {},
     "output_type": "execute_result"
    }
   ],
   "source": [
    "users_GB.head(10)"
   ]
  },
  {
   "cell_type": "code",
   "execution_count": 32,
   "metadata": {},
   "outputs": [],
   "source": [
    "users_GB['gb_used']= users_GB['gb_used'].fillna(0)"
   ]
  },
  {
   "cell_type": "markdown",
   "metadata": {},
   "source": [
    "## 2.8. Количество израсходованных сообщений  по месяцам по каждому пользователю<a name=\"шаг-2-8\"></a> "
   ]
  },
  {
   "cell_type": "code",
   "execution_count": 33,
   "metadata": {},
   "outputs": [],
   "source": [
    "users_sms = messages.groupby(['user_id', 'month'])['sms'].sum().reset_index()"
   ]
  },
  {
   "cell_type": "code",
   "execution_count": 34,
   "metadata": {},
   "outputs": [
    {
     "data": {
      "text/html": [
       "<div>\n",
       "<style scoped>\n",
       "    .dataframe tbody tr th:only-of-type {\n",
       "        vertical-align: middle;\n",
       "    }\n",
       "\n",
       "    .dataframe tbody tr th {\n",
       "        vertical-align: top;\n",
       "    }\n",
       "\n",
       "    .dataframe thead th {\n",
       "        text-align: right;\n",
       "    }\n",
       "</style>\n",
       "<table border=\"1\" class=\"dataframe\">\n",
       "  <thead>\n",
       "    <tr style=\"text-align: right;\">\n",
       "      <th></th>\n",
       "      <th>user_id</th>\n",
       "      <th>month</th>\n",
       "      <th>sms</th>\n",
       "    </tr>\n",
       "  </thead>\n",
       "  <tbody>\n",
       "    <tr>\n",
       "      <th>0</th>\n",
       "      <td>1000</td>\n",
       "      <td>2018-05-01</td>\n",
       "      <td>22</td>\n",
       "    </tr>\n",
       "    <tr>\n",
       "      <th>1</th>\n",
       "      <td>1000</td>\n",
       "      <td>2018-06-01</td>\n",
       "      <td>60</td>\n",
       "    </tr>\n",
       "    <tr>\n",
       "      <th>2</th>\n",
       "      <td>1000</td>\n",
       "      <td>2018-07-01</td>\n",
       "      <td>75</td>\n",
       "    </tr>\n",
       "    <tr>\n",
       "      <th>3</th>\n",
       "      <td>1000</td>\n",
       "      <td>2018-08-01</td>\n",
       "      <td>81</td>\n",
       "    </tr>\n",
       "    <tr>\n",
       "      <th>4</th>\n",
       "      <td>1000</td>\n",
       "      <td>2018-09-01</td>\n",
       "      <td>57</td>\n",
       "    </tr>\n",
       "    <tr>\n",
       "      <th>5</th>\n",
       "      <td>1000</td>\n",
       "      <td>2018-10-01</td>\n",
       "      <td>73</td>\n",
       "    </tr>\n",
       "    <tr>\n",
       "      <th>6</th>\n",
       "      <td>1000</td>\n",
       "      <td>2018-11-01</td>\n",
       "      <td>58</td>\n",
       "    </tr>\n",
       "    <tr>\n",
       "      <th>7</th>\n",
       "      <td>1000</td>\n",
       "      <td>2018-12-01</td>\n",
       "      <td>70</td>\n",
       "    </tr>\n",
       "    <tr>\n",
       "      <th>8</th>\n",
       "      <td>1002</td>\n",
       "      <td>2018-06-01</td>\n",
       "      <td>4</td>\n",
       "    </tr>\n",
       "    <tr>\n",
       "      <th>9</th>\n",
       "      <td>1002</td>\n",
       "      <td>2018-07-01</td>\n",
       "      <td>11</td>\n",
       "    </tr>\n",
       "  </tbody>\n",
       "</table>\n",
       "</div>"
      ],
      "text/plain": [
       "   user_id      month  sms\n",
       "0     1000 2018-05-01   22\n",
       "1     1000 2018-06-01   60\n",
       "2     1000 2018-07-01   75\n",
       "3     1000 2018-08-01   81\n",
       "4     1000 2018-09-01   57\n",
       "5     1000 2018-10-01   73\n",
       "6     1000 2018-11-01   58\n",
       "7     1000 2018-12-01   70\n",
       "8     1002 2018-06-01    4\n",
       "9     1002 2018-07-01   11"
      ]
     },
     "execution_count": 34,
     "metadata": {},
     "output_type": "execute_result"
    }
   ],
   "source": [
    "users_sms.head(10)"
   ]
  },
  {
   "cell_type": "code",
   "execution_count": 35,
   "metadata": {},
   "outputs": [
    {
     "name": "stdout",
     "output_type": "stream",
     "text": [
      "<class 'pandas.core.frame.DataFrame'>\n",
      "RangeIndex: 2717 entries, 0 to 2716\n",
      "Data columns (total 3 columns):\n",
      " #   Column   Non-Null Count  Dtype         \n",
      "---  ------   --------------  -----         \n",
      " 0   user_id  2717 non-null   int64         \n",
      " 1   month    2717 non-null   datetime64[ns]\n",
      " 2   sms      2717 non-null   int64         \n",
      "dtypes: datetime64[ns](1), int64(2)\n",
      "memory usage: 63.8 KB\n"
     ]
    }
   ],
   "source": [
    "users_sms.info()"
   ]
  },
  {
   "cell_type": "markdown",
   "metadata": {},
   "source": [
    "## 2.9. Объединённая таблица<a name=\"шаг-2-9\"></a> "
   ]
  },
  {
   "cell_type": "code",
   "execution_count": 36,
   "metadata": {},
   "outputs": [],
   "source": [
    "all_servises = users_GB.merge(users_calls, how='outer',on=['user_id', 'month']) #объединим таблицу интернет-трафика с таблицей звонков"
   ]
  },
  {
   "cell_type": "code",
   "execution_count": 37,
   "metadata": {},
   "outputs": [],
   "source": [
    "all_servises['duration']= all_servises['duration'].fillna(0) #заполняем нулями пустые ячеки, образовавшиеся после слияния\n",
    "all_servises['gb_used']= all_servises['gb_used'].fillna(0)"
   ]
  },
  {
   "cell_type": "code",
   "execution_count": 38,
   "metadata": {},
   "outputs": [],
   "source": [
    "all_servises = all_servises.merge(users_sms, how='outer',on=['user_id', 'month']) #к полученной таблице добавим данные по смс"
   ]
  },
  {
   "cell_type": "code",
   "execution_count": 39,
   "metadata": {},
   "outputs": [],
   "source": [
    "all_servises['sms'] = all_servises['sms'].fillna(0) #заполняем нулями пустые ячеки"
   ]
  },
  {
   "cell_type": "code",
   "execution_count": 40,
   "metadata": {},
   "outputs": [],
   "source": [
    "all_servises = all_servises.merge(users_info, how='left',on=['user_id'])"
   ]
  },
  {
   "cell_type": "code",
   "execution_count": 41,
   "metadata": {},
   "outputs": [
    {
     "name": "stdout",
     "output_type": "stream",
     "text": [
      "<class 'pandas.core.frame.DataFrame'>\n",
      "Int64Index: 3214 entries, 0 to 3213\n",
      "Data columns (total 7 columns):\n",
      " #   Column    Non-Null Count  Dtype         \n",
      "---  ------    --------------  -----         \n",
      " 0   user_id   3214 non-null   int64         \n",
      " 1   month     3214 non-null   datetime64[ns]\n",
      " 2   gb_used   3214 non-null   float64       \n",
      " 3   duration  3214 non-null   float64       \n",
      " 4   sms       3214 non-null   float64       \n",
      " 5   city      3214 non-null   object        \n",
      " 6   tariff    3214 non-null   object        \n",
      "dtypes: datetime64[ns](1), float64(3), int64(1), object(2)\n",
      "memory usage: 200.9+ KB\n"
     ]
    }
   ],
   "source": [
    "all_servises.info()"
   ]
  },
  {
   "cell_type": "code",
   "execution_count": 42,
   "metadata": {},
   "outputs": [
    {
     "data": {
      "text/html": [
       "<div>\n",
       "<style scoped>\n",
       "    .dataframe tbody tr th:only-of-type {\n",
       "        vertical-align: middle;\n",
       "    }\n",
       "\n",
       "    .dataframe tbody tr th {\n",
       "        vertical-align: top;\n",
       "    }\n",
       "\n",
       "    .dataframe thead th {\n",
       "        text-align: right;\n",
       "    }\n",
       "</style>\n",
       "<table border=\"1\" class=\"dataframe\">\n",
       "  <thead>\n",
       "    <tr style=\"text-align: right;\">\n",
       "      <th></th>\n",
       "      <th>user_id</th>\n",
       "      <th>month</th>\n",
       "      <th>gb_used</th>\n",
       "      <th>duration</th>\n",
       "      <th>sms</th>\n",
       "      <th>city</th>\n",
       "      <th>tariff</th>\n",
       "    </tr>\n",
       "  </thead>\n",
       "  <tbody>\n",
       "  </tbody>\n",
       "</table>\n",
       "</div>"
      ],
      "text/plain": [
       "Empty DataFrame\n",
       "Columns: [user_id, month, gb_used, duration, sms, city, tariff]\n",
       "Index: []"
      ]
     },
     "execution_count": 42,
     "metadata": {},
     "output_type": "execute_result"
    }
   ],
   "source": [
    "all_servises.query('duration == \"NaN\"')"
   ]
  },
  {
   "cell_type": "code",
   "execution_count": 43,
   "metadata": {},
   "outputs": [
    {
     "data": {
      "text/html": [
       "<div>\n",
       "<style scoped>\n",
       "    .dataframe tbody tr th:only-of-type {\n",
       "        vertical-align: middle;\n",
       "    }\n",
       "\n",
       "    .dataframe tbody tr th {\n",
       "        vertical-align: top;\n",
       "    }\n",
       "\n",
       "    .dataframe thead th {\n",
       "        text-align: right;\n",
       "    }\n",
       "</style>\n",
       "<table border=\"1\" class=\"dataframe\">\n",
       "  <thead>\n",
       "    <tr style=\"text-align: right;\">\n",
       "      <th></th>\n",
       "      <th>user_id</th>\n",
       "      <th>age</th>\n",
       "      <th>churn_date</th>\n",
       "      <th>city</th>\n",
       "      <th>first_name</th>\n",
       "      <th>last_name</th>\n",
       "      <th>reg_date</th>\n",
       "      <th>tariff</th>\n",
       "      <th>month_churn</th>\n",
       "      <th>month_reg</th>\n",
       "    </tr>\n",
       "  </thead>\n",
       "  <tbody>\n",
       "    <tr>\n",
       "      <th>128</th>\n",
       "      <td>1128</td>\n",
       "      <td>51</td>\n",
       "      <td>2018-12-23 00:00:00</td>\n",
       "      <td>Волжский</td>\n",
       "      <td>Ксения</td>\n",
       "      <td>Агаева</td>\n",
       "      <td>2018-12-15</td>\n",
       "      <td>ultra</td>\n",
       "      <td>2018-12-01</td>\n",
       "      <td>2018-12-01</td>\n",
       "    </tr>\n",
       "    <tr>\n",
       "      <th>371</th>\n",
       "      <td>1371</td>\n",
       "      <td>50</td>\n",
       "      <td>2018-12-30 00:00:00</td>\n",
       "      <td>Омск</td>\n",
       "      <td>Ириней</td>\n",
       "      <td>Трофимов</td>\n",
       "      <td>2018-12-25</td>\n",
       "      <td>smart</td>\n",
       "      <td>2018-12-01</td>\n",
       "      <td>2018-12-01</td>\n",
       "    </tr>\n",
       "  </tbody>\n",
       "</table>\n",
       "</div>"
      ],
      "text/plain": [
       "     user_id  age           churn_date      city first_name last_name  \\\n",
       "128     1128   51  2018-12-23 00:00:00  Волжский     Ксения    Агаева   \n",
       "371     1371   50  2018-12-30 00:00:00      Омск     Ириней  Трофимов   \n",
       "\n",
       "      reg_date tariff month_churn  month_reg  \n",
       "128 2018-12-15  ultra  2018-12-01 2018-12-01  \n",
       "371 2018-12-25  smart  2018-12-01 2018-12-01  "
      ]
     },
     "execution_count": 43,
     "metadata": {},
     "output_type": "execute_result"
    }
   ],
   "source": [
    "users.query('user_id == 1128 | user_id == 1371')"
   ]
  },
  {
   "cell_type": "markdown",
   "metadata": {},
   "source": [
    "Появились 2 строки с нулевыми значениями по использованию услуг: абонент с id 1128 и 1371. Эти строки отстутствовали в таблицах с расшифровками использования услуг, и, следовательно, услуги не были оказаны. Поэтому строки удаляем:"
   ]
  },
  {
   "cell_type": "code",
   "execution_count": 44,
   "metadata": {},
   "outputs": [],
   "source": [
    "all_servises = all_servises.dropna().reset_index(drop=True)"
   ]
  },
  {
   "cell_type": "markdown",
   "metadata": {},
   "source": [
    "Проверяем корректность слияния таблиц:"
   ]
  },
  {
   "cell_type": "code",
   "execution_count": 45,
   "metadata": {},
   "outputs": [
    {
     "data": {
      "text/plain": [
       "True"
      ]
     },
     "execution_count": 45,
     "metadata": {},
     "output_type": "execute_result"
    }
   ],
   "source": [
    "all_servises['gb_used'].sum().round(4) == internet['gb_used'].sum().round(4)"
   ]
  },
  {
   "cell_type": "code",
   "execution_count": 46,
   "metadata": {},
   "outputs": [
    {
     "data": {
      "text/plain": [
       "True"
      ]
     },
     "execution_count": 46,
     "metadata": {},
     "output_type": "execute_result"
    }
   ],
   "source": [
    "all_servises['duration'].sum().round(4) == calls['duration'].sum().round(4)"
   ]
  },
  {
   "cell_type": "code",
   "execution_count": 47,
   "metadata": {},
   "outputs": [
    {
     "data": {
      "text/plain": [
       "True"
      ]
     },
     "execution_count": 47,
     "metadata": {},
     "output_type": "execute_result"
    }
   ],
   "source": [
    "all_servises['sms'].sum() == messages['sms'].sum()"
   ]
  },
  {
   "cell_type": "markdown",
   "metadata": {},
   "source": [
    "## 2.10. Расчёт помесячной выручки для каждого абонента<a name=\"шаг-2-10\"></a> "
   ]
  },
  {
   "cell_type": "code",
   "execution_count": 48,
   "metadata": {},
   "outputs": [
    {
     "data": {
      "text/html": [
       "<div>\n",
       "<style scoped>\n",
       "    .dataframe tbody tr th:only-of-type {\n",
       "        vertical-align: middle;\n",
       "    }\n",
       "\n",
       "    .dataframe tbody tr th {\n",
       "        vertical-align: top;\n",
       "    }\n",
       "\n",
       "    .dataframe thead th {\n",
       "        text-align: right;\n",
       "    }\n",
       "</style>\n",
       "<table border=\"1\" class=\"dataframe\">\n",
       "  <thead>\n",
       "    <tr style=\"text-align: right;\">\n",
       "      <th></th>\n",
       "      <th>user_id</th>\n",
       "      <th>month</th>\n",
       "      <th>gb_used</th>\n",
       "      <th>duration</th>\n",
       "      <th>sms</th>\n",
       "      <th>city</th>\n",
       "      <th>tariff</th>\n",
       "    </tr>\n",
       "  </thead>\n",
       "  <tbody>\n",
       "    <tr>\n",
       "      <th>0</th>\n",
       "      <td>1000</td>\n",
       "      <td>2018-05-01</td>\n",
       "      <td>2.203125</td>\n",
       "      <td>159.0</td>\n",
       "      <td>22.0</td>\n",
       "      <td>Краснодар</td>\n",
       "      <td>ultra</td>\n",
       "    </tr>\n",
       "    <tr>\n",
       "      <th>1</th>\n",
       "      <td>1000</td>\n",
       "      <td>2018-06-01</td>\n",
       "      <td>22.711914</td>\n",
       "      <td>172.0</td>\n",
       "      <td>60.0</td>\n",
       "      <td>Краснодар</td>\n",
       "      <td>ultra</td>\n",
       "    </tr>\n",
       "    <tr>\n",
       "      <th>2</th>\n",
       "      <td>1000</td>\n",
       "      <td>2018-07-01</td>\n",
       "      <td>13.687500</td>\n",
       "      <td>340.0</td>\n",
       "      <td>75.0</td>\n",
       "      <td>Краснодар</td>\n",
       "      <td>ultra</td>\n",
       "    </tr>\n",
       "    <tr>\n",
       "      <th>3</th>\n",
       "      <td>1000</td>\n",
       "      <td>2018-08-01</td>\n",
       "      <td>13.740234</td>\n",
       "      <td>408.0</td>\n",
       "      <td>81.0</td>\n",
       "      <td>Краснодар</td>\n",
       "      <td>ultra</td>\n",
       "    </tr>\n",
       "    <tr>\n",
       "      <th>4</th>\n",
       "      <td>1000</td>\n",
       "      <td>2018-09-01</td>\n",
       "      <td>14.239258</td>\n",
       "      <td>466.0</td>\n",
       "      <td>57.0</td>\n",
       "      <td>Краснодар</td>\n",
       "      <td>ultra</td>\n",
       "    </tr>\n",
       "    <tr>\n",
       "      <th>5</th>\n",
       "      <td>1000</td>\n",
       "      <td>2018-10-01</td>\n",
       "      <td>14.372070</td>\n",
       "      <td>350.0</td>\n",
       "      <td>73.0</td>\n",
       "      <td>Краснодар</td>\n",
       "      <td>ultra</td>\n",
       "    </tr>\n",
       "    <tr>\n",
       "      <th>6</th>\n",
       "      <td>1000</td>\n",
       "      <td>2018-11-01</td>\n",
       "      <td>14.421875</td>\n",
       "      <td>338.0</td>\n",
       "      <td>58.0</td>\n",
       "      <td>Краснодар</td>\n",
       "      <td>ultra</td>\n",
       "    </tr>\n",
       "    <tr>\n",
       "      <th>7</th>\n",
       "      <td>1000</td>\n",
       "      <td>2018-12-01</td>\n",
       "      <td>9.596680</td>\n",
       "      <td>333.0</td>\n",
       "      <td>70.0</td>\n",
       "      <td>Краснодар</td>\n",
       "      <td>ultra</td>\n",
       "    </tr>\n",
       "    <tr>\n",
       "      <th>8</th>\n",
       "      <td>1001</td>\n",
       "      <td>2018-11-01</td>\n",
       "      <td>18.019531</td>\n",
       "      <td>430.0</td>\n",
       "      <td>0.0</td>\n",
       "      <td>Москва</td>\n",
       "      <td>smart</td>\n",
       "    </tr>\n",
       "    <tr>\n",
       "      <th>9</th>\n",
       "      <td>1001</td>\n",
       "      <td>2018-12-01</td>\n",
       "      <td>13.723633</td>\n",
       "      <td>414.0</td>\n",
       "      <td>0.0</td>\n",
       "      <td>Москва</td>\n",
       "      <td>smart</td>\n",
       "    </tr>\n",
       "  </tbody>\n",
       "</table>\n",
       "</div>"
      ],
      "text/plain": [
       "   user_id      month    gb_used  duration   sms       city tariff\n",
       "0     1000 2018-05-01   2.203125     159.0  22.0  Краснодар  ultra\n",
       "1     1000 2018-06-01  22.711914     172.0  60.0  Краснодар  ultra\n",
       "2     1000 2018-07-01  13.687500     340.0  75.0  Краснодар  ultra\n",
       "3     1000 2018-08-01  13.740234     408.0  81.0  Краснодар  ultra\n",
       "4     1000 2018-09-01  14.239258     466.0  57.0  Краснодар  ultra\n",
       "5     1000 2018-10-01  14.372070     350.0  73.0  Краснодар  ultra\n",
       "6     1000 2018-11-01  14.421875     338.0  58.0  Краснодар  ultra\n",
       "7     1000 2018-12-01   9.596680     333.0  70.0  Краснодар  ultra\n",
       "8     1001 2018-11-01  18.019531     430.0   0.0     Москва  smart\n",
       "9     1001 2018-12-01  13.723633     414.0   0.0     Москва  smart"
      ]
     },
     "execution_count": 48,
     "metadata": {},
     "output_type": "execute_result"
    }
   ],
   "source": [
    "all_servises.head(10)"
   ]
  },
  {
   "cell_type": "markdown",
   "metadata": {},
   "source": [
    "Приведем все значения к формату integer:"
   ]
  },
  {
   "cell_type": "code",
   "execution_count": 49,
   "metadata": {},
   "outputs": [],
   "source": [
    "all_servises['duration'] = all_servises['duration'].astype('int64') #приведём к целочисленному типу\n",
    "all_servises['gb_used'] = all_servises['gb_used'].astype('int64') #оприведём к целочисленному типу\n",
    "all_servises['sms'] = all_servises['sms'].astype('int64') #приведём число сообщений к целочисленному типу"
   ]
  },
  {
   "cell_type": "markdown",
   "metadata": {},
   "source": [
    "Создадим и заполним новый столбец с фиксированной абонентской платой, используя оператор where:"
   ]
  },
  {
   "cell_type": "code",
   "execution_count": 50,
   "metadata": {},
   "outputs": [],
   "source": [
    "all_servises['monthly_payment'] = np.where(all_servises.tariff == 'ultra', 1950, 550)"
   ]
  },
  {
   "cell_type": "code",
   "execution_count": 51,
   "metadata": {},
   "outputs": [
    {
     "name": "stdout",
     "output_type": "stream",
     "text": [
      "<class 'pandas.core.frame.DataFrame'>\n",
      "RangeIndex: 3214 entries, 0 to 3213\n",
      "Data columns (total 8 columns):\n",
      " #   Column           Non-Null Count  Dtype         \n",
      "---  ------           --------------  -----         \n",
      " 0   user_id          3214 non-null   int64         \n",
      " 1   month            3214 non-null   datetime64[ns]\n",
      " 2   gb_used          3214 non-null   int64         \n",
      " 3   duration         3214 non-null   int64         \n",
      " 4   sms              3214 non-null   int64         \n",
      " 5   city             3214 non-null   object        \n",
      " 6   tariff           3214 non-null   object        \n",
      " 7   monthly_payment  3214 non-null   int32         \n",
      "dtypes: datetime64[ns](1), int32(1), int64(4), object(2)\n",
      "memory usage: 188.4+ KB\n"
     ]
    }
   ],
   "source": [
    "all_servises.info()"
   ]
  },
  {
   "cell_type": "markdown",
   "metadata": {},
   "source": [
    "Создадим функции для вычисления стоимости услуг сверх абонплаты:"
   ]
  },
  {
   "cell_type": "code",
   "execution_count": 52,
   "metadata": {},
   "outputs": [],
   "source": [
    "def gb(row):\n",
    "    if (row['tariff'] == 'ultra') & (row['gb_used']>30):\n",
    "        return (row['gb_used']-30)*150\n",
    "    elif (row['tariff'] == 'smart') & (row['gb_used']>15):\n",
    "        return (row['gb_used']-15)*200\n",
    "    else:\n",
    "        return 0\n",
    "\n",
    "all_servises['ex_payment_gb'] = all_servises.apply(gb, axis=1) #создаём столбец со значением экстратрафика Интернет"
   ]
  },
  {
   "cell_type": "code",
   "execution_count": 53,
   "metadata": {},
   "outputs": [],
   "source": [
    "def tel_min(row):\n",
    "    if (row['tariff'] == 'ultra') & (row['duration']>3000):\n",
    "        return row['duration']-3000\n",
    "    elif (row['tariff'] == 'smart') & (row['duration']>500):\n",
    "        return (row['duration']-500)*3\n",
    "    else:\n",
    "        return 0\n",
    "\n",
    "all_servises['ex_payment_minutes'] = all_servises.apply(tel_min, axis=1) #создаём столбец со значением телефонного экстратрафика"
   ]
  },
  {
   "cell_type": "code",
   "execution_count": 54,
   "metadata": {},
   "outputs": [],
   "source": [
    "def sms(row):\n",
    "    if (row['tariff'] == 'ultra') & (row['sms']>1000):\n",
    "        return row['sms']-1000\n",
    "    elif (row['tariff'] == 'smart') & (row['sms']>50):\n",
    "        return (row['sms']-50)*3\n",
    "    else:\n",
    "        return 0\n",
    "\n",
    "all_servises['ex_payment_sms'] = all_servises.apply(sms, axis=1) #создаём столбец со значением стоимости дополнительных смс"
   ]
  },
  {
   "cell_type": "code",
   "execution_count": 55,
   "metadata": {},
   "outputs": [],
   "source": [
    "all_servises['ex_payment_total'] = all_servises['ex_payment_gb'] + all_servises['ex_payment_minutes'] + all_servises['ex_payment_sms']"
   ]
  },
  {
   "cell_type": "code",
   "execution_count": 56,
   "metadata": {},
   "outputs": [],
   "source": [
    "all_servises['payment_total'] = all_servises['monthly_payment'] + all_servises['ex_payment_gb'] + all_servises['ex_payment_minutes'] + all_servises['ex_payment_sms'] "
   ]
  },
  {
   "cell_type": "code",
   "execution_count": 57,
   "metadata": {},
   "outputs": [
    {
     "data": {
      "text/html": [
       "<div>\n",
       "<style scoped>\n",
       "    .dataframe tbody tr th:only-of-type {\n",
       "        vertical-align: middle;\n",
       "    }\n",
       "\n",
       "    .dataframe tbody tr th {\n",
       "        vertical-align: top;\n",
       "    }\n",
       "\n",
       "    .dataframe thead th {\n",
       "        text-align: right;\n",
       "    }\n",
       "</style>\n",
       "<table border=\"1\" class=\"dataframe\">\n",
       "  <thead>\n",
       "    <tr style=\"text-align: right;\">\n",
       "      <th></th>\n",
       "      <th>user_id</th>\n",
       "      <th>month</th>\n",
       "      <th>gb_used</th>\n",
       "      <th>duration</th>\n",
       "      <th>sms</th>\n",
       "      <th>city</th>\n",
       "      <th>tariff</th>\n",
       "      <th>monthly_payment</th>\n",
       "      <th>ex_payment_gb</th>\n",
       "      <th>ex_payment_minutes</th>\n",
       "      <th>ex_payment_sms</th>\n",
       "      <th>ex_payment_total</th>\n",
       "      <th>payment_total</th>\n",
       "    </tr>\n",
       "  </thead>\n",
       "  <tbody>\n",
       "    <tr>\n",
       "      <th>1325</th>\n",
       "      <td>1207</td>\n",
       "      <td>2018-11-01</td>\n",
       "      <td>16</td>\n",
       "      <td>580</td>\n",
       "      <td>28</td>\n",
       "      <td>Балашиха</td>\n",
       "      <td>smart</td>\n",
       "      <td>550</td>\n",
       "      <td>200</td>\n",
       "      <td>240</td>\n",
       "      <td>0</td>\n",
       "      <td>440</td>\n",
       "      <td>990</td>\n",
       "    </tr>\n",
       "    <tr>\n",
       "      <th>1593</th>\n",
       "      <td>1251</td>\n",
       "      <td>2018-03-01</td>\n",
       "      <td>17</td>\n",
       "      <td>457</td>\n",
       "      <td>93</td>\n",
       "      <td>Пермь</td>\n",
       "      <td>smart</td>\n",
       "      <td>550</td>\n",
       "      <td>400</td>\n",
       "      <td>0</td>\n",
       "      <td>129</td>\n",
       "      <td>529</td>\n",
       "      <td>1079</td>\n",
       "    </tr>\n",
       "    <tr>\n",
       "      <th>1024</th>\n",
       "      <td>1161</td>\n",
       "      <td>2018-07-01</td>\n",
       "      <td>19</td>\n",
       "      <td>296</td>\n",
       "      <td>44</td>\n",
       "      <td>Набережные Челны</td>\n",
       "      <td>smart</td>\n",
       "      <td>550</td>\n",
       "      <td>800</td>\n",
       "      <td>0</td>\n",
       "      <td>0</td>\n",
       "      <td>800</td>\n",
       "      <td>1350</td>\n",
       "    </tr>\n",
       "    <tr>\n",
       "      <th>2783</th>\n",
       "      <td>1433</td>\n",
       "      <td>2018-03-01</td>\n",
       "      <td>12</td>\n",
       "      <td>627</td>\n",
       "      <td>86</td>\n",
       "      <td>Подольск</td>\n",
       "      <td>smart</td>\n",
       "      <td>550</td>\n",
       "      <td>0</td>\n",
       "      <td>381</td>\n",
       "      <td>108</td>\n",
       "      <td>489</td>\n",
       "      <td>1039</td>\n",
       "    </tr>\n",
       "    <tr>\n",
       "      <th>2951</th>\n",
       "      <td>1461</td>\n",
       "      <td>2018-11-01</td>\n",
       "      <td>9</td>\n",
       "      <td>246</td>\n",
       "      <td>24</td>\n",
       "      <td>Москва</td>\n",
       "      <td>ultra</td>\n",
       "      <td>1950</td>\n",
       "      <td>0</td>\n",
       "      <td>0</td>\n",
       "      <td>0</td>\n",
       "      <td>0</td>\n",
       "      <td>1950</td>\n",
       "    </tr>\n",
       "    <tr>\n",
       "      <th>779</th>\n",
       "      <td>1121</td>\n",
       "      <td>2018-06-01</td>\n",
       "      <td>15</td>\n",
       "      <td>584</td>\n",
       "      <td>50</td>\n",
       "      <td>Белгород</td>\n",
       "      <td>smart</td>\n",
       "      <td>550</td>\n",
       "      <td>0</td>\n",
       "      <td>252</td>\n",
       "      <td>0</td>\n",
       "      <td>252</td>\n",
       "      <td>802</td>\n",
       "    </tr>\n",
       "    <tr>\n",
       "      <th>478</th>\n",
       "      <td>1076</td>\n",
       "      <td>2018-07-01</td>\n",
       "      <td>26</td>\n",
       "      <td>529</td>\n",
       "      <td>108</td>\n",
       "      <td>Уфа</td>\n",
       "      <td>smart</td>\n",
       "      <td>550</td>\n",
       "      <td>2200</td>\n",
       "      <td>87</td>\n",
       "      <td>174</td>\n",
       "      <td>2461</td>\n",
       "      <td>3011</td>\n",
       "    </tr>\n",
       "    <tr>\n",
       "      <th>1115</th>\n",
       "      <td>1175</td>\n",
       "      <td>2018-08-01</td>\n",
       "      <td>14</td>\n",
       "      <td>279</td>\n",
       "      <td>0</td>\n",
       "      <td>Москва</td>\n",
       "      <td>smart</td>\n",
       "      <td>550</td>\n",
       "      <td>0</td>\n",
       "      <td>0</td>\n",
       "      <td>0</td>\n",
       "      <td>0</td>\n",
       "      <td>550</td>\n",
       "    </tr>\n",
       "    <tr>\n",
       "      <th>1969</th>\n",
       "      <td>1311</td>\n",
       "      <td>2018-12-01</td>\n",
       "      <td>15</td>\n",
       "      <td>300</td>\n",
       "      <td>76</td>\n",
       "      <td>Тверь</td>\n",
       "      <td>smart</td>\n",
       "      <td>550</td>\n",
       "      <td>0</td>\n",
       "      <td>0</td>\n",
       "      <td>78</td>\n",
       "      <td>78</td>\n",
       "      <td>628</td>\n",
       "    </tr>\n",
       "    <tr>\n",
       "      <th>1468</th>\n",
       "      <td>1229</td>\n",
       "      <td>2018-11-01</td>\n",
       "      <td>25</td>\n",
       "      <td>672</td>\n",
       "      <td>5</td>\n",
       "      <td>Москва</td>\n",
       "      <td>smart</td>\n",
       "      <td>550</td>\n",
       "      <td>2000</td>\n",
       "      <td>516</td>\n",
       "      <td>0</td>\n",
       "      <td>2516</td>\n",
       "      <td>3066</td>\n",
       "    </tr>\n",
       "  </tbody>\n",
       "</table>\n",
       "</div>"
      ],
      "text/plain": [
       "      user_id      month  gb_used  duration  sms              city tariff  \\\n",
       "1325     1207 2018-11-01       16       580   28          Балашиха  smart   \n",
       "1593     1251 2018-03-01       17       457   93             Пермь  smart   \n",
       "1024     1161 2018-07-01       19       296   44  Набережные Челны  smart   \n",
       "2783     1433 2018-03-01       12       627   86          Подольск  smart   \n",
       "2951     1461 2018-11-01        9       246   24            Москва  ultra   \n",
       "779      1121 2018-06-01       15       584   50          Белгород  smart   \n",
       "478      1076 2018-07-01       26       529  108               Уфа  smart   \n",
       "1115     1175 2018-08-01       14       279    0            Москва  smart   \n",
       "1969     1311 2018-12-01       15       300   76             Тверь  smart   \n",
       "1468     1229 2018-11-01       25       672    5            Москва  smart   \n",
       "\n",
       "      monthly_payment  ex_payment_gb  ex_payment_minutes  ex_payment_sms  \\\n",
       "1325              550            200                 240               0   \n",
       "1593              550            400                   0             129   \n",
       "1024              550            800                   0               0   \n",
       "2783              550              0                 381             108   \n",
       "2951             1950              0                   0               0   \n",
       "779               550              0                 252               0   \n",
       "478               550           2200                  87             174   \n",
       "1115              550              0                   0               0   \n",
       "1969              550              0                   0              78   \n",
       "1468              550           2000                 516               0   \n",
       "\n",
       "      ex_payment_total  payment_total  \n",
       "1325               440            990  \n",
       "1593               529           1079  \n",
       "1024               800           1350  \n",
       "2783               489           1039  \n",
       "2951                 0           1950  \n",
       "779                252            802  \n",
       "478               2461           3011  \n",
       "1115                 0            550  \n",
       "1969                78            628  \n",
       "1468              2516           3066  "
      ]
     },
     "execution_count": 57,
     "metadata": {},
     "output_type": "execute_result"
    }
   ],
   "source": [
    "all_servises.sample(10)"
   ]
  },
  {
   "cell_type": "code",
   "execution_count": 58,
   "metadata": {},
   "outputs": [
    {
     "data": {
      "text/plain": [
       "1180350"
      ]
     },
     "execution_count": 58,
     "metadata": {},
     "output_type": "execute_result"
    }
   ],
   "source": [
    "all_servises['ex_payment_gb'].sum() #сколько денег получено за год при превышении лимита в рамках абонплаты по услуге Интернет"
   ]
  },
  {
   "cell_type": "code",
   "execution_count": 59,
   "metadata": {},
   "outputs": [
    {
     "data": {
      "text/plain": [
       "1081200"
      ]
     },
     "execution_count": 59,
     "metadata": {},
     "output_type": "execute_result"
    }
   ],
   "source": [
    "all_servises.query('tariff == \"smart\"')['ex_payment_gb'].sum() #из них по smart:"
   ]
  },
  {
   "cell_type": "code",
   "execution_count": 60,
   "metadata": {},
   "outputs": [
    {
     "data": {
      "text/plain": [
       "99150"
      ]
     },
     "execution_count": 60,
     "metadata": {},
     "output_type": "execute_result"
    }
   ],
   "source": [
    "all_servises.query('tariff == \"ultra\"')['ex_payment_gb'].sum() #по ultra:"
   ]
  },
  {
   "cell_type": "code",
   "execution_count": 61,
   "metadata": {},
   "outputs": [
    {
     "data": {
      "text/plain": [
       "278217"
      ]
     },
     "execution_count": 61,
     "metadata": {},
     "output_type": "execute_result"
    }
   ],
   "source": [
    "all_servises['ex_payment_minutes'].sum()  #деньги за сверхлимита за телефонию,  все по smart:"
   ]
  },
  {
   "cell_type": "code",
   "execution_count": 62,
   "metadata": {},
   "outputs": [
    {
     "data": {
      "text/plain": [
       "38784"
      ]
     },
     "execution_count": 62,
     "metadata": {},
     "output_type": "execute_result"
    }
   ],
   "source": [
    "all_servises['ex_payment_sms'].sum()  #деньги за сверхлимита за смс,  все по smart:"
   ]
  },
  {
   "cell_type": "markdown",
   "metadata": {},
   "source": [
    "Наибольший объём выручки в 2018 году за услуги, предоставленные сверх абонплаты, был отмечен за услуги Интернет для тарифного плана smart. Следует отметить, что абоненты ultra практически не превышают установленные тарифным планом лимиты.  \n",
    "Далее отразим долю выручки по тарифным планам за весь анализируемый год: "
   ]
  },
  {
   "cell_type": "code",
   "execution_count": 63,
   "metadata": {},
   "outputs": [
    {
     "data": {
      "image/png": "[encoded data removed]",
      "text/plain": [
       "<Figure size 576x576 with 1 Axes>"
      ]
     },
     "metadata": {},
     "output_type": "display_data"
    }
   ],
   "source": [
    "(all_servises.groupby('tariff')['payment_total'].agg('sum').sort_values(ascending=True)\n",
    " .plot(kind='pie', labels=None, label='', autopct='%1.0f%%', \n",
    "       legend=True, figsize=(8, 8), title='Распределение общей выручки по тарифам за 2018 год, %'))\n",
    "plt.show()"
   ]
  },
  {
   "cell_type": "code",
   "execution_count": 64,
   "metadata": {},
   "outputs": [
    {
     "data": {
      "image/png": "[encoded data removed]",
      "text/plain": [
       "<Figure size 576x576 with 1 Axes>"
      ]
     },
     "metadata": {},
     "output_type": "display_data"
    }
   ],
   "source": [
    "(all_servises.groupby('tariff')['monthly_payment'].agg('sum').sort_values(ascending=True)\n",
    " .plot(kind='pie', labels=None, label='', autopct='%1.0f%%', \n",
    "       legend=True, figsize=(8, 8), title='Распределение выручки по тарифам только по абонплате за 2018 год, %'))\n",
    "plt.show()"
   ]
  },
  {
   "cell_type": "markdown",
   "metadata": {},
   "source": [
    "### Вывод\n",
    "\n",
    "- Данные для анализа состоят из 5 таблиц со срезами данных для пятисот абонентов и описанием количества телефонного  и интернет-трафика, а также данных о количестве сообщений. Все таблицы содержат даты.\n",
    "\n",
    "- В таблице calls обнаружено значительное количество нулей в столбце телефонного трафика. Предполагается, что это звонки без установления соединения. Также указанные значения указаны в формате float-  вещественных чисел с плавающей запятой. При этом в компании принято, что  любой трафик (телефонный и интернет-трафик) округляется  вверх до целого значения. Вероятно, речь идёт об особенностях биллинговой системы. Поэтому  значения были округлены до минут вверх, как было предусмотрено в условии\n",
    "- В процессе предобработки составлены таблицы, где помесячно для каждого абонента посчитан весь объём потребляемых услуг.\n",
    "\n",
    "- Осуществлёна смена типа данных для дат с object в datetype во всех таблицах.\n",
    "\n",
    "- Созданы функции для расчёта выручки по трафикам, использованым сверхлимита.\n",
    "\n",
    "- Основная часть выручки по абонентской плате приходится на тарифный план Ultra, что является логичным: абонентска плата за использование этого тарифа превышает абонентскую плату за Smart в 3,5 раза. Достаточно ёмкий пакет Ultra также позволяет своим пользователям довольно редко выходить за рамки лимитов, поэтому в Smart оплата за превышающий лимит трафик больше. \n"
   ]
  },
  {
   "cell_type": "markdown",
   "metadata": {},
   "source": [
    "# Шаг 3. Анализ данных <a name=\"шаг-3\"></a>"
   ]
  },
  {
   "cell_type": "markdown",
   "metadata": {},
   "source": [
    "## 3.1. Описание поведения абонентов <a name=\"шаг-3-1\"></a> "
   ]
  },
  {
   "cell_type": "markdown",
   "metadata": {},
   "source": [
    "Разделим данные по тарифам"
   ]
  },
  {
   "cell_type": "code",
   "execution_count": 65,
   "metadata": {},
   "outputs": [],
   "source": [
    "all_servises_smart = all_servises.query('tariff == \"smart\"').reset_index()"
   ]
  },
  {
   "cell_type": "code",
   "execution_count": 66,
   "metadata": {},
   "outputs": [],
   "source": [
    "all_servises_ultra =  all_servises.query('tariff == \"ultra\"').reset_index()"
   ]
  },
  {
   "cell_type": "code",
   "execution_count": 67,
   "metadata": {},
   "outputs": [
    {
     "data": {
      "text/html": [
       "<div>\n",
       "<style scoped>\n",
       "    .dataframe tbody tr th:only-of-type {\n",
       "        vertical-align: middle;\n",
       "    }\n",
       "\n",
       "    .dataframe tbody tr th {\n",
       "        vertical-align: top;\n",
       "    }\n",
       "\n",
       "    .dataframe thead th {\n",
       "        text-align: right;\n",
       "    }\n",
       "</style>\n",
       "<table border=\"1\" class=\"dataframe\">\n",
       "  <thead>\n",
       "    <tr style=\"text-align: right;\">\n",
       "      <th></th>\n",
       "      <th>index</th>\n",
       "      <th>user_id</th>\n",
       "      <th>month</th>\n",
       "      <th>gb_used</th>\n",
       "      <th>duration</th>\n",
       "      <th>sms</th>\n",
       "      <th>city</th>\n",
       "      <th>tariff</th>\n",
       "      <th>monthly_payment</th>\n",
       "      <th>ex_payment_gb</th>\n",
       "      <th>ex_payment_minutes</th>\n",
       "      <th>ex_payment_sms</th>\n",
       "      <th>ex_payment_total</th>\n",
       "      <th>payment_total</th>\n",
       "    </tr>\n",
       "  </thead>\n",
       "  <tbody>\n",
       "    <tr>\n",
       "      <th>0</th>\n",
       "      <td>8</td>\n",
       "      <td>1001</td>\n",
       "      <td>2018-11-01</td>\n",
       "      <td>18</td>\n",
       "      <td>430</td>\n",
       "      <td>0</td>\n",
       "      <td>Москва</td>\n",
       "      <td>smart</td>\n",
       "      <td>550</td>\n",
       "      <td>600</td>\n",
       "      <td>0</td>\n",
       "      <td>0</td>\n",
       "      <td>600</td>\n",
       "      <td>1150</td>\n",
       "    </tr>\n",
       "    <tr>\n",
       "      <th>1</th>\n",
       "      <td>9</td>\n",
       "      <td>1001</td>\n",
       "      <td>2018-12-01</td>\n",
       "      <td>13</td>\n",
       "      <td>414</td>\n",
       "      <td>0</td>\n",
       "      <td>Москва</td>\n",
       "      <td>smart</td>\n",
       "      <td>550</td>\n",
       "      <td>0</td>\n",
       "      <td>0</td>\n",
       "      <td>0</td>\n",
       "      <td>0</td>\n",
       "      <td>550</td>\n",
       "    </tr>\n",
       "    <tr>\n",
       "      <th>2</th>\n",
       "      <td>10</td>\n",
       "      <td>1002</td>\n",
       "      <td>2018-06-01</td>\n",
       "      <td>10</td>\n",
       "      <td>117</td>\n",
       "      <td>4</td>\n",
       "      <td>Стерлитамак</td>\n",
       "      <td>smart</td>\n",
       "      <td>550</td>\n",
       "      <td>0</td>\n",
       "      <td>0</td>\n",
       "      <td>0</td>\n",
       "      <td>0</td>\n",
       "      <td>550</td>\n",
       "    </tr>\n",
       "    <tr>\n",
       "      <th>3</th>\n",
       "      <td>11</td>\n",
       "      <td>1002</td>\n",
       "      <td>2018-07-01</td>\n",
       "      <td>17</td>\n",
       "      <td>214</td>\n",
       "      <td>11</td>\n",
       "      <td>Стерлитамак</td>\n",
       "      <td>smart</td>\n",
       "      <td>550</td>\n",
       "      <td>400</td>\n",
       "      <td>0</td>\n",
       "      <td>0</td>\n",
       "      <td>400</td>\n",
       "      <td>950</td>\n",
       "    </tr>\n",
       "    <tr>\n",
       "      <th>4</th>\n",
       "      <td>12</td>\n",
       "      <td>1002</td>\n",
       "      <td>2018-08-01</td>\n",
       "      <td>19</td>\n",
       "      <td>289</td>\n",
       "      <td>13</td>\n",
       "      <td>Стерлитамак</td>\n",
       "      <td>smart</td>\n",
       "      <td>550</td>\n",
       "      <td>800</td>\n",
       "      <td>0</td>\n",
       "      <td>0</td>\n",
       "      <td>800</td>\n",
       "      <td>1350</td>\n",
       "    </tr>\n",
       "    <tr>\n",
       "      <th>...</th>\n",
       "      <td>...</td>\n",
       "      <td>...</td>\n",
       "      <td>...</td>\n",
       "      <td>...</td>\n",
       "      <td>...</td>\n",
       "      <td>...</td>\n",
       "      <td>...</td>\n",
       "      <td>...</td>\n",
       "      <td>...</td>\n",
       "      <td>...</td>\n",
       "      <td>...</td>\n",
       "      <td>...</td>\n",
       "      <td>...</td>\n",
       "      <td>...</td>\n",
       "    </tr>\n",
       "    <tr>\n",
       "      <th>2224</th>\n",
       "      <td>3199</td>\n",
       "      <td>1499</td>\n",
       "      <td>2018-09-01</td>\n",
       "      <td>1</td>\n",
       "      <td>70</td>\n",
       "      <td>11</td>\n",
       "      <td>Пермь</td>\n",
       "      <td>smart</td>\n",
       "      <td>550</td>\n",
       "      <td>0</td>\n",
       "      <td>0</td>\n",
       "      <td>0</td>\n",
       "      <td>0</td>\n",
       "      <td>550</td>\n",
       "    </tr>\n",
       "    <tr>\n",
       "      <th>2225</th>\n",
       "      <td>3200</td>\n",
       "      <td>1499</td>\n",
       "      <td>2018-10-01</td>\n",
       "      <td>17</td>\n",
       "      <td>449</td>\n",
       "      <td>48</td>\n",
       "      <td>Пермь</td>\n",
       "      <td>smart</td>\n",
       "      <td>550</td>\n",
       "      <td>400</td>\n",
       "      <td>0</td>\n",
       "      <td>0</td>\n",
       "      <td>400</td>\n",
       "      <td>950</td>\n",
       "    </tr>\n",
       "    <tr>\n",
       "      <th>2226</th>\n",
       "      <td>3201</td>\n",
       "      <td>1499</td>\n",
       "      <td>2018-11-01</td>\n",
       "      <td>17</td>\n",
       "      <td>612</td>\n",
       "      <td>59</td>\n",
       "      <td>Пермь</td>\n",
       "      <td>smart</td>\n",
       "      <td>550</td>\n",
       "      <td>400</td>\n",
       "      <td>336</td>\n",
       "      <td>27</td>\n",
       "      <td>763</td>\n",
       "      <td>1313</td>\n",
       "    </tr>\n",
       "    <tr>\n",
       "      <th>2227</th>\n",
       "      <td>3202</td>\n",
       "      <td>1499</td>\n",
       "      <td>2018-12-01</td>\n",
       "      <td>12</td>\n",
       "      <td>492</td>\n",
       "      <td>66</td>\n",
       "      <td>Пермь</td>\n",
       "      <td>smart</td>\n",
       "      <td>550</td>\n",
       "      <td>0</td>\n",
       "      <td>0</td>\n",
       "      <td>48</td>\n",
       "      <td>48</td>\n",
       "      <td>598</td>\n",
       "    </tr>\n",
       "    <tr>\n",
       "      <th>2228</th>\n",
       "      <td>3213</td>\n",
       "      <td>1446</td>\n",
       "      <td>2018-08-01</td>\n",
       "      <td>0</td>\n",
       "      <td>50</td>\n",
       "      <td>1</td>\n",
       "      <td>Липецк</td>\n",
       "      <td>smart</td>\n",
       "      <td>550</td>\n",
       "      <td>0</td>\n",
       "      <td>0</td>\n",
       "      <td>0</td>\n",
       "      <td>0</td>\n",
       "      <td>550</td>\n",
       "    </tr>\n",
       "  </tbody>\n",
       "</table>\n",
       "<p>2229 rows × 14 columns</p>\n",
       "</div>"
      ],
      "text/plain": [
       "      index  user_id      month  gb_used  duration  sms         city tariff  \\\n",
       "0         8     1001 2018-11-01       18       430    0       Москва  smart   \n",
       "1         9     1001 2018-12-01       13       414    0       Москва  smart   \n",
       "2        10     1002 2018-06-01       10       117    4  Стерлитамак  smart   \n",
       "3        11     1002 2018-07-01       17       214   11  Стерлитамак  smart   \n",
       "4        12     1002 2018-08-01       19       289   13  Стерлитамак  smart   \n",
       "...     ...      ...        ...      ...       ...  ...          ...    ...   \n",
       "2224   3199     1499 2018-09-01        1        70   11        Пермь  smart   \n",
       "2225   3200     1499 2018-10-01       17       449   48        Пермь  smart   \n",
       "2226   3201     1499 2018-11-01       17       612   59        Пермь  smart   \n",
       "2227   3202     1499 2018-12-01       12       492   66        Пермь  smart   \n",
       "2228   3213     1446 2018-08-01        0        50    1       Липецк  smart   \n",
       "\n",
       "      monthly_payment  ex_payment_gb  ex_payment_minutes  ex_payment_sms  \\\n",
       "0                 550            600                   0               0   \n",
       "1                 550              0                   0               0   \n",
       "2                 550              0                   0               0   \n",
       "3                 550            400                   0               0   \n",
       "4                 550            800                   0               0   \n",
       "...               ...            ...                 ...             ...   \n",
       "2224              550              0                   0               0   \n",
       "2225              550            400                   0               0   \n",
       "2226              550            400                 336              27   \n",
       "2227              550              0                   0              48   \n",
       "2228              550              0                   0               0   \n",
       "\n",
       "      ex_payment_total  payment_total  \n",
       "0                  600           1150  \n",
       "1                    0            550  \n",
       "2                    0            550  \n",
       "3                  400            950  \n",
       "4                  800           1350  \n",
       "...                ...            ...  \n",
       "2224                 0            550  \n",
       "2225               400            950  \n",
       "2226               763           1313  \n",
       "2227                48            598  \n",
       "2228                 0            550  \n",
       "\n",
       "[2229 rows x 14 columns]"
      ]
     },
     "execution_count": 67,
     "metadata": {},
     "output_type": "execute_result"
    }
   ],
   "source": [
    "all_servises_smart"
   ]
  },
  {
   "cell_type": "markdown",
   "metadata": {},
   "source": [
    "### 3.1.1. Тариф Smart <a name=\"шаг-3-1-1\"></a> "
   ]
  },
  {
   "cell_type": "code",
   "execution_count": 68,
   "metadata": {},
   "outputs": [
    {
     "data": {
      "text/html": [
       "<style  type=\"text/css\" >\n",
       "</style><table id=\"T_a1e8251e_8199_11eb_b670_2025647917cb\" ><thead>    <tr>        <th class=\"blank level0\" ></th>        <th class=\"col_heading level0 col0\" >gb_used</th>        <th class=\"col_heading level0 col1\" >duration</th>        <th class=\"col_heading level0 col2\" >sms</th>        <th class=\"col_heading level0 col3\" >monthly_payment</th>        <th class=\"col_heading level0 col4\" >ex_payment_total</th>        <th class=\"col_heading level0 col5\" >payment_total</th>    </tr></thead><tbody>\n",
       "                <tr>\n",
       "                        <th id=\"T_a1e8251e_8199_11eb_b670_2025647917cblevel0_row0\" class=\"row_heading level0 row0\" >min</th>\n",
       "                        <td id=\"T_a1e8251e_8199_11eb_b670_2025647917cbrow0_col0\" class=\"data row0 col0\" >0.0</td>\n",
       "                        <td id=\"T_a1e8251e_8199_11eb_b670_2025647917cbrow0_col1\" class=\"data row0 col1\" >0.0</td>\n",
       "                        <td id=\"T_a1e8251e_8199_11eb_b670_2025647917cbrow0_col2\" class=\"data row0 col2\" >0.0</td>\n",
       "                        <td id=\"T_a1e8251e_8199_11eb_b670_2025647917cbrow0_col3\" class=\"data row0 col3\" >550.0</td>\n",
       "                        <td id=\"T_a1e8251e_8199_11eb_b670_2025647917cbrow0_col4\" class=\"data row0 col4\" >0.0</td>\n",
       "                        <td id=\"T_a1e8251e_8199_11eb_b670_2025647917cbrow0_col5\" class=\"data row0 col5\" >550.0</td>\n",
       "            </tr>\n",
       "            <tr>\n",
       "                        <th id=\"T_a1e8251e_8199_11eb_b670_2025647917cblevel0_row1\" class=\"row_heading level0 row1\" >max</th>\n",
       "                        <td id=\"T_a1e8251e_8199_11eb_b670_2025647917cbrow1_col0\" class=\"data row1 col0\" >37.0</td>\n",
       "                        <td id=\"T_a1e8251e_8199_11eb_b670_2025647917cbrow1_col1\" class=\"data row1 col1\" >1435.0</td>\n",
       "                        <td id=\"T_a1e8251e_8199_11eb_b670_2025647917cbrow1_col2\" class=\"data row1 col2\" >143.0</td>\n",
       "                        <td id=\"T_a1e8251e_8199_11eb_b670_2025647917cbrow1_col3\" class=\"data row1 col3\" >550.0</td>\n",
       "                        <td id=\"T_a1e8251e_8199_11eb_b670_2025647917cbrow1_col4\" class=\"data row1 col4\" >6020.0</td>\n",
       "                        <td id=\"T_a1e8251e_8199_11eb_b670_2025647917cbrow1_col5\" class=\"data row1 col5\" >6570.0</td>\n",
       "            </tr>\n",
       "            <tr>\n",
       "                        <th id=\"T_a1e8251e_8199_11eb_b670_2025647917cblevel0_row2\" class=\"row_heading level0 row2\" >median</th>\n",
       "                        <td id=\"T_a1e8251e_8199_11eb_b670_2025647917cbrow2_col0\" class=\"data row2 col0\" >16.0</td>\n",
       "                        <td id=\"T_a1e8251e_8199_11eb_b670_2025647917cbrow2_col1\" class=\"data row2 col1\" >422.0</td>\n",
       "                        <td id=\"T_a1e8251e_8199_11eb_b670_2025647917cbrow2_col2\" class=\"data row2 col2\" >28.0</td>\n",
       "                        <td id=\"T_a1e8251e_8199_11eb_b670_2025647917cbrow2_col3\" class=\"data row2 col3\" >550.0</td>\n",
       "                        <td id=\"T_a1e8251e_8199_11eb_b670_2025647917cbrow2_col4\" class=\"data row2 col4\" >369.0</td>\n",
       "                        <td id=\"T_a1e8251e_8199_11eb_b670_2025647917cbrow2_col5\" class=\"data row2 col5\" >919.0</td>\n",
       "            </tr>\n",
       "            <tr>\n",
       "                        <th id=\"T_a1e8251e_8199_11eb_b670_2025647917cblevel0_row3\" class=\"row_heading level0 row3\" >mean</th>\n",
       "                        <td id=\"T_a1e8251e_8199_11eb_b670_2025647917cbrow3_col0\" class=\"data row3 col0\" >15.4</td>\n",
       "                        <td id=\"T_a1e8251e_8199_11eb_b670_2025647917cbrow3_col1\" class=\"data row3 col1\" >417.9</td>\n",
       "                        <td id=\"T_a1e8251e_8199_11eb_b670_2025647917cbrow3_col2\" class=\"data row3 col2\" >33.4</td>\n",
       "                        <td id=\"T_a1e8251e_8199_11eb_b670_2025647917cbrow3_col3\" class=\"data row3 col3\" >550.0</td>\n",
       "                        <td id=\"T_a1e8251e_8199_11eb_b670_2025647917cbrow3_col4\" class=\"data row3 col4\" >627.3</td>\n",
       "                        <td id=\"T_a1e8251e_8199_11eb_b670_2025647917cbrow3_col5\" class=\"data row3 col5\" >1177.3</td>\n",
       "            </tr>\n",
       "            <tr>\n",
       "                        <th id=\"T_a1e8251e_8199_11eb_b670_2025647917cblevel0_row4\" class=\"row_heading level0 row4\" >var</th>\n",
       "                        <td id=\"T_a1e8251e_8199_11eb_b670_2025647917cbrow4_col0\" class=\"data row4 col0\" >33.1</td>\n",
       "                        <td id=\"T_a1e8251e_8199_11eb_b670_2025647917cbrow4_col1\" class=\"data row4 col1\" >36219.3</td>\n",
       "                        <td id=\"T_a1e8251e_8199_11eb_b670_2025647917cbrow4_col2\" class=\"data row4 col2\" >796.8</td>\n",
       "                        <td id=\"T_a1e8251e_8199_11eb_b670_2025647917cbrow4_col3\" class=\"data row4 col3\" >0.0</td>\n",
       "                        <td id=\"T_a1e8251e_8199_11eb_b670_2025647917cbrow4_col4\" class=\"data row4 col4\" >578117.4</td>\n",
       "                        <td id=\"T_a1e8251e_8199_11eb_b670_2025647917cbrow4_col5\" class=\"data row4 col5\" >578117.4</td>\n",
       "            </tr>\n",
       "            <tr>\n",
       "                        <th id=\"T_a1e8251e_8199_11eb_b670_2025647917cblevel0_row5\" class=\"row_heading level0 row5\" >std</th>\n",
       "                        <td id=\"T_a1e8251e_8199_11eb_b670_2025647917cbrow5_col0\" class=\"data row5 col0\" >5.8</td>\n",
       "                        <td id=\"T_a1e8251e_8199_11eb_b670_2025647917cbrow5_col1\" class=\"data row5 col1\" >190.3</td>\n",
       "                        <td id=\"T_a1e8251e_8199_11eb_b670_2025647917cbrow5_col2\" class=\"data row5 col2\" >28.2</td>\n",
       "                        <td id=\"T_a1e8251e_8199_11eb_b670_2025647917cbrow5_col3\" class=\"data row5 col3\" >0.0</td>\n",
       "                        <td id=\"T_a1e8251e_8199_11eb_b670_2025647917cbrow5_col4\" class=\"data row5 col4\" >760.3</td>\n",
       "                        <td id=\"T_a1e8251e_8199_11eb_b670_2025647917cbrow5_col5\" class=\"data row5 col5\" >760.3</td>\n",
       "            </tr>\n",
       "    </tbody></table>"
      ],
      "text/plain": [
       "<pandas.io.formats.style.Styler at 0xf0715d1c0>"
      ]
     },
     "execution_count": 68,
     "metadata": {},
     "output_type": "execute_result"
    }
   ],
   "source": [
    "all_servises_smart[['gb_used', 'duration', 'sms', 'monthly_payment', 'ex_payment_total', 'payment_total']].agg(['min', 'max', 'median','mean','var','std']).style.format(\"{:.1f}\")"
   ]
  },
  {
   "cell_type": "code",
   "execution_count": 69,
   "metadata": {},
   "outputs": [
    {
     "data": {
      "text/html": [
       "<div>\n",
       "<style scoped>\n",
       "    .dataframe tbody tr th:only-of-type {\n",
       "        vertical-align: middle;\n",
       "    }\n",
       "\n",
       "    .dataframe tbody tr th {\n",
       "        vertical-align: top;\n",
       "    }\n",
       "\n",
       "    .dataframe thead th {\n",
       "        text-align: right;\n",
       "    }\n",
       "</style>\n",
       "<table border=\"1\" class=\"dataframe\">\n",
       "  <thead>\n",
       "    <tr style=\"text-align: right;\">\n",
       "      <th></th>\n",
       "      <th>gb_used</th>\n",
       "      <th>duration</th>\n",
       "      <th>sms</th>\n",
       "      <th>ex_payment_total</th>\n",
       "    </tr>\n",
       "  </thead>\n",
       "  <tbody>\n",
       "    <tr>\n",
       "      <th>gb_used</th>\n",
       "      <td>1.000000</td>\n",
       "      <td>0.338892</td>\n",
       "      <td>0.145385</td>\n",
       "      <td>0.815982</td>\n",
       "    </tr>\n",
       "    <tr>\n",
       "      <th>duration</th>\n",
       "      <td>0.338892</td>\n",
       "      <td>1.000000</td>\n",
       "      <td>0.203091</td>\n",
       "      <td>0.419351</td>\n",
       "    </tr>\n",
       "    <tr>\n",
       "      <th>sms</th>\n",
       "      <td>0.145385</td>\n",
       "      <td>0.203091</td>\n",
       "      <td>1.000000</td>\n",
       "      <td>0.128559</td>\n",
       "    </tr>\n",
       "    <tr>\n",
       "      <th>ex_payment_total</th>\n",
       "      <td>0.815982</td>\n",
       "      <td>0.419351</td>\n",
       "      <td>0.128559</td>\n",
       "      <td>1.000000</td>\n",
       "    </tr>\n",
       "  </tbody>\n",
       "</table>\n",
       "</div>"
      ],
      "text/plain": [
       "                   gb_used  duration       sms  ex_payment_total\n",
       "gb_used           1.000000  0.338892  0.145385          0.815982\n",
       "duration          0.338892  1.000000  0.203091          0.419351\n",
       "sms               0.145385  0.203091  1.000000          0.128559\n",
       "ex_payment_total  0.815982  0.419351  0.128559          1.000000"
      ]
     },
     "execution_count": 69,
     "metadata": {},
     "output_type": "execute_result"
    }
   ],
   "source": [
    "all_servises_smart[['gb_used', 'duration', 'sms',  'ex_payment_total']].corr()"
   ]
  },
  {
   "cell_type": "markdown",
   "metadata": {},
   "source": [
    "Для абонентов тарифного плана Смарт зависимость между видами услуг отсутствует  - незначительные коэффициенты корреляции. Это означает, что если абонент осуществляет, например, большое количество звонков, то это никак не отражается на объёме потребляемого им трафика интернет или на количестве отправленных СМС. \n",
    "Прямо пропорциональная  взаимосвязь отражается лишь для показателей интернет-трафика и оплаты сверх лимита. "
   ]
  },
  {
   "cell_type": "markdown",
   "metadata": {},
   "source": [
    "**Тариф Smart- Интернет**"
   ]
  },
  {
   "cell_type": "code",
   "execution_count": 70,
   "metadata": {},
   "outputs": [
    {
     "data": {
      "image/png": "[encoded data removed]",
      "text/plain": [
       "<Figure size 1080x576 with 1 Axes>"
      ]
     },
     "metadata": {
      "needs_background": "light"
     },
     "output_type": "display_data"
    }
   ],
   "source": [
    "all_servises_smart['gb_used'].plot(kind='hist', bins=35, figsize=(15,8), )\n",
    "plt.axvline(x=all_servises_smart['gb_used'].median(),linewidth=3, color='red', linestyle='-')\n",
    "plt.axvline(x=all_servises_smart['gb_used'].mean(),linewidth=3, color='black', linestyle='-')\n",
    "plt.legend(['Медиана','Среднее'])\n",
    "plt.title('Частота использования гигабайт в месяц по тарифу Smart в разбивке по абонентам');"
   ]
  },
  {
   "cell_type": "markdown",
   "metadata": {},
   "source": [
    "Диаграмма выше отражает нормальное распределение данных по использованию Гигабайт. Данные несколько скошены влево, т.к. медиана больше среднего.\n",
    "Пользователи услуги интернет тарифного плана Смарт в большинстве случаев используют сверхлимитный трафик. Ориентируясь на величину медианы можно сказать, что основная группа пользователей оплачивает сверхнормативный трафик в размере, равном абонентской плате. \n",
    "На графике отчётливо видны выбросы. Используем правило Трёх Сигм чтобы выявить и удалить выбросы для дальнейшего анализа:"
   ]
  },
  {
   "cell_type": "code",
   "execution_count": 71,
   "metadata": {
    "scrolled": true
   },
   "outputs": [
    {
     "data": {
      "text/plain": [
       "32.63231780508222"
      ]
     },
     "execution_count": 71,
     "metadata": {},
     "output_type": "execute_result"
    }
   ],
   "source": [
    "all_servises_smart['gb_used'].mean()+3*all_servises_smart['gb_used'].std()"
   ]
  },
  {
   "cell_type": "markdown",
   "metadata": {},
   "source": [
    "Таким образом, для дальнейшего анализа значения по ежемесячному трафику выше 32,7 Гб/месяц не имеют смысла и будут удалены из анализа.\n"
   ]
  },
  {
   "cell_type": "markdown",
   "metadata": {},
   "source": [
    "**Тариф Smart- Телефония**"
   ]
  },
  {
   "cell_type": "code",
   "execution_count": 72,
   "metadata": {},
   "outputs": [
    {
     "data": {
      "image/png": "[encoded data removed]",
      "text/plain": [
       "<Figure size 1080x576 with 1 Axes>"
      ]
     },
     "metadata": {
      "needs_background": "light"
     },
     "output_type": "display_data"
    }
   ],
   "source": [
    "all_servises_smart['duration'].plot(kind='hist', bins=35, figsize=(15,8))\n",
    "plt.axvline(x=all_servises_smart['duration'].median(),linewidth=3, color='red', linestyle='-')\n",
    "plt.axvline(x=all_servises_smart['duration'].mean(),linewidth=3, color='black', linestyle='-')\n",
    "plt.legend(['Медиана','Среднее'])\n",
    "plt.title('Частота использования минут в месяц по тарифу Smart в разбивке по абонентам');"
   ]
  },
  {
   "cell_type": "markdown",
   "metadata": {},
   "source": [
    "Для телефонии медианное и среднее значения  практически совпадают. Это говорит о небольшом количестве выбросов. Основная масса абонентов Смарт старается не превышать отведённый им лимит минут для звонков.  \n",
    "Распределение нормальное. Используем правило Трёх Сигм чтобы выявить и удалить выбросы для дальнейшего анализа:"
   ]
  },
  {
   "cell_type": "code",
   "execution_count": 73,
   "metadata": {
    "scrolled": true
   },
   "outputs": [
    {
     "data": {
      "text/plain": [
       "988.8761380749961"
      ]
     },
     "execution_count": 73,
     "metadata": {},
     "output_type": "execute_result"
    }
   ],
   "source": [
    "all_servises_smart['duration'].mean()+3*all_servises_smart['duration'].std()"
   ]
  },
  {
   "cell_type": "markdown",
   "metadata": {},
   "source": [
    "Количество минут свыше 988,88  в месяц для анализа не имеет смысла и может быть удалено.\n"
   ]
  },
  {
   "cell_type": "markdown",
   "metadata": {},
   "source": [
    "**Тариф Smart- Сообщения**"
   ]
  },
  {
   "cell_type": "code",
   "execution_count": 74,
   "metadata": {},
   "outputs": [
    {
     "data": {
      "image/png": "[encoded data removed]",
      "text/plain": [
       "<Figure size 1080x576 with 1 Axes>"
      ]
     },
     "metadata": {
      "needs_background": "light"
     },
     "output_type": "display_data"
    }
   ],
   "source": [
    "all_servises_smart['sms'].plot(kind='hist', bins=35, figsize=(15,8))\n",
    "plt.axvline(x=all_servises_smart['sms'].median(),linewidth=3, color='red', linestyle='-')\n",
    "plt.axvline(x=all_servises_smart['sms'].mean(),linewidth=3, color='black', linestyle='-')\n",
    "plt.legend(['Медиана','Среднее'])\n",
    "plt.title('Частота использования сообщений в месяц по тарифу Smart в разбивке по абонентам');"
   ]
  },
  {
   "cell_type": "markdown",
   "metadata": {},
   "source": [
    "Среднее и медиана по частоте использования смс говорит о редком превышении лимита в 50 сообщений (среднее - 33.4, медиана - 28.0).\n",
    "Данные  скошены вправо, т.к. медиана меньше среднего.\n",
    "С условием нормального распределения используем правило Трёх Сигм чтобы выявить и удалить выбросы для дальнейшего анализа:"
   ]
  },
  {
   "cell_type": "code",
   "execution_count": 75,
   "metadata": {
    "scrolled": true
   },
   "outputs": [
    {
     "data": {
      "text/plain": [
       "118.06765538271134"
      ]
     },
     "execution_count": 75,
     "metadata": {},
     "output_type": "execute_result"
    }
   ],
   "source": [
    "all_servises_smart['sms'].mean()+3*all_servises_smart['sms'].std()"
   ]
  },
  {
   "cell_type": "markdown",
   "metadata": {},
   "source": [
    "Количество смс свыше 118,1  в месяц для анализа не имеет смысла и может быть удалено.\n"
   ]
  },
  {
   "cell_type": "markdown",
   "metadata": {},
   "source": [
    "### 3.1.2. Тариф Ultra <a name=\"шаг-3-1-2\"></a> "
   ]
  },
  {
   "cell_type": "code",
   "execution_count": 76,
   "metadata": {},
   "outputs": [
    {
     "data": {
      "text/html": [
       "<style  type=\"text/css\" >\n",
       "</style><table id=\"T_a322a436_8199_11eb_8b2c_2025647917cb\" ><thead>    <tr>        <th class=\"blank level0\" ></th>        <th class=\"col_heading level0 col0\" >gb_used</th>        <th class=\"col_heading level0 col1\" >duration</th>        <th class=\"col_heading level0 col2\" >sms</th>        <th class=\"col_heading level0 col3\" >monthly_payment</th>        <th class=\"col_heading level0 col4\" >ex_payment_total</th>        <th class=\"col_heading level0 col5\" >payment_total</th>    </tr></thead><tbody>\n",
       "                <tr>\n",
       "                        <th id=\"T_a322a436_8199_11eb_8b2c_2025647917cblevel0_row0\" class=\"row_heading level0 row0\" >min</th>\n",
       "                        <td id=\"T_a322a436_8199_11eb_8b2c_2025647917cbrow0_col0\" class=\"data row0 col0\" >0.0</td>\n",
       "                        <td id=\"T_a322a436_8199_11eb_8b2c_2025647917cbrow0_col1\" class=\"data row0 col1\" >0.0</td>\n",
       "                        <td id=\"T_a322a436_8199_11eb_8b2c_2025647917cbrow0_col2\" class=\"data row0 col2\" >0.0</td>\n",
       "                        <td id=\"T_a322a436_8199_11eb_8b2c_2025647917cbrow0_col3\" class=\"data row0 col3\" >1950.0</td>\n",
       "                        <td id=\"T_a322a436_8199_11eb_8b2c_2025647917cbrow0_col4\" class=\"data row0 col4\" >0.0</td>\n",
       "                        <td id=\"T_a322a436_8199_11eb_8b2c_2025647917cbrow0_col5\" class=\"data row0 col5\" >1950.0</td>\n",
       "            </tr>\n",
       "            <tr>\n",
       "                        <th id=\"T_a322a436_8199_11eb_8b2c_2025647917cblevel0_row1\" class=\"row_heading level0 row1\" >max</th>\n",
       "                        <td id=\"T_a322a436_8199_11eb_8b2c_2025647917cbrow1_col0\" class=\"data row1 col0\" >48.0</td>\n",
       "                        <td id=\"T_a322a436_8199_11eb_8b2c_2025647917cbrow1_col1\" class=\"data row1 col1\" >1673.0</td>\n",
       "                        <td id=\"T_a322a436_8199_11eb_8b2c_2025647917cbrow1_col2\" class=\"data row1 col2\" >224.0</td>\n",
       "                        <td id=\"T_a322a436_8199_11eb_8b2c_2025647917cbrow1_col3\" class=\"data row1 col3\" >1950.0</td>\n",
       "                        <td id=\"T_a322a436_8199_11eb_8b2c_2025647917cbrow1_col4\" class=\"data row1 col4\" >2700.0</td>\n",
       "                        <td id=\"T_a322a436_8199_11eb_8b2c_2025647917cbrow1_col5\" class=\"data row1 col5\" >4650.0</td>\n",
       "            </tr>\n",
       "            <tr>\n",
       "                        <th id=\"T_a322a436_8199_11eb_8b2c_2025647917cblevel0_row2\" class=\"row_heading level0 row2\" >median</th>\n",
       "                        <td id=\"T_a322a436_8199_11eb_8b2c_2025647917cbrow2_col0\" class=\"data row2 col0\" >18.0</td>\n",
       "                        <td id=\"T_a322a436_8199_11eb_8b2c_2025647917cbrow2_col1\" class=\"data row2 col1\" >518.0</td>\n",
       "                        <td id=\"T_a322a436_8199_11eb_8b2c_2025647917cbrow2_col2\" class=\"data row2 col2\" >38.0</td>\n",
       "                        <td id=\"T_a322a436_8199_11eb_8b2c_2025647917cbrow2_col3\" class=\"data row2 col3\" >1950.0</td>\n",
       "                        <td id=\"T_a322a436_8199_11eb_8b2c_2025647917cbrow2_col4\" class=\"data row2 col4\" >0.0</td>\n",
       "                        <td id=\"T_a322a436_8199_11eb_8b2c_2025647917cbrow2_col5\" class=\"data row2 col5\" >1950.0</td>\n",
       "            </tr>\n",
       "            <tr>\n",
       "                        <th id=\"T_a322a436_8199_11eb_8b2c_2025647917cblevel0_row3\" class=\"row_heading level0 row3\" >mean</th>\n",
       "                        <td id=\"T_a322a436_8199_11eb_8b2c_2025647917cbrow3_col0\" class=\"data row3 col0\" >18.5</td>\n",
       "                        <td id=\"T_a322a436_8199_11eb_8b2c_2025647917cbrow3_col1\" class=\"data row3 col1\" >526.6</td>\n",
       "                        <td id=\"T_a322a436_8199_11eb_8b2c_2025647917cbrow3_col2\" class=\"data row3 col2\" >49.4</td>\n",
       "                        <td id=\"T_a322a436_8199_11eb_8b2c_2025647917cbrow3_col3\" class=\"data row3 col3\" >1950.0</td>\n",
       "                        <td id=\"T_a322a436_8199_11eb_8b2c_2025647917cbrow3_col4\" class=\"data row3 col4\" >100.7</td>\n",
       "                        <td id=\"T_a322a436_8199_11eb_8b2c_2025647917cbrow3_col5\" class=\"data row3 col5\" >2050.7</td>\n",
       "            </tr>\n",
       "            <tr>\n",
       "                        <th id=\"T_a322a436_8199_11eb_8b2c_2025647917cblevel0_row4\" class=\"row_heading level0 row4\" >var</th>\n",
       "                        <td id=\"T_a322a436_8199_11eb_8b2c_2025647917cbrow4_col0\" class=\"data row4 col0\" >96.9</td>\n",
       "                        <td id=\"T_a322a436_8199_11eb_8b2c_2025647917cbrow4_col1\" class=\"data row4 col1\" >100873.6</td>\n",
       "                        <td id=\"T_a322a436_8199_11eb_8b2c_2025647917cbrow4_col2\" class=\"data row4 col2\" >2285.3</td>\n",
       "                        <td id=\"T_a322a436_8199_11eb_8b2c_2025647917cbrow4_col3\" class=\"data row4 col3\" >0.0</td>\n",
       "                        <td id=\"T_a322a436_8199_11eb_8b2c_2025647917cbrow4_col4\" class=\"data row4 col4\" >114727.7</td>\n",
       "                        <td id=\"T_a322a436_8199_11eb_8b2c_2025647917cbrow4_col5\" class=\"data row4 col5\" >114727.7</td>\n",
       "            </tr>\n",
       "            <tr>\n",
       "                        <th id=\"T_a322a436_8199_11eb_8b2c_2025647917cblevel0_row5\" class=\"row_heading level0 row5\" >std</th>\n",
       "                        <td id=\"T_a322a436_8199_11eb_8b2c_2025647917cbrow5_col0\" class=\"data row5 col0\" >9.8</td>\n",
       "                        <td id=\"T_a322a436_8199_11eb_8b2c_2025647917cbrow5_col1\" class=\"data row5 col1\" >317.6</td>\n",
       "                        <td id=\"T_a322a436_8199_11eb_8b2c_2025647917cbrow5_col2\" class=\"data row5 col2\" >47.8</td>\n",
       "                        <td id=\"T_a322a436_8199_11eb_8b2c_2025647917cbrow5_col3\" class=\"data row5 col3\" >0.0</td>\n",
       "                        <td id=\"T_a322a436_8199_11eb_8b2c_2025647917cbrow5_col4\" class=\"data row5 col4\" >338.7</td>\n",
       "                        <td id=\"T_a322a436_8199_11eb_8b2c_2025647917cbrow5_col5\" class=\"data row5 col5\" >338.7</td>\n",
       "            </tr>\n",
       "    </tbody></table>"
      ],
      "text/plain": [
       "<pandas.io.formats.style.Styler at 0xf08bffeb0>"
      ]
     },
     "execution_count": 76,
     "metadata": {},
     "output_type": "execute_result"
    }
   ],
   "source": [
    "all_servises_ultra[['gb_used', 'duration', 'sms', 'monthly_payment', 'ex_payment_total', 'payment_total']].agg(['min', 'max', 'median','mean','var','std']).style.format(\"{:.1f}\")"
   ]
  },
  {
   "cell_type": "code",
   "execution_count": 77,
   "metadata": {},
   "outputs": [
    {
     "data": {
      "text/html": [
       "<div>\n",
       "<style scoped>\n",
       "    .dataframe tbody tr th:only-of-type {\n",
       "        vertical-align: middle;\n",
       "    }\n",
       "\n",
       "    .dataframe tbody tr th {\n",
       "        vertical-align: top;\n",
       "    }\n",
       "\n",
       "    .dataframe thead th {\n",
       "        text-align: right;\n",
       "    }\n",
       "</style>\n",
       "<table border=\"1\" class=\"dataframe\">\n",
       "  <thead>\n",
       "    <tr style=\"text-align: right;\">\n",
       "      <th></th>\n",
       "      <th>gb_used</th>\n",
       "      <th>duration</th>\n",
       "      <th>sms</th>\n",
       "      <th>ex_payment_total</th>\n",
       "    </tr>\n",
       "  </thead>\n",
       "  <tbody>\n",
       "    <tr>\n",
       "      <th>gb_used</th>\n",
       "      <td>1.000000</td>\n",
       "      <td>0.176591</td>\n",
       "      <td>0.173940</td>\n",
       "      <td>0.596056</td>\n",
       "    </tr>\n",
       "    <tr>\n",
       "      <th>duration</th>\n",
       "      <td>0.176591</td>\n",
       "      <td>1.000000</td>\n",
       "      <td>0.082084</td>\n",
       "      <td>0.092544</td>\n",
       "    </tr>\n",
       "    <tr>\n",
       "      <th>sms</th>\n",
       "      <td>0.173940</td>\n",
       "      <td>0.082084</td>\n",
       "      <td>1.000000</td>\n",
       "      <td>0.016143</td>\n",
       "    </tr>\n",
       "    <tr>\n",
       "      <th>ex_payment_total</th>\n",
       "      <td>0.596056</td>\n",
       "      <td>0.092544</td>\n",
       "      <td>0.016143</td>\n",
       "      <td>1.000000</td>\n",
       "    </tr>\n",
       "  </tbody>\n",
       "</table>\n",
       "</div>"
      ],
      "text/plain": [
       "                   gb_used  duration       sms  ex_payment_total\n",
       "gb_used           1.000000  0.176591  0.173940          0.596056\n",
       "duration          0.176591  1.000000  0.082084          0.092544\n",
       "sms               0.173940  0.082084  1.000000          0.016143\n",
       "ex_payment_total  0.596056  0.092544  0.016143          1.000000"
      ]
     },
     "execution_count": 77,
     "metadata": {},
     "output_type": "execute_result"
    }
   ],
   "source": [
    "all_servises_ultra[['gb_used', 'duration', 'sms','ex_payment_total']].corr()"
   ]
  },
  {
   "cell_type": "markdown",
   "metadata": {},
   "source": [
    "Для абонентов тарифного плана Ультра  зависимость между видами услуг отсутствует, также, как и в случае с тарифным планом Смарт: уменьшение или увеличение потребления одного вида сервиса не сказывается на снижении или росте объёма потребления других сервисов внутри тарифного плана. Небольшая зависимость наблюдается для объёма использованного трафика интернет и стоимости оплаты за услуги сверх лимита."
   ]
  },
  {
   "cell_type": "markdown",
   "metadata": {},
   "source": [
    "**Тариф Ultra- Интернет**"
   ]
  },
  {
   "cell_type": "code",
   "execution_count": 78,
   "metadata": {},
   "outputs": [
    {
     "data": {
      "image/png": "[encoded data removed]",
      "text/plain": [
       "<Figure size 1080x576 with 1 Axes>"
      ]
     },
     "metadata": {
      "needs_background": "light"
     },
     "output_type": "display_data"
    }
   ],
   "source": [
    "all_servises_ultra['gb_used'].plot(kind='hist', bins=35, figsize=(15,8), color='grey')\n",
    "plt.axvline(x=all_servises_ultra['gb_used'].median(),linewidth=3, color='red', linestyle='-')\n",
    "plt.axvline(x=all_servises_ultra['gb_used'].mean(),linewidth=3, color='black', linestyle='-')\n",
    "plt.legend(['Медиана','Среднее'])\n",
    "plt.title('Частота использования гигабайт в месяц по тарифу Ultra в разбивке по абонентам');"
   ]
  },
  {
   "cell_type": "markdown",
   "metadata": {},
   "source": [
    "Диаграмма выше отражает нормальное распределение данных по использованию Гигабайт. Пользователи услуги интернет тарифного плана Ультра  в большинстве случаев не используют сверхлимитный трафик.  \n",
    "На графике отчётливо видны выбросы. Используем правило Трёх Сигм чтобы выявить и удалить выбросы для дальнейшего анализа:"
   ]
  },
  {
   "cell_type": "code",
   "execution_count": 79,
   "metadata": {
    "scrolled": true
   },
   "outputs": [
    {
     "data": {
      "text/plain": [
       "48.06850857567695"
      ]
     },
     "execution_count": 79,
     "metadata": {},
     "output_type": "execute_result"
    }
   ],
   "source": [
    "all_servises_ultra['gb_used'].mean()+3*all_servises_ultra['gb_used'].std()"
   ]
  },
  {
   "cell_type": "markdown",
   "metadata": {},
   "source": [
    "Таким образом, для дальнейшего анализа значения по ежемесячному трафику выше 48,1 Гб/месяц не имеют смысла и будут удалены из анализа."
   ]
  },
  {
   "cell_type": "markdown",
   "metadata": {},
   "source": [
    "**Тариф Ultra- Телефония**"
   ]
  },
  {
   "cell_type": "code",
   "execution_count": 80,
   "metadata": {},
   "outputs": [
    {
     "data": {
      "image/png": "[encoded data removed]",
      "text/plain": [
       "<Figure size 1080x576 with 1 Axes>"
      ]
     },
     "metadata": {
      "needs_background": "light"
     },
     "output_type": "display_data"
    }
   ],
   "source": [
    "all_servises_ultra['duration'].plot(kind='hist', bins=35, figsize=(15,8), color='grey')\n",
    "plt.axvline(x=all_servises_ultra['duration'].median(),linewidth=3, color='red', linestyle='-')\n",
    "plt.axvline(x=all_servises_ultra['duration'].mean(),linewidth=3, color='black', linestyle='-')\n",
    "plt.legend(['Медиана','Среднее'])\n",
    "plt.title('Частота использования минут в месяц по тарифу Ultra в разбивке по абонентам');"
   ]
  },
  {
   "cell_type": "markdown",
   "metadata": {},
   "source": [
    "Для телефонии медианное и среднее значения  практически совпадают. Это говорит о небольшом количестве выбросов. Никто из пользователей не превысил отведённый им лимит для звонков 3000 минут: максимум зафиксирован  на 1579 минуте.  \n",
    "Распределение нормальное. Используем правило Трёх Сигм чтобы выявить и удалить выбросы для дальнейшего анализа:"
   ]
  },
  {
   "cell_type": "code",
   "execution_count": 81,
   "metadata": {
    "scrolled": true
   },
   "outputs": [
    {
     "data": {
      "text/plain": [
       "1479.4416438311864"
      ]
     },
     "execution_count": 81,
     "metadata": {},
     "output_type": "execute_result"
    }
   ],
   "source": [
    "all_servises_ultra['duration'].mean()+3*all_servises_ultra['duration'].std()"
   ]
  },
  {
   "cell_type": "markdown",
   "metadata": {},
   "source": [
    "Количество минут свыше 1479,4  в месяц для анализа не имеет смысла и может быть удалено.\n"
   ]
  },
  {
   "cell_type": "markdown",
   "metadata": {},
   "source": [
    "**Тариф Ultra- Сообщения**"
   ]
  },
  {
   "cell_type": "code",
   "execution_count": 82,
   "metadata": {},
   "outputs": [
    {
     "data": {
      "image/png": "[encoded data removed]",
      "text/plain": [
       "<Figure size 1080x576 with 1 Axes>"
      ]
     },
     "metadata": {
      "needs_background": "light"
     },
     "output_type": "display_data"
    }
   ],
   "source": [
    "all_servises_ultra['sms'].plot(kind='hist', bins=35, figsize=(15,8), color='grey')\n",
    "plt.axvline(x=all_servises_ultra['sms'].median(),linewidth=3, color='red', linestyle='-')\n",
    "plt.axvline(x=all_servises_ultra['sms'].mean(),linewidth=3, color='black', linestyle='-')\n",
    "plt.legend(['Медиана','Среднее'])\n",
    "plt.title('Частота использования сообщений в месяц по тарифу Ultra в разбивке по абонентам');"
   ]
  },
  {
   "cell_type": "markdown",
   "metadata": {},
   "source": [
    "Никто из пользователей услуги смс на тарифном плане Ультра не использовал услуг больше, чем предоставлено тарифным планом: максимальное число сообщений от одного пользователя в месяц составило 224 сообщения при лимите 1000. \n",
    "Данные скошены вправо, т.к. медиана меньше среднего.\n",
    "С условием нормального распределения используем правило Трёх Сигм чтобы выявить и удалить выбросы:"
   ]
  },
  {
   "cell_type": "code",
   "execution_count": 83,
   "metadata": {
    "scrolled": true
   },
   "outputs": [
    {
     "data": {
      "text/plain": [
       "192.77682382717393"
      ]
     },
     "execution_count": 83,
     "metadata": {},
     "output_type": "execute_result"
    }
   ],
   "source": [
    "all_servises_ultra['sms'].mean()+3*all_servises_ultra['sms'].std()"
   ]
  },
  {
   "cell_type": "markdown",
   "metadata": {},
   "source": [
    "Количество смс свыше 192,8 в месяц для анализа не имеет смысла и может быть удалено."
   ]
  },
  {
   "cell_type": "markdown",
   "metadata": {},
   "source": [
    "### Сравнительная характеристика тарифов"
   ]
  },
  {
   "cell_type": "markdown",
   "metadata": {},
   "source": [
    "**Интернет**"
   ]
  },
  {
   "cell_type": "code",
   "execution_count": 84,
   "metadata": {},
   "outputs": [
    {
     "data": {
      "image/png": "[encoded data removed]",
      "text/plain": [
       "<Figure size 1080x576 with 1 Axes>"
      ]
     },
     "metadata": {
      "needs_background": "light"
     },
     "output_type": "display_data"
    }
   ],
   "source": [
    "all_servises_smart['gb_used'].plot(kind='hist', bins=35, figsize=(15,8), alpha=0.5)\n",
    "plt.axvline(x=all_servises_smart['gb_used'].median(),linewidth=3, color='red', linestyle='-')\n",
    "plt.axvline(x=all_servises_smart['gb_used'].mean(),linewidth=3, color='black', linestyle='-')\n",
    "\n",
    "all_servises_ultra['gb_used'].plot(kind='hist', bins=35, figsize=(15,8), color='grey', alpha=0.5)\n",
    "plt.axvline(x=all_servises_ultra['gb_used'].median(),linewidth=3, color='red', linestyle='--')\n",
    "plt.axvline(x=all_servises_ultra['gb_used'].mean(),linewidth=3, color='black', linestyle='--')\n",
    "plt.legend(['Медиана Smart','Среднее Smart','Медиана Ultra','Среднее Ultra', 'Smart', 'Ultra'])\n",
    "plt.title('Частота использования гигабайт в месяц по тарифам Smart и Ultra в разбивке по абонентам');"
   ]
  },
  {
   "cell_type": "code",
   "execution_count": null,
   "metadata": {},
   "outputs": [],
   "source": [
    " "
   ]
  },
  {
   "cell_type": "markdown",
   "metadata": {},
   "source": [
    "**Телефония**"
   ]
  },
  {
   "cell_type": "code",
   "execution_count": 85,
   "metadata": {
    "scrolled": true
   },
   "outputs": [
    {
     "data": {
      "image/png": "[encoded data removed]",
      "text/plain": [
       "<Figure size 1080x576 with 1 Axes>"
      ]
     },
     "metadata": {
      "needs_background": "light"
     },
     "output_type": "display_data"
    }
   ],
   "source": [
    "all_servises_smart['duration'].plot(kind='hist', bins=35, figsize=(15,8), alpha=0.5)\n",
    "plt.axvline(x=all_servises_smart['duration'].median(),linewidth=3, color='red', linestyle='-')\n",
    "plt.axvline(x=all_servises_smart['duration'].mean(),linewidth=3, color='black', linestyle='-')\n",
    "\n",
    "all_servises_ultra['duration'].plot(kind='hist', bins=35, figsize=(15,8), color='grey', alpha=0.5)\n",
    "plt.axvline(x=all_servises_ultra['duration'].median(),linewidth=3, color='red', linestyle='--')\n",
    "plt.axvline(x=all_servises_ultra['duration'].mean(),linewidth=3, color='black', linestyle='--')\n",
    "plt.legend(['Медиана Smart','Среднее Smart','Медиана Ultra','Среднее Ultra', 'Smart', 'Ultra'])\n",
    "plt.title('Частота использования минут в месяц по тарифам Smart и Ultra в разбивке по абонентам');"
   ]
  },
  {
   "cell_type": "markdown",
   "metadata": {},
   "source": [
    "**Сообщения**"
   ]
  },
  {
   "cell_type": "code",
   "execution_count": 86,
   "metadata": {},
   "outputs": [
    {
     "data": {
      "image/png": "[encoded data removed]",
      "text/plain": [
       "<Figure size 1080x576 with 1 Axes>"
      ]
     },
     "metadata": {
      "needs_background": "light"
     },
     "output_type": "display_data"
    }
   ],
   "source": [
    "all_servises_smart['sms'].plot(kind='hist', bins=35, figsize=(15,8), alpha=0.5)\n",
    "plt.axvline(x=all_servises_smart['sms'].median(),linewidth=3, color='red', linestyle='-')\n",
    "plt.axvline(x=all_servises_smart['sms'].mean(),linewidth=3, color='black', linestyle='-')\n",
    "\n",
    "all_servises_ultra['sms'].plot(kind='hist', bins=35, figsize=(15,8), color='grey', alpha=0.5)\n",
    "plt.axvline(x=all_servises_ultra['sms'].median(),linewidth=3, color='red', linestyle='--')\n",
    "plt.axvline(x=all_servises_ultra['sms'].mean(),linewidth=3, color='black', linestyle='--')\n",
    "plt.legend(['Медиана Smart','Среднее Smart', 'Медиана Ultra','Среднее Ultra',  'Smart', 'Ultra'])\n",
    "plt.title('Частота использования сообщений в месяц по тарифам Smart и Ultra в разбивке по абонентам');"
   ]
  },
  {
   "cell_type": "code",
   "execution_count": 87,
   "metadata": {},
   "outputs": [],
   "source": [
    "smart_money= all_servises_smart[['monthly_payment', 'ex_payment_gb', 'ex_payment_minutes', 'ex_payment_sms', 'ex_payment_total', 'payment_total']].sum().reset_index()\n",
    "ultra_money= all_servises_ultra[['monthly_payment', 'ex_payment_gb', 'ex_payment_minutes', 'ex_payment_sms', 'ex_payment_total', 'payment_total']].sum().reset_index()"
   ]
  },
  {
   "cell_type": "code",
   "execution_count": 88,
   "metadata": {},
   "outputs": [
    {
     "data": {
      "text/html": [
       "<div>\n",
       "<style scoped>\n",
       "    .dataframe tbody tr th:only-of-type {\n",
       "        vertical-align: middle;\n",
       "    }\n",
       "\n",
       "    .dataframe tbody tr th {\n",
       "        vertical-align: top;\n",
       "    }\n",
       "\n",
       "    .dataframe thead th {\n",
       "        text-align: right;\n",
       "    }\n",
       "</style>\n",
       "<table border=\"1\" class=\"dataframe\">\n",
       "  <thead>\n",
       "    <tr style=\"text-align: right;\">\n",
       "      <th></th>\n",
       "      <th>index</th>\n",
       "      <th>0</th>\n",
       "    </tr>\n",
       "  </thead>\n",
       "  <tbody>\n",
       "    <tr>\n",
       "      <th>0</th>\n",
       "      <td>monthly_payment</td>\n",
       "      <td>1225950</td>\n",
       "    </tr>\n",
       "    <tr>\n",
       "      <th>1</th>\n",
       "      <td>ex_payment_gb</td>\n",
       "      <td>1081200</td>\n",
       "    </tr>\n",
       "    <tr>\n",
       "      <th>2</th>\n",
       "      <td>ex_payment_minutes</td>\n",
       "      <td>278217</td>\n",
       "    </tr>\n",
       "    <tr>\n",
       "      <th>3</th>\n",
       "      <td>ex_payment_sms</td>\n",
       "      <td>38784</td>\n",
       "    </tr>\n",
       "    <tr>\n",
       "      <th>4</th>\n",
       "      <td>ex_payment_total</td>\n",
       "      <td>1398201</td>\n",
       "    </tr>\n",
       "    <tr>\n",
       "      <th>5</th>\n",
       "      <td>payment_total</td>\n",
       "      <td>2624151</td>\n",
       "    </tr>\n",
       "  </tbody>\n",
       "</table>\n",
       "</div>"
      ],
      "text/plain": [
       "                index        0\n",
       "0     monthly_payment  1225950\n",
       "1       ex_payment_gb  1081200\n",
       "2  ex_payment_minutes   278217\n",
       "3      ex_payment_sms    38784\n",
       "4    ex_payment_total  1398201\n",
       "5       payment_total  2624151"
      ]
     },
     "execution_count": 88,
     "metadata": {},
     "output_type": "execute_result"
    }
   ],
   "source": [
    "smart_money"
   ]
  },
  {
   "cell_type": "code",
   "execution_count": 89,
   "metadata": {},
   "outputs": [
    {
     "data": {
      "text/html": [
       "<div>\n",
       "<style scoped>\n",
       "    .dataframe tbody tr th:only-of-type {\n",
       "        vertical-align: middle;\n",
       "    }\n",
       "\n",
       "    .dataframe tbody tr th {\n",
       "        vertical-align: top;\n",
       "    }\n",
       "\n",
       "    .dataframe thead th {\n",
       "        text-align: right;\n",
       "    }\n",
       "</style>\n",
       "<table border=\"1\" class=\"dataframe\">\n",
       "  <thead>\n",
       "    <tr style=\"text-align: right;\">\n",
       "      <th></th>\n",
       "      <th>index</th>\n",
       "      <th>0</th>\n",
       "    </tr>\n",
       "  </thead>\n",
       "  <tbody>\n",
       "    <tr>\n",
       "      <th>0</th>\n",
       "      <td>monthly_payment</td>\n",
       "      <td>1920750</td>\n",
       "    </tr>\n",
       "    <tr>\n",
       "      <th>1</th>\n",
       "      <td>ex_payment_gb</td>\n",
       "      <td>99150</td>\n",
       "    </tr>\n",
       "    <tr>\n",
       "      <th>2</th>\n",
       "      <td>ex_payment_minutes</td>\n",
       "      <td>0</td>\n",
       "    </tr>\n",
       "    <tr>\n",
       "      <th>3</th>\n",
       "      <td>ex_payment_sms</td>\n",
       "      <td>0</td>\n",
       "    </tr>\n",
       "    <tr>\n",
       "      <th>4</th>\n",
       "      <td>ex_payment_total</td>\n",
       "      <td>99150</td>\n",
       "    </tr>\n",
       "    <tr>\n",
       "      <th>5</th>\n",
       "      <td>payment_total</td>\n",
       "      <td>2019900</td>\n",
       "    </tr>\n",
       "  </tbody>\n",
       "</table>\n",
       "</div>"
      ],
      "text/plain": [
       "                index        0\n",
       "0     monthly_payment  1920750\n",
       "1       ex_payment_gb    99150\n",
       "2  ex_payment_minutes        0\n",
       "3      ex_payment_sms        0\n",
       "4    ex_payment_total    99150\n",
       "5       payment_total  2019900"
      ]
     },
     "execution_count": 89,
     "metadata": {},
     "output_type": "execute_result"
    }
   ],
   "source": [
    "ultra_money"
   ]
  },
  {
   "cell_type": "code",
   "execution_count": null,
   "metadata": {},
   "outputs": [],
   "source": []
  },
  {
   "cell_type": "markdown",
   "metadata": {},
   "source": [
    "### Вывод\n",
    "-  Абоненты тарифного плана Смарт чаще превышали лимиты по услуге интернет, чем пользователи интренет Ультра.\n",
    "\n",
    "- Телефония в обоих тарифных планах отличается очень высоким показателем дисперсии, что говорит о высокой степени разброса значений  в ряде данных.\n",
    "\n",
    "- С учётом нормального распределения данных были определены выбросы по каждому из сервисов для каждого тарифного плана. \n",
    "\n",
    "- Пользователи тарифного плана Ультра не превышали установленные лимиты по услугам телефония и отправка сообщений в течение исследуемого периода.\n",
    "\n",
    "- Между объёмом использования сервисов в рамках одного тарифного плана отсутствует корреляция: увеличение или сокращение использования одной из услуг не приводит к увеличению или снижению объёма потребления других услуг.\n",
    "\n",
    "- Пользователи интернет, независимо от тарифного плана используют близкие значения трафика по медиане: 17 для Смарт и 19 для Ультра. Следовательно, уже на этом этапе можно предполагать, что тарифный план Смарт для услуг интернет может быть более выгоден для компании Мегалайн. \n",
    "\n",
    "- Для обоих тарифных планов наблюдается взаимосвязь между оплатой сверх лимита и количеством потребляемых гигабайт интернет-трафика. Причём, эта связь сильнее для тарифного плана Смарт.\n",
    "\n",
    "- Сравнение частот использования услуг в разрезе тарифных планов ярко отражает разницу между тарифами: тариф Смарт используется более активно. Причина очевидна - Смарт использует гораздо большее число абонентов."
   ]
  },
  {
   "cell_type": "markdown",
   "metadata": {},
   "source": [
    "# Шаг 4. Проверка гипотез <a name=\"шаг-4\"></a>"
   ]
  },
  {
   "cell_type": "markdown",
   "metadata": {},
   "source": [
    "## 4.1. Гипотеза: средняя выручка пользователей тарифов Смарт и Ультра различается<a name=\"шаг-4-1\"></a>"
   ]
  },
  {
   "cell_type": "markdown",
   "metadata": {},
   "source": [
    "Сформулируем гипотезы:\n",
    "\n",
    "- H0 - нулевая гипотеза: выручка пользователей тарифов Смарт и Ультра **не различается**\n",
    "- H1 - альтернативная гипотеза: выручка пользователей тарифов Смарт и Ультра **различается**\n",
    "\n",
    "Для проверки данных гипотез проведём статистический тест и расчитаем покзатель значение вероятности (p-value) с учетом заданного показтеля критического уровня статистической значимости alpha. Пороговое значение альфа зададим в размере 5%. \n",
    "\n",
    "Если p-value окажется меньше alpha - отвергнем гипотезу.\n"
   ]
  },
  {
   "cell_type": "code",
   "execution_count": 90,
   "metadata": {},
   "outputs": [],
   "source": [
    "smart = all_servises_smart['payment_total'] #создадим Series для итоговой выручки каждого тарифного плана\n",
    "ultra = all_servises_ultra['payment_total']"
   ]
  },
  {
   "cell_type": "code",
   "execution_count": 91,
   "metadata": {},
   "outputs": [],
   "source": [
    "#smart = smart[~((smart-smart.mean()).abs() > 3*smart.std())] #устраняем выбросы за пределами 3 сигм"
   ]
  },
  {
   "cell_type": "code",
   "execution_count": 92,
   "metadata": {},
   "outputs": [],
   "source": [
    "#ultra = ultra[~((ultra-ultra.mean()).abs() > 3*ultra.std())] "
   ]
  },
  {
   "cell_type": "code",
   "execution_count": 93,
   "metadata": {},
   "outputs": [],
   "source": [
    "alpha = 0.05 # критический уровень статистической значимости"
   ]
  },
  {
   "cell_type": "code",
   "execution_count": 94,
   "metadata": {},
   "outputs": [
    {
     "name": "stdout",
     "output_type": "stream",
     "text": [
      "p-значение: 7.304764020044488e-223\n"
     ]
    }
   ],
   "source": [
    "results = st.ttest_ind(ultra, smart)\n",
    "\n",
    "print('p-значение:', results.pvalue) "
   ]
  },
  {
   "cell_type": "code",
   "execution_count": 95,
   "metadata": {},
   "outputs": [
    {
     "name": "stdout",
     "output_type": "stream",
     "text": [
      "cредняя выручка смарт: 1177.277254374159\n",
      "cредняя выручка ультра: 2050.659898477157\n",
      "Отвергаем нулевую гипотезу\n"
     ]
    }
   ],
   "source": [
    "print('cредняя выручка смарт:', smart.mean())\n",
    "print('cредняя выручка ультра:', ultra.mean())\n",
    "\n",
    "\n",
    "if results.pvalue < alpha:\n",
    "    print(\"Отвергаем нулевую гипотезу\")\n",
    "else:\n",
    "    print(\"Не получилось отвергнуть нулевую гипотезу\") "
   ]
  },
  {
   "cell_type": "markdown",
   "metadata": {},
   "source": [
    "Отвергаем нулевую гипотезу: выручка между двумя тарифами различается. Показатель p-значения чрезвычайно мал: 7.304764020044488e-223\n",
    "\n",
    "Если устранить выбросы,  то p-значение будет ещё меньше: : 1.9422742473718032e-268, тк к выбросам будут отнесены случаи превышения лимита по Ультра (по Ультра превышений лимита немного, и все эти превышения автоматически попадают в выбросы) и ряд становится однородным, отражающим только абонентскую плату. "
   ]
  },
  {
   "cell_type": "markdown",
   "metadata": {},
   "source": [
    "## 4.2. Гипотеза: средняя выручка пользователей из Москвы отличается от выручки пользователей из других регионов<a name=\"шаг-4-2\"></a>"
   ]
  },
  {
   "cell_type": "markdown",
   "metadata": {},
   "source": [
    "Сформулируем гипотезы:\n",
    "\n",
    "- H0 - нулевая гипотеза: между группами А1 и А2 \n",
    "- H1 - альтернативная гипотеза: выручка пользователей из Москвы и Регионов **различается**\n",
    "\n",
    " наличия значимых стат.различий в долях при проведении Z тестов\n",
    "\n",
    "Для проверки данных гипотез также расчитаем покзатель значение вероятности (p-value) с учетом заданного показателя критического уровня статистической значимости alpha. Пороговое значение альфа зададим в размере 5%. \n",
    "\n",
    "Если p-value окажется меньше alpha - отвергнем гипотезу."
   ]
  },
  {
   "cell_type": "code",
   "execution_count": 96,
   "metadata": {},
   "outputs": [],
   "source": [
    "moscow = all_servises.query('city == \"Москва\"').reset_index()   #создадим таблицы для итоговой выручки по Москве и Регионам\n",
    "regions = all_servises.query('city != \"Москва\"').reset_index()"
   ]
  },
  {
   "cell_type": "code",
   "execution_count": 97,
   "metadata": {},
   "outputs": [],
   "source": [
    "moscow_revenue = moscow['payment_total']"
   ]
  },
  {
   "cell_type": "code",
   "execution_count": 98,
   "metadata": {},
   "outputs": [],
   "source": [
    "regions_revenue = regions['payment_total']"
   ]
  },
  {
   "cell_type": "code",
   "execution_count": 99,
   "metadata": {},
   "outputs": [],
   "source": [
    "#moscow_revenue = moscow_revenue[~((moscow_revenue-moscow_revenue.mean()).abs() > 3*moscow_revenue.std())] #устраняем выбросы за пределами 3 сигм"
   ]
  },
  {
   "cell_type": "code",
   "execution_count": 100,
   "metadata": {},
   "outputs": [],
   "source": [
    "#regions_revenue = regions_revenue[~((regions_revenue-regions_revenue.mean()).abs() > 3*regions_revenue.std())] "
   ]
  },
  {
   "cell_type": "code",
   "execution_count": 101,
   "metadata": {},
   "outputs": [],
   "source": [
    "alpha = 0.05 # критический уровень статистической значимости"
   ]
  },
  {
   "cell_type": "code",
   "execution_count": 102,
   "metadata": {},
   "outputs": [
    {
     "name": "stdout",
     "output_type": "stream",
     "text": [
      "p-значение: 0.3729729010391226\n"
     ]
    }
   ],
   "source": [
    "results = st.ttest_ind(moscow_revenue, regions_revenue)\n",
    "\n",
    "print('p-значение:', results.pvalue) "
   ]
  },
  {
   "cell_type": "code",
   "execution_count": 103,
   "metadata": {},
   "outputs": [
    {
     "name": "stdout",
     "output_type": "stream",
     "text": [
      "cредняя выручка по Москве: 1470.0360065466448\n",
      "cредняя выручка по регионам: 1439.054552439493\n",
      "Не получилось отвергнуть нулевую гипотезу\n"
     ]
    }
   ],
   "source": [
    "print('cредняя выручка по Москве:', moscow_revenue.mean())\n",
    "print('cредняя выручка по регионам:', regions_revenue.mean())\n",
    "\n",
    "\n",
    "if results.pvalue < alpha:\n",
    "    print(\"Отвергаем нулевую гипотезу\")\n",
    "else:\n",
    "    print(\"Не получилось отвергнуть нулевую гипотезу\") "
   ]
  },
  {
   "cell_type": "markdown",
   "metadata": {},
   "source": [
    "Не получилось отвергнуть нулевую гипотезу: выручка от пользователей из  Москвы и Регионов практически одинакова с вероятностью 37%.  \n",
    "Если устранить выбросы,  то p-значение будет меньше (25%) за счёт устранения высоких показателей по некоторым регионам, однако показатель p-значения будет всё еще выше установленного уровня статистической значимости."
   ]
  },
  {
   "cell_type": "markdown",
   "metadata": {},
   "source": [
    "### Вывод\n",
    "\n",
    "Раздел Шаг 4 предполагал проверку двух гипотез о различии выручки.  Для проверки  гипотез проведён статистический тест и рассчитан покзатель значение вероятности (p-value) с учетом заданного показателя критического уровня статистической значимости alpha. Пороговое значение альфа было задано и в одном и в другом случае равное 5%. На основании полученного p-value и сравнения его с показателем критического уровня статистической значимости гипотезы отвергались или не отвергались. \n",
    "\n",
    "1) Подтвержена гипотеза о различии средней выручки пользователей тарифов Смарт и Ультра:\n",
    "    - В качестве нулевой гипотезы было озучено: выручка пользователей тарифов Смарт и Ультра не различается, соответственно, альтернативная гипотеза предполагала различие между выручками тарифов Смарт и Ультра. \n",
    "    - Нулевая гипотеза была отвергнута т.к. показатель p-значения чрезвычайно мал: 7.304764020044488e-223. Отвергая нулевую гипотезу мы принимаем, что выручка между двумя тарифами Смари и Ультра различается и гипотеза о различии средней выручки пользователей тарифов Смарт и Ультра подтверждается. \n",
    "    \n",
    "2) Отвергнута гипотеза об отличии средней выручки пользователей из Москвы  от выручки пользователей из других регионов:\n",
    "    - В качестве нулевой гипотезы было озучено:  выручка пользователей из Москвы и Регионов не различается. Соответственно, альтернативная гипотеза предполагала различие между выручками пользователей из Москвы и Регионов. \n",
    "    - Нулевую гипотезу не получилось отвергнуть, т.к. выручка между двумя тарифами практически одинакова с вероятностью 37%.\n",
    "    Поскольку нулевая гипотеза не была отвегнута мы принимаем, что гипотеза об отличии средней выручки пользователей из Москвы  от выручки пользователей из других регионов не подтверждается. \n",
    "  "
   ]
  },
  {
   "cell_type": "markdown",
   "metadata": {},
   "source": [
    "# Общие выводы <a name=\"шаг-5\"></a>\n",
    "\n",
    "Сравнение частот использования услуг в разрезе тарифных планов ярко отражает разницу между тарифами: тариф Смарт используется более активно. Причина очевидна - Смарт использует в 2,2 раза большее число абонентов.\n",
    "\n",
    "В целом выручка от тарифа Smart составила за год 2,80 млн.рублей при общем количестве абонентов (для данного среза)  - 2229, выручка от тарифа Ultra за этот же период 2,04 млн.рублей при общем количестве абонентов 985. \n",
    "\n",
    "Основная часть выручки по абонентской плате приходится на тарифный план Ultra, что является логичным: абонентска плата за использование этого тарифа превышает абонентскую плату за Smart в 3,5 раза. Достаточно ёмкий пакет Ultra также позволяет своим пользователям довольно редко выходить за рамки лимитов. Но превышение общей выручки по Smart по сравнению с Ultra объясняется оплатой за услуги, не предусмотренные лимитом. Как правило, пользователи Smart переплачивают за услуги Интернет.\n",
    "Важным фактором является практически одинаковый объем (по медиане) потребляемого абонентом в месяц для обоих тарифов - 17 для Smart и 19 для Ultra. И если в Ultra этот объём включён, то пользователи  Smart переплачивают за сверхлимитный интернет сумму практически равную сумме абонентской платы. Таким образом сейчас для компании тариф Smart выглядит более привлекательным.  \n",
    "\n",
    "На основе расчёта корреляции был сделан вывод, что увеличение или сокращение использования одной из услуг не приводит к увеличению или снижению объёма потребления других услуг внутри тарифных планов.  Для обоих тарифных планов наблюдается взаимосвязь между оплатой сверх лимита и количеством потребляемых гигабайт интернет-трафика. Причём, эта связь сильнее для тарифного плана Smart.\n",
    "\n",
    "На основе гипотез о  различии выручки между тарифами Смарт и Ультра и различии выручки от услуг в Москве и Регионах были сделаны  следующие выводы: тарифные планы приносят различную выручку, а абоненты в регионах генерят выручку практически не отличающуюся от выручки абонентов в других регионах страны. \n"
   ]
  },
  {
   "cell_type": "markdown",
   "metadata": {},
   "source": [
    "# Рекомендации <a name=\"шаг-6\"></a>\n",
    "Сейчас для компании тариф Smart выглядит более привлекательным: количество абонентов более чем в два раза превышает количество абонентов по тарифу Ultra. Выручка от Smart также на 30% превышает выручку от услуг тарифа Ultra. Превышение это обусловлено тем, что абонентам Smart очевидно не достаточно предложенного лимитом интернет-трафика в размере 15 Гб и они вынуждены переплачивать за дополнительный трафик. Медианные значения использованных гигабайт составляют 17 и 19 Гб для Smart и Ultra соответственно, то есть среднестатистический пользователь услуг интернет будет использовать трафик именно в этом интервале. \n",
    "Абоненты Smart переплачивают за 2 Гб сверхлимита практически по 400 рублей или 200 рублей за гигабайт, что, очевидно, значительно выше себестоимости. \n",
    "Отсюда можно предложить следующие варианты оптимизации  тарифов:\n",
    "\n",
    "1) снизить стомость услуг интернет сверх тарифного пакета Smart с 200 рублей за Гб до 150 рублей. В этом случае медианное значение потребления трафика может вырасти до  19 Гб, что приведёт к небольшому росту выручки.\n",
    "\n",
    "2) увеличить абонентскую плату  тарифного пакета Smart, увеличив количество включенных в пакет Гб с 15 до 20 Гб. \n",
    "\n",
    "3) снизить абонентскую плату за использование тарифа Ultra. Это может быть оправдвно тем, что абонеты тарифа практически не превышают установленные лимиты и абонентская плата выглядит завышенной. \n",
    "\n",
    "Последний третий пункт можно использовать для увеличения привлекательности тарифного плана Ultra. Этот тарифный план имеет большой потенциал и  требует дополнительной рекламы для дальнейшего продвижения и увеличения числа абонентов. Если количество абонентов Ultra приблизится к той же отметке, что и у Smart, выручка по Ultra  вырастет вдвое. "
   ]
  }
 ],
 "metadata": {
  "kernelspec": {
   "display_name": "Python 3",
   "language": "python",
   "name": "python3"
  },
  "language_info": {
   "codemirror_mode": {
    "name": "ipython",
    "version": 3
   },
   "file_extension": ".py",
   "mimetype": "text/x-python",
   "name": "python",
   "nbconvert_exporter": "python",
   "pygments_lexer": "ipython3",
   "version": "3.8.1"
  }
 },
 "nbformat": 4,
 "nbformat_minor": 2
}
